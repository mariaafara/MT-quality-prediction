{
  "nbformat": 4,
  "nbformat_minor": 5,
  "metadata": {
    "colab": {
      "name": "solution2.ipynb",
      "provenance": [],
      "collapsed_sections": [],
      "toc_visible": true
    },
    "kernelspec": {
      "display_name": "Python 3",
      "language": "python",
      "name": "python3"
    },
    "language_info": {
      "codemirror_mode": {
        "name": "ipython",
        "version": 3
      },
      "file_extension": ".py",
      "mimetype": "text/x-python",
      "name": "python",
      "nbconvert_exporter": "python",
      "pygments_lexer": "ipython3",
      "version": "3.8.6"
    }
  },
  "cells": [
    {
      "cell_type": "code",
      "metadata": {
        "colab": {
          "base_uri": "https://localhost:8080/"
        },
        "id": "bj8RcMaC3Ax4",
        "outputId": "a9269425-fa3b-4934-8733-19544234e60a"
      },
      "source": [
        "from google.colab import drive\n",
        "drive.mount('/content/gdrive')"
      ],
      "id": "bj8RcMaC3Ax4",
      "execution_count": 2,
      "outputs": [
        {
          "output_type": "stream",
          "text": [
            "Mounted at /content/gdrive\n"
          ],
          "name": "stdout"
        }
      ]
    },
    {
      "cell_type": "code",
      "metadata": {
        "colab": {
          "base_uri": "https://localhost:8080/"
        },
        "id": "acknowledged-elizabeth",
        "outputId": "625277bd-b9ae-4a8a-8dfd-1191f3bf4297"
      },
      "source": [
        "# Load libraries\n",
        "\n",
        "import pandas as pd\n",
        "import numpy as np\n",
        "import math\n",
        "import nltk\n",
        "import pickle as pkl\n",
        "import seaborn as sns\n",
        "import matplotlib.pyplot as plt\n",
        "from nltk.tokenize import word_tokenize\n",
        "from xgboost import XGBRegressor\n",
        "from sklearn.svm import SVR\n",
        "from sklearn.tree import DecisionTreeRegressor\n",
        "from sklearn.ensemble import RandomForestRegressor, VotingRegressor, AdaBoostRegressor, GradientBoostingRegressor, ExtraTreesRegressor\n",
        "from sklearn.neighbors import KNeighborsRegressor\n",
        "from sklearn.linear_model import Ridge, Lasso\n",
        "from sklearn import metrics\n",
        "from sklearn.pipeline import Pipeline\n",
        "from sklearn.metrics import mean_squared_error, mean_absolute_error, make_scorer\n",
        "from sklearn.preprocessing import RobustScaler, StandardScaler, MinMaxScaler, MaxAbsScaler\n",
        "from sklearn.model_selection import KFold, train_test_split, cross_validate, cross_val_score, RandomizedSearchCV, GridSearchCV, RepeatedStratifiedKFold\n",
        "from sklearn.preprocessing import PowerTransformer, QuantileTransformer\n",
        "from sklearn.compose import TransformedTargetRegressor\n",
        "\n",
        "nltk.download('punkt')\n",
        "\n",
        "sns.set_style('darkgrid')\n",
        "sns.set_color_codes(palette='dark')\n",
        "pd.set_option('display.max_colwidth', -1)"
      ],
      "id": "acknowledged-elizabeth",
      "execution_count": 3,
      "outputs": [
        {
          "output_type": "stream",
          "text": [
            "[nltk_data] Downloading package punkt to /root/nltk_data...\n",
            "[nltk_data]   Unzipping tokenizers/punkt.zip.\n"
          ],
          "name": "stdout"
        },
        {
          "output_type": "stream",
          "text": [
            "/usr/local/lib/python3.6/dist-packages/ipykernel_launcher.py:29: FutureWarning: Passing a negative integer is deprecated in version 1.0 and will not be supported in future version. Instead, use None to not limit the column width.\n"
          ],
          "name": "stderr"
        }
      ]
    },
    {
      "cell_type": "code",
      "metadata": {
        "colab": {
          "base_uri": "https://localhost:8080/"
        },
        "id": "wfq-YFBB3X0T",
        "outputId": "8b8c7b0c-93d8-4b46-9ea7-def5affd9b8c"
      },
      "source": [
        "cd gdrive/MyDrive/TER/"
      ],
      "id": "wfq-YFBB3X0T",
      "execution_count": 4,
      "outputs": [
        {
          "output_type": "stream",
          "text": [
            "/content/gdrive/MyDrive/TER\n"
          ],
          "name": "stdout"
        }
      ]
    },
    {
      "cell_type": "code",
      "metadata": {
        "id": "phantom-underwear"
      },
      "source": [
        "# load the tsv file into a dataframe\n",
        "df = pd.read_csv(\"data/triplets_ende_mt_scored.tsv\", names=[\"source\", 'target', 'reference', \"TER\"] ,sep=\".\\t\", encoding=\"utf8\",engine='python')"
      ],
      "id": "phantom-underwear",
      "execution_count": 4,
      "outputs": []
    },
    {
      "cell_type": "code",
      "metadata": {
        "colab": {
          "base_uri": "https://localhost:8080/",
          "height": 49
        },
        "id": "Lmns4Pfgi0QZ",
        "outputId": "eab88bd4-f0f6-4a6a-cbd9-199c91c86e45"
      },
      "source": [
        "# checking duplicated samples\n",
        "df[df.duplicated() == True]"
      ],
      "id": "Lmns4Pfgi0QZ",
      "execution_count": 5,
      "outputs": [
        {
          "output_type": "execute_result",
          "data": {
            "text/html": [
              "<div>\n",
              "<style scoped>\n",
              "    .dataframe tbody tr th:only-of-type {\n",
              "        vertical-align: middle;\n",
              "    }\n",
              "\n",
              "    .dataframe tbody tr th {\n",
              "        vertical-align: top;\n",
              "    }\n",
              "\n",
              "    .dataframe thead th {\n",
              "        text-align: right;\n",
              "    }\n",
              "</style>\n",
              "<table border=\"1\" class=\"dataframe\">\n",
              "  <thead>\n",
              "    <tr style=\"text-align: right;\">\n",
              "      <th></th>\n",
              "      <th>source</th>\n",
              "      <th>target</th>\n",
              "      <th>reference</th>\n",
              "      <th>TER</th>\n",
              "    </tr>\n",
              "  </thead>\n",
              "  <tbody>\n",
              "  </tbody>\n",
              "</table>\n",
              "</div>"
            ],
            "text/plain": [
              "Empty DataFrame\n",
              "Columns: [source, target, reference, TER]\n",
              "Index: []"
            ]
          },
          "metadata": {
            "tags": []
          },
          "execution_count": 5
        }
      ]
    },
    {
      "cell_type": "markdown",
      "metadata": {
        "id": "eihQe-nyjVOd"
      },
      "source": [
        "We don't have any!"
      ],
      "id": "eihQe-nyjVOd"
    },
    {
      "cell_type": "code",
      "metadata": {
        "colab": {
          "base_uri": "https://localhost:8080/",
          "height": 328
        },
        "id": "painted-exhaust",
        "outputId": "9ff79409-0a80-4a23-ac8e-e1c838f5dea9"
      },
      "source": [
        "df.head()"
      ],
      "id": "painted-exhaust",
      "execution_count": 6,
      "outputs": [
        {
          "output_type": "execute_result",
          "data": {
            "text/html": [
              "<div>\n",
              "<style scoped>\n",
              "    .dataframe tbody tr th:only-of-type {\n",
              "        vertical-align: middle;\n",
              "    }\n",
              "\n",
              "    .dataframe tbody tr th {\n",
              "        vertical-align: top;\n",
              "    }\n",
              "\n",
              "    .dataframe thead th {\n",
              "        text-align: right;\n",
              "    }\n",
              "</style>\n",
              "<table border=\"1\" class=\"dataframe\">\n",
              "  <thead>\n",
              "    <tr style=\"text-align: right;\">\n",
              "      <th></th>\n",
              "      <th>source</th>\n",
              "      <th>target</th>\n",
              "      <th>reference</th>\n",
              "      <th>TER</th>\n",
              "    </tr>\n",
              "  </thead>\n",
              "  <tbody>\n",
              "    <tr>\n",
              "      <th>0</th>\n",
              "      <td>José Ortega y Gasset visited Husserl at Freiburg in 1934</td>\n",
              "      <td>1934 besuchte José Ortega y Gasset Husserl in Freiburg</td>\n",
              "      <td>José Ortega y Gasset besuchte Husserl in Freiburg im Jahr 1934</td>\n",
              "      <td>0.33</td>\n",
              "    </tr>\n",
              "    <tr>\n",
              "      <th>1</th>\n",
              "      <td>however , a disappointing ninth in China meant that he dropped back to sixth in the standings</td>\n",
              "      <td>eine enttäuschende Neunte in China bedeutete jedoch , dass er in der Gesamtwertung auf den sechsten Platz zurückfiel</td>\n",
              "      <td>ein enttäuschender neunter Platz in China bedeutete jedoch , dass er in der Gesamtwertung auf den sechsten Platz zurückfiel</td>\n",
              "      <td>0.20</td>\n",
              "    </tr>\n",
              "    <tr>\n",
              "      <th>2</th>\n",
              "      <td>in his diary , Chase wrote that the release of Mason and Slidell \" … was like gall and wormwood to me</td>\n",
              "      <td>in seinem Tagebuch , Chase schrieb , dass die Veröffentlichung von Mason und Slidell \" war wie Galle und Wermut für mich</td>\n",
              "      <td>in seinem Tagebuch schrieb Chase , dass die Freilassung von Mason and Slidell „ ... wie Galle und Wermut für mich war</td>\n",
              "      <td>0.30</td>\n",
              "    </tr>\n",
              "    <tr>\n",
              "      <th>3</th>\n",
              "      <td>Heavy arquebuses mounted on wagons were called arquebus à croc</td>\n",
              "      <td>schwere Arquebuses auf Waggons montiert wurden Arquebus à croc genannt</td>\n",
              "      <td>schwere Arquebusen , die auf Wagen montiert waren , wurden „ Arquebus à croc \" genannt</td>\n",
              "      <td>0.47</td>\n",
              "    </tr>\n",
              "    <tr>\n",
              "      <th>4</th>\n",
              "      <td>once North Pacific salmon die off after spawning , usually local bald eagles eat salmon carcasses almost exclusively</td>\n",
              "      <td>sobald der nordpazifische Lachs nach dem Laichen abstirbt , fressen in der Regel lokale Glatzadler fast ausschließlich Lachskörper</td>\n",
              "      <td>sobald der nordpazifische Lachs nach dem Laichen abgestorben ist , fressen die örtlichen Weißkopfseeadler fast ausschließlich Lachsschlachtkörper</td>\n",
              "      <td>0.44</td>\n",
              "    </tr>\n",
              "  </tbody>\n",
              "</table>\n",
              "</div>"
            ],
            "text/plain": [
              "                                                                                                                  source  ...   TER\n",
              "0  José Ortega y Gasset visited Husserl at Freiburg in 1934                                                               ...  0.33\n",
              "1  however , a disappointing ninth in China meant that he dropped back to sixth in the standings                          ...  0.20\n",
              "2  in his diary , Chase wrote that the release of Mason and Slidell \" … was like gall and wormwood to me                  ...  0.30\n",
              "3  Heavy arquebuses mounted on wagons were called arquebus à croc                                                         ...  0.47\n",
              "4  once North Pacific salmon die off after spawning , usually local bald eagles eat salmon carcasses almost exclusively   ...  0.44\n",
              "\n",
              "[5 rows x 4 columns]"
            ]
          },
          "metadata": {
            "tags": []
          },
          "execution_count": 6
        }
      ]
    },
    {
      "cell_type": "markdown",
      "metadata": {
        "id": "remarkable-pioneer"
      },
      "source": [
        "# Part 1 "
      ],
      "id": "remarkable-pioneer"
    },
    {
      "cell_type": "markdown",
      "metadata": {
        "id": "yMUrwxAgCmxR"
      },
      "source": [
        " Why the choice of splitting on space without using strip() rathar than using it or using nltk word_tokenizer:\n",
        "\n",
        " Consider this example with simple edits that are easily spotted:"
      ],
      "id": "yMUrwxAgCmxR"
    },
    {
      "cell_type": "code",
      "metadata": {
        "colab": {
          "base_uri": "https://localhost:8080/"
        },
        "id": "onId8ayx4zVN",
        "outputId": "0aab52d6-b75f-4fa1-c36b-fe033d54322c"
      },
      "source": [
        "example = df.iloc[1]\n",
        "example"
      ],
      "id": "onId8ayx4zVN",
      "execution_count": 7,
      "outputs": [
        {
          "output_type": "execute_result",
          "data": {
            "text/plain": [
              "source       however , a disappointing ninth in China meant that he dropped back to sixth in the standings                               \n",
              "target       eine enttäuschende Neunte in China bedeutete jedoch , dass er in der Gesamtwertung auf den sechsten Platz zurückfiel        \n",
              "reference    ein enttäuschender neunter Platz in China bedeutete jedoch , dass er in der Gesamtwertung auf den sechsten Platz zurückfiel \n",
              "TER          0.2                                                                                                                         \n",
              "Name: 1, dtype: object"
            ]
          },
          "metadata": {
            "tags": []
          },
          "execution_count": 7
        }
      ]
    },
    {
      "cell_type": "code",
      "metadata": {
        "colab": {
          "base_uri": "https://localhost:8080/"
        },
        "id": "dWcJxcc0Brct",
        "outputId": "2ffaadcf-5e7f-42d4-ff91-0f6df58d6cac"
      },
      "source": [
        "print(\"Actual length: \",len(word_tokenize(example.reference)))\n",
        "print(\"Used length:\",len(example.reference.split(\" \")))"
      ],
      "id": "dWcJxcc0Brct",
      "execution_count": 8,
      "outputs": [
        {
          "output_type": "stream",
          "text": [
            "Actual length:  19\n",
            "Used length: 20\n"
          ],
          "name": "stdout"
        }
      ]
    },
    {
      "cell_type": "markdown",
      "metadata": {
        "id": "nxkJ9T8RC0MY"
      },
      "source": [
        "Comparing the target and reference sentence, we can see that there is 4 edits performed on the target sentence to match the reference one (3 alters and 1 addition). And, according to the definition, TER is the minimum number of edits normalized by the length of the reference sentence. The actual length of the reference sentence is 19 yet the results of 4/19 is not equal to the given TER score, but taking the length of the reference with just splitting results in 20 due to the presence of extra space at the end of the sentence and by that 4/20 is equal to the given TER. So, we carried on with normal string spliting. \n",
        "This is the case for all the sentences in the dataset, probably due to previous pre-processing done on the sentences. And it seems that the number of edits were normalized by the length of the sentences as they are present in the dataset."
      ],
      "id": "nxkJ9T8RC0MY"
    },
    {
      "cell_type": "markdown",
      "metadata": {
        "id": "7mLP9BXvGib2"
      },
      "source": [
        "## Compute the length of the source sentence at the word level\n"
      ],
      "id": "7mLP9BXvGib2"
    },
    {
      "cell_type": "code",
      "metadata": {
        "id": "auburn-parameter"
      },
      "source": [
        "def word_length(sen):\n",
        "    return len(sen.split(\" \"))\n",
        "\n",
        "df_length = pd.DataFrame()\n",
        "df_length['word_length'] = df[\"source\"].map(word_length)    \n",
        "df_length[\"TER\"] = df[\"TER\"]"
      ],
      "id": "auburn-parameter",
      "execution_count": 9,
      "outputs": []
    },
    {
      "cell_type": "code",
      "metadata": {
        "colab": {
          "base_uri": "https://localhost:8080/",
          "height": 206
        },
        "id": "simple-blend",
        "outputId": "4cc2cef5-17ff-4876-9fe2-e1f78ab4b82c"
      },
      "source": [
        "df_length.head(5)"
      ],
      "id": "simple-blend",
      "execution_count": 10,
      "outputs": [
        {
          "output_type": "execute_result",
          "data": {
            "text/html": [
              "<div>\n",
              "<style scoped>\n",
              "    .dataframe tbody tr th:only-of-type {\n",
              "        vertical-align: middle;\n",
              "    }\n",
              "\n",
              "    .dataframe tbody tr th {\n",
              "        vertical-align: top;\n",
              "    }\n",
              "\n",
              "    .dataframe thead th {\n",
              "        text-align: right;\n",
              "    }\n",
              "</style>\n",
              "<table border=\"1\" class=\"dataframe\">\n",
              "  <thead>\n",
              "    <tr style=\"text-align: right;\">\n",
              "      <th></th>\n",
              "      <th>word_length</th>\n",
              "      <th>TER</th>\n",
              "    </tr>\n",
              "  </thead>\n",
              "  <tbody>\n",
              "    <tr>\n",
              "      <th>0</th>\n",
              "      <td>11</td>\n",
              "      <td>0.33</td>\n",
              "    </tr>\n",
              "    <tr>\n",
              "      <th>1</th>\n",
              "      <td>18</td>\n",
              "      <td>0.20</td>\n",
              "    </tr>\n",
              "    <tr>\n",
              "      <th>2</th>\n",
              "      <td>23</td>\n",
              "      <td>0.30</td>\n",
              "    </tr>\n",
              "    <tr>\n",
              "      <th>3</th>\n",
              "      <td>11</td>\n",
              "      <td>0.47</td>\n",
              "    </tr>\n",
              "    <tr>\n",
              "      <th>4</th>\n",
              "      <td>19</td>\n",
              "      <td>0.44</td>\n",
              "    </tr>\n",
              "  </tbody>\n",
              "</table>\n",
              "</div>"
            ],
            "text/plain": [
              "   word_length   TER\n",
              "0  11           0.33\n",
              "1  18           0.20\n",
              "2  23           0.30\n",
              "3  11           0.47\n",
              "4  19           0.44"
            ]
          },
          "metadata": {
            "tags": []
          },
          "execution_count": 10
        }
      ]
    },
    {
      "cell_type": "markdown",
      "metadata": {
        "id": "riuLBKmF4Bth"
      },
      "source": [
        "## Plot the distribution plot of source sentences length"
      ],
      "id": "riuLBKmF4Bth"
    },
    {
      "cell_type": "code",
      "metadata": {
        "colab": {
          "base_uri": "https://localhost:8080/",
          "height": 623
        },
        "id": "dense-mounting",
        "outputId": "a72f2785-e2d3-456c-b604-a83a28c09576"
      },
      "source": [
        "f, ax = plt.subplots(figsize=(9, 9))\n",
        "sns.distplot(df_length['word_length'], color=\"c\", axlabel='word_length')\n",
        "ax.set(title=\"Histogram for word_length of the source sentence\")\n",
        "plt.show()"
      ],
      "id": "dense-mounting",
      "execution_count": 11,
      "outputs": [
        {
          "output_type": "stream",
          "text": [
            "/usr/local/lib/python3.6/dist-packages/seaborn/distributions.py:2557: FutureWarning: `distplot` is a deprecated function and will be removed in a future version. Please adapt your code to use either `displot` (a figure-level function with similar flexibility) or `histplot` (an axes-level function for histograms).\n",
            "  warnings.warn(msg, FutureWarning)\n"
          ],
          "name": "stderr"
        },
        {
          "output_type": "display_data",
          "data": {
            "image/png": "[encoded data removed]",
            "text/plain": [
              "<Figure size 648x648 with 1 Axes>"
            ]
          },
          "metadata": {
            "tags": []
          }
        }
      ]
    },
    {
      "cell_type": "markdown",
      "metadata": {
        "id": "-lYdcWN2GrTy"
      },
      "source": [
        "## Plot the distribution plot of TER"
      ],
      "id": "-lYdcWN2GrTy"
    },
    {
      "cell_type": "code",
      "metadata": {
        "colab": {
          "base_uri": "https://localhost:8080/",
          "height": 622
        },
        "id": "wBuN-SAM3-f8",
        "outputId": "554abdcf-3731-4b65-ace2-06ebe6beebd5"
      },
      "source": [
        "f, ax = plt.subplots(figsize=(9, 9))\n",
        "sns.distplot(df_length['TER'], color=\"c\", axlabel='TER')\n",
        "ax.set(title=\"Histogram for TER of the source sentence\")\n",
        "plt.show()"
      ],
      "id": "wBuN-SAM3-f8",
      "execution_count": 12,
      "outputs": [
        {
          "output_type": "stream",
          "text": [
            "/usr/local/lib/python3.6/dist-packages/seaborn/distributions.py:2557: FutureWarning: `distplot` is a deprecated function and will be removed in a future version. Please adapt your code to use either `displot` (a figure-level function with similar flexibility) or `histplot` (an axes-level function for histograms).\n",
            "  warnings.warn(msg, FutureWarning)\n"
          ],
          "name": "stderr"
        },
        {
          "output_type": "display_data",
          "data": {
            "image/png": "[encoded data removed]",
            "text/plain": [
              "<Figure size 648x648 with 1 Axes>"
            ]
          },
          "metadata": {
            "tags": []
          }
        }
      ]
    },
    {
      "cell_type": "code",
      "metadata": {
        "colab": {
          "base_uri": "https://localhost:8080/",
          "height": 458
        },
        "id": "aware-sitting",
        "outputId": "191f8b42-891f-469d-e117-aea150e0f8b6"
      },
      "source": [
        "sns.jointplot(data=df_length, x=\"word_length\", y=\"TER\", kind=\"hex\")"
      ],
      "id": "aware-sitting",
      "execution_count": 13,
      "outputs": [
        {
          "output_type": "execute_result",
          "data": {
            "text/plain": [
              "<seaborn.axisgrid.JointGrid at 0x7f7864483320>"
            ]
          },
          "metadata": {
            "tags": []
          },
          "execution_count": 13
        },
        {
          "output_type": "display_data",
          "data": {
            "image/png": "[encoded data removed]",
            "text/plain": [
              "<Figure size 432x432 with 3 Axes>"
            ]
          },
          "metadata": {
            "tags": []
          }
        }
      ]
    },
    {
      "cell_type": "code",
      "metadata": {
        "id": "22ug-m44aWoc"
      },
      "source": [
        "from sklearn.linear_model import LinearRegression\n",
        "lr = LinearRegression()\n",
        "lr.fit(df_length['word_length'].values.reshape(-1, 1), df_length['TER'].values.reshape(-1, 1))\n",
        "m, b = np.polyfit(df_length['word_length'], df_length['TER'], 1)"
      ],
      "id": "22ug-m44aWoc",
      "execution_count": 14,
      "outputs": []
    },
    {
      "cell_type": "code",
      "metadata": {
        "colab": {
          "base_uri": "https://localhost:8080/",
          "height": 282
        },
        "id": "foreign-arizona",
        "outputId": "ce78d518-063d-4567-9a8d-f5d04fc2d419"
      },
      "source": [
        "fig, ax = plt.subplots()\n",
        "ax.plot(range(5,40), m*range(5,40) + b)\n",
        "ax.scatter(x = df_length['word_length'], y = df_length['TER'])\n",
        "plt.ylabel('TER', fontsize=13)\n",
        "plt.xlabel('word_length', fontsize=13)\n",
        "plt.show()"
      ],
      "id": "foreign-arizona",
      "execution_count": 15,
      "outputs": [
        {
          "output_type": "display_data",
          "data": {
            "image/png": "[encoded data removed]",
            "text/plain": [
              "<Figure size 432x288 with 1 Axes>"
            ]
          },
          "metadata": {
            "tags": []
          }
        }
      ]
    },
    {
      "cell_type": "markdown",
      "metadata": {
        "id": "aerial-thomas"
      },
      "source": [
        "## Comments\n",
        "We can clearly see that there is no correlation between the length of the source sentence and the TER.\n",
        "\n",
        "Its difficult for any linear model to fit and generalize this problem. Even after some test done on several transformation(log, powerTransformation, etc), the same problem remaind. This feature alone will not be enough."
      ],
      "id": "aerial-thomas"
    },
    {
      "cell_type": "markdown",
      "metadata": {
        "id": "serial-promotion"
      },
      "source": [
        "## Predicting TER from the sentence length alone."
      ],
      "id": "serial-promotion"
    },
    {
      "cell_type": "markdown",
      "metadata": {
        "id": "convinced-witch"
      },
      "source": [
        "### Make train-validation and test data sets."
      ],
      "id": "convinced-witch"
    },
    {
      "cell_type": "code",
      "metadata": {
        "id": "elegant-percentage"
      },
      "source": [
        "X = df_length[[\"word_length\"]].values.astype(np.float32)\n",
        "y = df_length[\"TER\"].values.astype(np.float32)\n",
        "\n",
        "X_train, X_test, y_train, y_test = train_test_split(X, y, test_size=0.1, random_state=0)"
      ],
      "id": "elegant-percentage",
      "execution_count": 16,
      "outputs": []
    },
    {
      "cell_type": "markdown",
      "metadata": {
        "id": "djfnoOpgX0ko"
      },
      "source": [
        "### Define BaseLine models.\n"
      ],
      "id": "djfnoOpgX0ko"
    },
    {
      "cell_type": "code",
      "metadata": {
        "id": "QdFlv3nWXvp6"
      },
      "source": [
        "def get_baseline_models():\n",
        "  \"\"\"Method that returns a list and names of regression models of interest\"\"\"\n",
        "  basedModels = [\n",
        "            SVR(),\n",
        "            XGBRegressor(random_state=random_state, verbosity=0),\n",
        "            AdaBoostRegressor(DecisionTreeRegressor(random_state=random_state)),\n",
        "            GradientBoostingRegressor(random_state=random_state),\n",
        "            DecisionTreeRegressor(random_state=random_state),\n",
        "            RandomForestRegressor(random_state=random_state),\n",
        "            ExtraTreesRegressor(random_state=random_state),\n",
        "            KNeighborsRegressor(),\n",
        "            Ridge(random_state=random_state),\n",
        "            Lasso(),\n",
        "            ]\n",
        "\n",
        "  model_names = []\n",
        "  for model in basedModels:\n",
        "    model_names.append(type(model).__name__)\n",
        "\n",
        "  return basedModels, model_names\n",
        "\n",
        "random_state=2\n",
        "\n",
        "\n",
        "def evaluate_models(X, y, models, Kfold=5):\n",
        "  \"\"\"Method that cross validate a list of models and returns their mean rmse and mae scores\"\"\"\n",
        "\n",
        "  results = []\n",
        "  for model in models:\n",
        "    cv_result = cross_validate(model, X, y, cv=Kfold, return_estimator=False, \n",
        "                               scoring={\"mse\": make_scorer(mean_squared_error, greater_is_better=False), \n",
        "                                        \"mae\": make_scorer(mean_absolute_error, greater_is_better=False)})\n",
        "    \n",
        "    rmse_score = np.sqrt((-1) * cv_result[\"test_mse\"].mean())\n",
        "    mae_score = - cv_result[\"test_mae\"].mean()\n",
        "    results.append([rmse_score, mae_score])\n",
        "  return results\n",
        "        "
      ],
      "id": "QdFlv3nWXvp6",
      "execution_count": 17,
      "outputs": []
    },
    {
      "cell_type": "code",
      "metadata": {
        "colab": {
          "base_uri": "https://localhost:8080/",
          "height": 412
        },
        "id": "pAFlvDjPXuXX",
        "outputId": "d2c046c7-6c6e-4341-bc87-745dcfb14899"
      },
      "source": [
        "models , model_names = get_baseline_models()\n",
        "scores = evaluate_models(X_train, y_train, models)\n",
        "\n",
        "type_col = ['baseline_models']\n",
        "cols = pd.MultiIndex.from_product([type_col, ['RMSE', 'MAE']])\n",
        "evaluation = pd.DataFrame(scores, columns=cols, index=model_names)\n",
        "\n",
        "print(\"Following are the cross validated scores: \")\n",
        "evaluation"
      ],
      "id": "pAFlvDjPXuXX",
      "execution_count": 18,
      "outputs": [
        {
          "output_type": "stream",
          "text": [
            "Following are the cross validated scores: \n"
          ],
          "name": "stdout"
        },
        {
          "output_type": "execute_result",
          "data": {
            "text/html": [
              "<div>\n",
              "<style scoped>\n",
              "    .dataframe tbody tr th:only-of-type {\n",
              "        vertical-align: middle;\n",
              "    }\n",
              "\n",
              "    .dataframe tbody tr th {\n",
              "        vertical-align: top;\n",
              "    }\n",
              "\n",
              "    .dataframe thead tr th {\n",
              "        text-align: left;\n",
              "    }\n",
              "</style>\n",
              "<table border=\"1\" class=\"dataframe\">\n",
              "  <thead>\n",
              "    <tr>\n",
              "      <th></th>\n",
              "      <th colspan=\"2\" halign=\"left\">baseline_models</th>\n",
              "    </tr>\n",
              "    <tr>\n",
              "      <th></th>\n",
              "      <th>RMSE</th>\n",
              "      <th>MAE</th>\n",
              "    </tr>\n",
              "  </thead>\n",
              "  <tbody>\n",
              "    <tr>\n",
              "      <th>SVR</th>\n",
              "      <td>0.205468</td>\n",
              "      <td>0.161887</td>\n",
              "    </tr>\n",
              "    <tr>\n",
              "      <th>XGBRegressor</th>\n",
              "      <td>0.204845</td>\n",
              "      <td>0.162927</td>\n",
              "    </tr>\n",
              "    <tr>\n",
              "      <th>AdaBoostRegressor</th>\n",
              "      <td>0.211042</td>\n",
              "      <td>0.170504</td>\n",
              "    </tr>\n",
              "    <tr>\n",
              "      <th>GradientBoostingRegressor</th>\n",
              "      <td>0.204913</td>\n",
              "      <td>0.162970</td>\n",
              "    </tr>\n",
              "    <tr>\n",
              "      <th>DecisionTreeRegressor</th>\n",
              "      <td>0.205059</td>\n",
              "      <td>0.163064</td>\n",
              "    </tr>\n",
              "    <tr>\n",
              "      <th>RandomForestRegressor</th>\n",
              "      <td>0.205031</td>\n",
              "      <td>0.162997</td>\n",
              "    </tr>\n",
              "    <tr>\n",
              "      <th>ExtraTreesRegressor</th>\n",
              "      <td>0.205037</td>\n",
              "      <td>0.163045</td>\n",
              "    </tr>\n",
              "    <tr>\n",
              "      <th>KNeighborsRegressor</th>\n",
              "      <td>0.225222</td>\n",
              "      <td>0.178873</td>\n",
              "    </tr>\n",
              "    <tr>\n",
              "      <th>Ridge</th>\n",
              "      <td>0.204745</td>\n",
              "      <td>0.162920</td>\n",
              "    </tr>\n",
              "    <tr>\n",
              "      <th>Lasso</th>\n",
              "      <td>0.204756</td>\n",
              "      <td>0.162939</td>\n",
              "    </tr>\n",
              "  </tbody>\n",
              "</table>\n",
              "</div>"
            ],
            "text/plain": [
              "                          baseline_models          \n",
              "                                     RMSE       MAE\n",
              "SVR                        0.205468        0.161887\n",
              "XGBRegressor               0.204845        0.162927\n",
              "AdaBoostRegressor          0.211042        0.170504\n",
              "GradientBoostingRegressor  0.204913        0.162970\n",
              "DecisionTreeRegressor      0.205059        0.163064\n",
              "RandomForestRegressor      0.205031        0.162997\n",
              "ExtraTreesRegressor        0.205037        0.163045\n",
              "KNeighborsRegressor        0.225222        0.178873\n",
              "Ridge                      0.204745        0.162920\n",
              "Lasso                      0.204756        0.162939"
            ]
          },
          "metadata": {
            "tags": []
          },
          "execution_count": 18
        }
      ]
    },
    {
      "cell_type": "markdown",
      "metadata": {
        "id": "hJeel80CmVMD"
      },
      "source": [
        "Ridge model has the smallest RMSE and SVR has the smallest MAE."
      ],
      "id": "hJeel80CmVMD"
    },
    {
      "cell_type": "markdown",
      "metadata": {
        "id": "TpGo9EcbpG2o"
      },
      "source": [
        "### Feature Engineering - data preprocessing\n",
        "\n",
        "Tree based models does not depend on scaling, while Non-tree based models depend hugely on it.\n",
        "\n",
        "We will try some preprocessing and see how the model prediction will change by scalling.\n"
      ],
      "id": "TpGo9EcbpG2o"
    },
    {
      "cell_type": "code",
      "metadata": {
        "colab": {
          "base_uri": "https://localhost:8080/"
        },
        "id": "rTKzkHnwqAD5",
        "outputId": "7d09e8b2-460e-4473-ae13-4c4781f1c204"
      },
      "source": [
        "model_names"
      ],
      "id": "rTKzkHnwqAD5",
      "execution_count": 19,
      "outputs": [
        {
          "output_type": "execute_result",
          "data": {
            "text/plain": [
              "['SVR',\n",
              " 'XGBRegressor',\n",
              " 'AdaBoostRegressor',\n",
              " 'GradientBoostingRegressor',\n",
              " 'DecisionTreeRegressor',\n",
              " 'RandomForestRegressor',\n",
              " 'ExtraTreesRegressor',\n",
              " 'KNeighborsRegressor',\n",
              " 'Ridge',\n",
              " 'Lasso']"
            ]
          },
          "metadata": {
            "tags": []
          },
          "execution_count": 19
        }
      ]
    },
    {
      "cell_type": "code",
      "metadata": {
        "id": "wMpPRaRuXuaK"
      },
      "source": [
        "def get_scaled_models(models, scaler_name, for_='f'):\n",
        "    \"\"\"\n",
        "    Method that takes a list of models and scaler name and whether to apply it on features or target output.\n",
        "    It returns a list that containes a pipeline of the scaler name entered and a model.\n",
        "\n",
        "    param models: list of models.\n",
        "    param scaler_name: either 'yeo-johnson', 'box-cox', \"quantile\", 'minmax', 'maxabs', 'standard'.\n",
        "    for_: 'f' for features, 't' for target.\n",
        "    \"\"\"\n",
        "    if scaler_name == 'yeo-johnson':\n",
        "      scaler = PowerTransformer(method=scaler_name)\n",
        "    elif scaler_name == 'box-cox':\n",
        "      scaler = PowerTransformer(method=scaler_name)\n",
        "    elif scaler_name == \"quantile\":\n",
        "      scaler_name = \"quantile\"\n",
        "      scaler = QuantileTransformer(output_distribution='normal')\n",
        "    elif scaler_name == 'minmax':\n",
        "      scaler = MinMaxScaler()\n",
        "    elif scaler_name == 'maxabs':\n",
        "      scaler = MaxAbsScaler()\n",
        "    elif scaler_name == 'standard':\n",
        "      scaler = StandardScaler()\n",
        "\n",
        "    pipelines = []\n",
        "    for model in models:\n",
        "      model_name = type(model).__name__\n",
        "      if for_ == 'f':\n",
        "        pipelines.append(Pipeline([('scaler', scaler), (model_name, model)]))\n",
        "      elif for_ == 't':\n",
        "        pipelines.append(TransformedTargetRegressor(regressor=model, transformer=scaler))\n",
        "    return pipelines"
      ],
      "id": "wMpPRaRuXuaK",
      "execution_count": 20,
      "outputs": []
    },
    {
      "cell_type": "markdown",
      "metadata": {
        "id": "I_aAtE71myZn"
      },
      "source": [
        "Lets compare the baseline models with using scalers and transformation of features and the target values"
      ],
      "id": "I_aAtE71myZn"
    },
    {
      "cell_type": "code",
      "metadata": {
        "id": "2W5cS-u3o9dP"
      },
      "source": [
        "scalers = ['standard', 'maxabs', 'minmax',  'quantile', 'box-cox', 'yeo-johnson']\n",
        "\n",
        "evaluations = [evaluation]\n",
        "for for_ in ['f', 't']:\n",
        "  for scaler in scalers:\n",
        "    pipelines = get_scaled_models(models, scaler, for_)\n",
        "    if scaler == 'box-cox':\n",
        "      scores = evaluate_models(X_train, y_train+ 10e-10, pipelines)\n",
        "    else:\n",
        "      scores = evaluate_models(X_train, y_train, pipelines)\n",
        "    type_col = [for_+'_'+scaler]\n",
        "    cols = pd.MultiIndex.from_product([type_col, ['RMSE', 'MAE']])\n",
        "    new_evaluation = pd.DataFrame(scores, columns=cols, index=model_names)\n",
        "    evaluations.append(new_evaluation)\n",
        "\n",
        "comparison = pd.concat(evaluations, axis=1)"
      ],
      "id": "2W5cS-u3o9dP",
      "execution_count": null,
      "outputs": []
    },
    {
      "cell_type": "code",
      "metadata": {
        "colab": {
          "base_uri": "https://localhost:8080/",
          "height": 414
        },
        "id": "xoKg4MPiq4nh",
        "outputId": "6693935e-016b-4318-e30c-d78a9e5eab55"
      },
      "source": [
        "comparison"
      ],
      "id": "xoKg4MPiq4nh",
      "execution_count": 22,
      "outputs": [
        {
          "output_type": "execute_result",
          "data": {
            "text/html": [
              "<div>\n",
              "<style scoped>\n",
              "    .dataframe tbody tr th:only-of-type {\n",
              "        vertical-align: middle;\n",
              "    }\n",
              "\n",
              "    .dataframe tbody tr th {\n",
              "        vertical-align: top;\n",
              "    }\n",
              "\n",
              "    .dataframe thead tr th {\n",
              "        text-align: left;\n",
              "    }\n",
              "</style>\n",
              "<table border=\"1\" class=\"dataframe\">\n",
              "  <thead>\n",
              "    <tr>\n",
              "      <th></th>\n",
              "      <th colspan=\"2\" halign=\"left\">baseline_models</th>\n",
              "      <th colspan=\"2\" halign=\"left\">f_standard</th>\n",
              "      <th colspan=\"2\" halign=\"left\">f_maxabs</th>\n",
              "      <th colspan=\"2\" halign=\"left\">f_minmax</th>\n",
              "      <th colspan=\"2\" halign=\"left\">f_quantile</th>\n",
              "      <th colspan=\"2\" halign=\"left\">f_box-cox</th>\n",
              "      <th colspan=\"2\" halign=\"left\">f_yeo-johnson</th>\n",
              "      <th colspan=\"2\" halign=\"left\">t_standard</th>\n",
              "      <th colspan=\"2\" halign=\"left\">t_maxabs</th>\n",
              "      <th colspan=\"2\" halign=\"left\">t_minmax</th>\n",
              "      <th colspan=\"2\" halign=\"left\">t_quantile</th>\n",
              "      <th colspan=\"2\" halign=\"left\">t_box-cox</th>\n",
              "      <th colspan=\"2\" halign=\"left\">t_yeo-johnson</th>\n",
              "    </tr>\n",
              "    <tr>\n",
              "      <th></th>\n",
              "      <th>RMSE</th>\n",
              "      <th>MAE</th>\n",
              "      <th>RMSE</th>\n",
              "      <th>MAE</th>\n",
              "      <th>RMSE</th>\n",
              "      <th>MAE</th>\n",
              "      <th>RMSE</th>\n",
              "      <th>MAE</th>\n",
              "      <th>RMSE</th>\n",
              "      <th>MAE</th>\n",
              "      <th>RMSE</th>\n",
              "      <th>MAE</th>\n",
              "      <th>RMSE</th>\n",
              "      <th>MAE</th>\n",
              "      <th>RMSE</th>\n",
              "      <th>MAE</th>\n",
              "      <th>RMSE</th>\n",
              "      <th>MAE</th>\n",
              "      <th>RMSE</th>\n",
              "      <th>MAE</th>\n",
              "      <th>RMSE</th>\n",
              "      <th>MAE</th>\n",
              "      <th>RMSE</th>\n",
              "      <th>MAE</th>\n",
              "      <th>RMSE</th>\n",
              "      <th>MAE</th>\n",
              "    </tr>\n",
              "  </thead>\n",
              "  <tbody>\n",
              "    <tr>\n",
              "      <th>SVR</th>\n",
              "      <td>0.205468</td>\n",
              "      <td>0.161887</td>\n",
              "      <td>0.205467</td>\n",
              "      <td>0.161890</td>\n",
              "      <td>0.205467</td>\n",
              "      <td>0.161889</td>\n",
              "      <td>0.205466</td>\n",
              "      <td>0.161890</td>\n",
              "      <td>0.205401</td>\n",
              "      <td>0.161852</td>\n",
              "      <td>0.205588</td>\n",
              "      <td>0.161877</td>\n",
              "      <td>0.205596</td>\n",
              "      <td>0.161875</td>\n",
              "      <td>0.205837</td>\n",
              "      <td>0.161839</td>\n",
              "      <td>0.205386</td>\n",
              "      <td>0.162304</td>\n",
              "      <td>0.205390</td>\n",
              "      <td>0.162306</td>\n",
              "      <td>0.205722</td>\n",
              "      <td>0.161816</td>\n",
              "      <td>0.206107</td>\n",
              "      <td>0.161875</td>\n",
              "      <td>0.205791</td>\n",
              "      <td>0.161823</td>\n",
              "    </tr>\n",
              "    <tr>\n",
              "      <th>XGBRegressor</th>\n",
              "      <td>0.204845</td>\n",
              "      <td>0.162927</td>\n",
              "      <td>0.204845</td>\n",
              "      <td>0.162927</td>\n",
              "      <td>0.204845</td>\n",
              "      <td>0.162927</td>\n",
              "      <td>0.204845</td>\n",
              "      <td>0.162927</td>\n",
              "      <td>0.204812</td>\n",
              "      <td>0.162892</td>\n",
              "      <td>0.204845</td>\n",
              "      <td>0.162927</td>\n",
              "      <td>0.204845</td>\n",
              "      <td>0.162927</td>\n",
              "      <td>0.204848</td>\n",
              "      <td>0.162932</td>\n",
              "      <td>0.204841</td>\n",
              "      <td>0.162925</td>\n",
              "      <td>0.204841</td>\n",
              "      <td>0.162925</td>\n",
              "      <td>0.217704</td>\n",
              "      <td>0.166857</td>\n",
              "      <td>0.214046</td>\n",
              "      <td>0.164844</td>\n",
              "      <td>0.206496</td>\n",
              "      <td>0.162039</td>\n",
              "    </tr>\n",
              "    <tr>\n",
              "      <th>AdaBoostRegressor</th>\n",
              "      <td>0.211042</td>\n",
              "      <td>0.170504</td>\n",
              "      <td>0.211219</td>\n",
              "      <td>0.170701</td>\n",
              "      <td>0.210942</td>\n",
              "      <td>0.170329</td>\n",
              "      <td>0.210657</td>\n",
              "      <td>0.170272</td>\n",
              "      <td>0.211598</td>\n",
              "      <td>0.171137</td>\n",
              "      <td>0.210053</td>\n",
              "      <td>0.169597</td>\n",
              "      <td>0.210494</td>\n",
              "      <td>0.170111</td>\n",
              "      <td>0.211210</td>\n",
              "      <td>0.170535</td>\n",
              "      <td>0.211205</td>\n",
              "      <td>0.170587</td>\n",
              "      <td>0.211655</td>\n",
              "      <td>0.170902</td>\n",
              "      <td>0.297065</td>\n",
              "      <td>0.228717</td>\n",
              "      <td>0.241511</td>\n",
              "      <td>0.182623</td>\n",
              "      <td>0.206018</td>\n",
              "      <td>0.162295</td>\n",
              "    </tr>\n",
              "    <tr>\n",
              "      <th>GradientBoostingRegressor</th>\n",
              "      <td>0.204913</td>\n",
              "      <td>0.162970</td>\n",
              "      <td>0.204913</td>\n",
              "      <td>0.162970</td>\n",
              "      <td>0.204913</td>\n",
              "      <td>0.162970</td>\n",
              "      <td>0.204913</td>\n",
              "      <td>0.162970</td>\n",
              "      <td>0.204868</td>\n",
              "      <td>0.162919</td>\n",
              "      <td>0.204905</td>\n",
              "      <td>0.162958</td>\n",
              "      <td>0.204905</td>\n",
              "      <td>0.162958</td>\n",
              "      <td>0.204913</td>\n",
              "      <td>0.162970</td>\n",
              "      <td>0.204913</td>\n",
              "      <td>0.162970</td>\n",
              "      <td>0.204913</td>\n",
              "      <td>0.162970</td>\n",
              "      <td>0.217827</td>\n",
              "      <td>0.166942</td>\n",
              "      <td>0.214093</td>\n",
              "      <td>0.164876</td>\n",
              "      <td>0.206569</td>\n",
              "      <td>0.162098</td>\n",
              "    </tr>\n",
              "    <tr>\n",
              "      <th>DecisionTreeRegressor</th>\n",
              "      <td>0.205059</td>\n",
              "      <td>0.163064</td>\n",
              "      <td>0.205059</td>\n",
              "      <td>0.163064</td>\n",
              "      <td>0.205059</td>\n",
              "      <td>0.163064</td>\n",
              "      <td>0.205059</td>\n",
              "      <td>0.163064</td>\n",
              "      <td>0.205009</td>\n",
              "      <td>0.163009</td>\n",
              "      <td>0.205049</td>\n",
              "      <td>0.163049</td>\n",
              "      <td>0.205049</td>\n",
              "      <td>0.163049</td>\n",
              "      <td>0.205059</td>\n",
              "      <td>0.163064</td>\n",
              "      <td>0.205059</td>\n",
              "      <td>0.163064</td>\n",
              "      <td>0.205059</td>\n",
              "      <td>0.163064</td>\n",
              "      <td>0.217815</td>\n",
              "      <td>0.166960</td>\n",
              "      <td>0.214208</td>\n",
              "      <td>0.164973</td>\n",
              "      <td>0.206674</td>\n",
              "      <td>0.162161</td>\n",
              "    </tr>\n",
              "    <tr>\n",
              "      <th>RandomForestRegressor</th>\n",
              "      <td>0.205031</td>\n",
              "      <td>0.162997</td>\n",
              "      <td>0.205033</td>\n",
              "      <td>0.163006</td>\n",
              "      <td>0.205031</td>\n",
              "      <td>0.162997</td>\n",
              "      <td>0.205032</td>\n",
              "      <td>0.162998</td>\n",
              "      <td>0.204983</td>\n",
              "      <td>0.162946</td>\n",
              "      <td>0.205004</td>\n",
              "      <td>0.162982</td>\n",
              "      <td>0.205004</td>\n",
              "      <td>0.162982</td>\n",
              "      <td>0.205031</td>\n",
              "      <td>0.162997</td>\n",
              "      <td>0.205031</td>\n",
              "      <td>0.162997</td>\n",
              "      <td>0.205031</td>\n",
              "      <td>0.162997</td>\n",
              "      <td>0.217813</td>\n",
              "      <td>0.166944</td>\n",
              "      <td>0.214247</td>\n",
              "      <td>0.164954</td>\n",
              "      <td>0.206680</td>\n",
              "      <td>0.162113</td>\n",
              "    </tr>\n",
              "    <tr>\n",
              "      <th>ExtraTreesRegressor</th>\n",
              "      <td>0.205037</td>\n",
              "      <td>0.163045</td>\n",
              "      <td>0.205037</td>\n",
              "      <td>0.163045</td>\n",
              "      <td>0.205037</td>\n",
              "      <td>0.163045</td>\n",
              "      <td>0.205037</td>\n",
              "      <td>0.163045</td>\n",
              "      <td>0.205012</td>\n",
              "      <td>0.163016</td>\n",
              "      <td>0.205041</td>\n",
              "      <td>0.163049</td>\n",
              "      <td>0.205042</td>\n",
              "      <td>0.163050</td>\n",
              "      <td>0.205037</td>\n",
              "      <td>0.163045</td>\n",
              "      <td>0.205037</td>\n",
              "      <td>0.163045</td>\n",
              "      <td>0.205037</td>\n",
              "      <td>0.163045</td>\n",
              "      <td>0.217797</td>\n",
              "      <td>0.166944</td>\n",
              "      <td>0.214195</td>\n",
              "      <td>0.164962</td>\n",
              "      <td>0.206657</td>\n",
              "      <td>0.162147</td>\n",
              "    </tr>\n",
              "    <tr>\n",
              "      <th>KNeighborsRegressor</th>\n",
              "      <td>0.225222</td>\n",
              "      <td>0.178873</td>\n",
              "      <td>0.225420</td>\n",
              "      <td>0.178984</td>\n",
              "      <td>0.225222</td>\n",
              "      <td>0.178873</td>\n",
              "      <td>0.225229</td>\n",
              "      <td>0.178882</td>\n",
              "      <td>0.225198</td>\n",
              "      <td>0.178843</td>\n",
              "      <td>0.225224</td>\n",
              "      <td>0.178877</td>\n",
              "      <td>0.225224</td>\n",
              "      <td>0.178877</td>\n",
              "      <td>0.225222</td>\n",
              "      <td>0.178873</td>\n",
              "      <td>0.225222</td>\n",
              "      <td>0.178873</td>\n",
              "      <td>0.225222</td>\n",
              "      <td>0.178873</td>\n",
              "      <td>0.247512</td>\n",
              "      <td>0.191550</td>\n",
              "      <td>0.233771</td>\n",
              "      <td>0.181786</td>\n",
              "      <td>0.224273</td>\n",
              "      <td>0.176622</td>\n",
              "    </tr>\n",
              "    <tr>\n",
              "      <th>Ridge</th>\n",
              "      <td>0.204745</td>\n",
              "      <td>0.162920</td>\n",
              "      <td>0.204745</td>\n",
              "      <td>0.162920</td>\n",
              "      <td>0.204744</td>\n",
              "      <td>0.162920</td>\n",
              "      <td>0.204744</td>\n",
              "      <td>0.162920</td>\n",
              "      <td>0.204795</td>\n",
              "      <td>0.162952</td>\n",
              "      <td>0.204771</td>\n",
              "      <td>0.162931</td>\n",
              "      <td>0.204770</td>\n",
              "      <td>0.162931</td>\n",
              "      <td>0.204745</td>\n",
              "      <td>0.162920</td>\n",
              "      <td>0.204745</td>\n",
              "      <td>0.162920</td>\n",
              "      <td>0.204745</td>\n",
              "      <td>0.162920</td>\n",
              "      <td>0.216371</td>\n",
              "      <td>0.166268</td>\n",
              "      <td>0.213639</td>\n",
              "      <td>0.164735</td>\n",
              "      <td>0.206383</td>\n",
              "      <td>0.161980</td>\n",
              "    </tr>\n",
              "    <tr>\n",
              "      <th>Lasso</th>\n",
              "      <td>0.204756</td>\n",
              "      <td>0.162939</td>\n",
              "      <td>0.204756</td>\n",
              "      <td>0.162939</td>\n",
              "      <td>0.204756</td>\n",
              "      <td>0.162939</td>\n",
              "      <td>0.204756</td>\n",
              "      <td>0.162939</td>\n",
              "      <td>0.204756</td>\n",
              "      <td>0.162939</td>\n",
              "      <td>0.204756</td>\n",
              "      <td>0.162939</td>\n",
              "      <td>0.204756</td>\n",
              "      <td>0.162939</td>\n",
              "      <td>0.204756</td>\n",
              "      <td>0.162939</td>\n",
              "      <td>0.204756</td>\n",
              "      <td>0.162939</td>\n",
              "      <td>0.204756</td>\n",
              "      <td>0.162939</td>\n",
              "      <td>0.214397</td>\n",
              "      <td>0.165604</td>\n",
              "      <td>0.212888</td>\n",
              "      <td>0.164845</td>\n",
              "      <td>0.206330</td>\n",
              "      <td>0.162048</td>\n",
              "    </tr>\n",
              "  </tbody>\n",
              "</table>\n",
              "</div>"
            ],
            "text/plain": [
              "                          baseline_models            ... t_yeo-johnson          \n",
              "                                     RMSE       MAE  ...          RMSE       MAE\n",
              "SVR                        0.205468        0.161887  ...  0.205791      0.161823\n",
              "XGBRegressor               0.204845        0.162927  ...  0.206496      0.162039\n",
              "AdaBoostRegressor          0.211042        0.170504  ...  0.206018      0.162295\n",
              "GradientBoostingRegressor  0.204913        0.162970  ...  0.206569      0.162098\n",
              "DecisionTreeRegressor      0.205059        0.163064  ...  0.206674      0.162161\n",
              "RandomForestRegressor      0.205031        0.162997  ...  0.206680      0.162113\n",
              "ExtraTreesRegressor        0.205037        0.163045  ...  0.206657      0.162147\n",
              "KNeighborsRegressor        0.225222        0.178873  ...  0.224273      0.176622\n",
              "Ridge                      0.204745        0.162920  ...  0.206383      0.161980\n",
              "Lasso                      0.204756        0.162939  ...  0.206330      0.162048\n",
              "\n",
              "[10 rows x 26 columns]"
            ]
          },
          "metadata": {
            "tags": []
          },
          "execution_count": 22
        }
      ]
    },
    {
      "cell_type": "code",
      "metadata": {
        "id": "ogiqwWSYm85E"
      },
      "source": [
        "pkl.dump(comparison, open(\"comparison1.pkl\", \"wb\"))"
      ],
      "id": "ogiqwWSYm85E",
      "execution_count": 26,
      "outputs": []
    },
    {
      "cell_type": "markdown",
      "metadata": {
        "id": "4SZi-CWOyBXa"
      },
      "source": [
        "The applied scalers on source sentence length and TER almost have no effect on the models and the prediction results did not improve."
      ],
      "id": "4SZi-CWOyBXa"
    },
    {
      "cell_type": "markdown",
      "metadata": {
        "id": "YbBsnY4tym6Y"
      },
      "source": [
        "### Now  lets tune the SVR and Ridge models"
      ],
      "id": "YbBsnY4tym6Y"
    },
    {
      "cell_type": "code",
      "metadata": {
        "colab": {
          "base_uri": "https://localhost:8080/",
          "height": 368
        },
        "id": "eRpJAN2PzCuM",
        "outputId": "5b9c7a0d-60de-4266-d7d9-a786b61eda73"
      },
      "source": [
        "Ridge_model = Ridge()\n",
        "Ridge_params = {'alpha': np.arange(0.1, 1.5, 0.1) # Regularization strength\n",
        "               }\n",
        "# execute search to get estimators\n",
        "fitted_model = RandomizedSearchCV(Ridge_model,\n",
        "                                    param_distributions=Ridge_params,\n",
        "                                    cv=5,\n",
        "                                    scoring=\"neg_mean_squared_error\",\n",
        "                                    verbose=0,\n",
        "                                    return_train_score=True).fit(X_train, y_train)\n",
        "\n",
        "best_rmse = math.sqrt(-fitted_model.best_score_)\n",
        "ridge_estimator = fitted_model.best_estimator_\n",
        "\n",
        "# summarize result   \n",
        "print(\"Best cross validated rmse score: {}\".format(math.sqrt((-1)*fitted_model.best_score_)))\n",
        "print('Best Hyperparameters: {}'.format(fitted_model.best_params_))\n",
        "\n",
        "# test the model on the test data \n",
        "preds = ridge_estimator.predict(X_test)\n",
        "results = pd.DataFrame(data={\"ter\":y_test,\"predicts\":preds})\n",
        "results.hist()"
      ],
      "id": "eRpJAN2PzCuM",
      "execution_count": 28,
      "outputs": [
        {
          "output_type": "stream",
          "text": [
            "Best cross validated rmse score: 0.20474466734009666\n",
            "Best Hyperparameters: {'alpha': 1.2000000000000002}\n"
          ],
          "name": "stdout"
        },
        {
          "output_type": "execute_result",
          "data": {
            "text/plain": [
              "array([[<matplotlib.axes._subplots.AxesSubplot object at 0x7f78649a88d0>,\n",
              "        <matplotlib.axes._subplots.AxesSubplot object at 0x7f7859ef25f8>]],\n",
              "      dtype=object)"
            ]
          },
          "metadata": {
            "tags": []
          },
          "execution_count": 28
        },
        {
          "output_type": "display_data",
          "data": {
            "image/png": "[encoded data removed]",
            "text/plain": [
              "<Figure size 432x288 with 2 Axes>"
            ]
          },
          "metadata": {
            "tags": []
          }
        }
      ]
    },
    {
      "cell_type": "markdown",
      "metadata": {
        "id": "HosnRAefvFrd"
      },
      "source": [
        "Even after tunning the Ridge model, the prediction did not enhance. The outptut of the Ridge model is centered around 0.32 which is the mean of the y_train"
      ],
      "id": "HosnRAefvFrd"
    },
    {
      "cell_type": "code",
      "metadata": {
        "colab": {
          "base_uri": "https://localhost:8080/",
          "height": 368
        },
        "id": "gnCQ_Oqv2J3n",
        "outputId": "cf4584c3-2536-457a-a548-953a4c7d2e5e"
      },
      "source": [
        "SVR_model = SVR()\n",
        "SVR_params = { 'kernel' : ['rbf'], # Kernel type to be used in the algorithm\n",
        "              'epsilon': np.arange(0.001, 0.15, 0.04), \n",
        "              'C': np.arange(5,35, 10) #  Regularization parameter (a penality)\n",
        "             }\n",
        "# execute search to get estimators\n",
        "fitted_model = RandomizedSearchCV(SVR_model,\n",
        "                                    param_distributions=SVR_params,\n",
        "                                    cv=5,\n",
        "                                    scoring=\"neg_mean_squared_error\",\n",
        "                                    verbose=0,\n",
        "                                    return_train_score=True).fit(X_train, y_train)\n",
        "                                    \n",
        "best_rmse = math.sqrt(-fitted_model.best_score_)\n",
        "svr_estimator = fitted_model.best_estimator_\n",
        "\n",
        "# summarize result   \n",
        "print(\"Best cross validated rmse score: {}\".format(math.sqrt((-1)*fitted_model.best_score_)))\n",
        "print('Best Hyperparameters: {}'.format(fitted_model.best_params_))\n",
        "\n",
        "# test the model on the test data \n",
        "preds = svr_estimator.predict(X_test)\n",
        "results = pd.DataFrame(data={\"ter\":y_test,\"predicts\":preds})\n",
        "results.hist()"
      ],
      "id": "gnCQ_Oqv2J3n",
      "execution_count": 29,
      "outputs": [
        {
          "output_type": "stream",
          "text": [
            "Best cross validated rmse score: 0.2052474677712483\n",
            "Best Hyperparameters: {'kernel': 'rbf', 'epsilon': 0.121, 'C': 15}\n"
          ],
          "name": "stdout"
        },
        {
          "output_type": "execute_result",
          "data": {
            "text/plain": [
              "array([[<matplotlib.axes._subplots.AxesSubplot object at 0x7f7859ee17f0>,\n",
              "        <matplotlib.axes._subplots.AxesSubplot object at 0x7f7859e51128>]],\n",
              "      dtype=object)"
            ]
          },
          "metadata": {
            "tags": []
          },
          "execution_count": 29
        },
        {
          "output_type": "display_data",
          "data": {
            "image/png": "[encoded data removed]",
            "text/plain": [
              "<Figure size 432x288 with 2 Axes>"
            ]
          },
          "metadata": {
            "tags": []
          }
        }
      ]
    },
    {
      "cell_type": "code",
      "metadata": {
        "colab": {
          "base_uri": "https://localhost:8080/"
        },
        "id": "wj_0dhGFubWm",
        "outputId": "de5c454a-4385-46ec-c65f-44b5c51d6b8b"
      },
      "source": [
        "y_train.mean()"
      ],
      "id": "wj_0dhGFubWm",
      "execution_count": 30,
      "outputs": [
        {
          "output_type": "execute_result",
          "data": {
            "text/plain": [
              "0.32149047"
            ]
          },
          "metadata": {
            "tags": []
          },
          "execution_count": 30
        }
      ]
    },
    {
      "cell_type": "markdown",
      "metadata": {
        "id": "D6TVBEKvuWnn"
      },
      "source": [
        "Even after tunning the SVR model, the prediction did not enhance. The outptut of the SVR model is centered also around 0.3 which is the mean of the y_train.\n"
      ],
      "id": "D6TVBEKvuWnn"
    },
    {
      "cell_type": "markdown",
      "metadata": {
        "id": "LEyfzYV7saZE"
      },
      "source": [
        "## Conclusion:\n",
        "Trying to predict TER from only one feature is not feasible. More features are needed. "
      ],
      "id": "LEyfzYV7saZE"
    },
    {
      "cell_type": "markdown",
      "metadata": {
        "id": "JSsHcCEz20Xl"
      },
      "source": [
        "# Part 2\n"
      ],
      "id": "JSsHcCEz20Xl"
    },
    {
      "cell_type": "markdown",
      "metadata": {
        "id": "ceramic-timer"
      },
      "source": [
        "There is many possible features that can be used to improve the predicting algorithms.\n",
        "\n",
        "Here they are:\n",
        "\n",
        "\n",
        "*   Similarity score between source and target sentences. \n",
        "*    Surface characteristics:\n",
        "      *   Length of the target sentence(number of tokens).\n",
        "      *   Average token length of source and target sentences.\n",
        "      *   Features related to punctuation marks in source and target sentenc such as the percentage of punctuation marks in source sentence, difference between the number of punctuation marks between source and target, etc.\n",
        "      *   Numeric tokens related features such as percentage of numeric tokens in source and target sentence.\n",
        "      *   Stop words in source and target sentence.\n",
        "\n",
        "*   Part-of-speech (POS) features:\n",
        "    *   Number of verbs, nouns, pronouns in source and target sentence, etc.\n",
        "\n",
        "*   N-grams features:\n",
        "    *   Number of distinct uni-grams, bi-grams and tri-grams, etc.\n",
        "\n",
        "We might also use features about Named Entities in source and target sentences such as Persons, Locations, Organizations, etc.\n"
      ],
      "id": "ceramic-timer"
    },
    {
      "cell_type": "markdown",
      "metadata": {
        "id": "Qxj0pDDrAOjw"
      },
      "source": [
        "# Part 3"
      ],
      "id": "Qxj0pDDrAOjw"
    },
    {
      "cell_type": "markdown",
      "metadata": {
        "id": "2ylimnQYB30K"
      },
      "source": [
        "## Feature Engineering - Feature Extraction"
      ],
      "id": "2ylimnQYB30K"
    },
    {
      "cell_type": "markdown",
      "metadata": {
        "id": "Wud8rLKGB8KE"
      },
      "source": [
        "Install necessary packages.\n",
        "\n",
        "*   Spacy and its en and de latest transformers language models to take advantage of its POS tagging feature.\n"
      ],
      "id": "Wud8rLKGB8KE"
    },
    {
      "cell_type": "code",
      "metadata": {
        "id": "foster-truth"
      },
      "source": [
        "# !pip install -U spacy"
      ],
      "id": "foster-truth",
      "execution_count": null,
      "outputs": []
    },
    {
      "cell_type": "code",
      "metadata": {
        "collapsed": true,
        "id": "diverse-alias",
        "outputId": "64107a7c-548e-469e-f6bf-d122dfae1a82"
      },
      "source": [
        "# !python -m spacy download en_core_web_trf"
      ],
      "id": "diverse-alias",
      "execution_count": null,
      "outputs": [
        {
          "output_type": "stream",
          "text": [
            "Collecting en-core-web-trf==3.0.0\n",
            "  Downloading https://github.com/explosion/spacy-models/releases/download/en_core_web_trf-3.0.0/en_core_web_trf-3.0.0-py3-none-any.whl (459.7 MB)\n",
            "\u001b[K     |████████████████████████████████| 459.7 MB 30 kB/s  eta 0:00:01     |██████▍                         | 91.3 MB 9.6 MB/s eta 0:00:39     |█████████▋                      | 138.2 MB 515 kB/s eta 0:10:24     |██████████▏                     | 146.4 MB 8.1 MB/s eta 0:00:39     |████████████▋                   | 181.2 MB 6.4 MB/s eta 0:00:44     |█████████████                   | 188.2 MB 261 kB/s eta 0:17:17     |█████████████▏                  | 188.4 MB 279 kB/s eta 0:16:12     |█████████████▍                  | 193.0 MB 5.0 MB/s eta 0:00:54     |██████████████▎                 | 205.2 MB 2.0 MB/s eta 0:02:08     |██████████████▉                 | 213.2 MB 559 kB/s eta 0:07:21     |████████████████                | 228.3 MB 7.0 MB/s eta 0:00:34     |█████████████████▉              | 256.4 MB 7.6 MB/s eta 0:00:27     |██████████████████▏             | 260.7 MB 500 kB/s eta 0:06:38     |████████████████████▎           | 291.0 MB 605 kB/s eta 0:04:39     |████████████████████████▉       | 356.3 MB 591 kB/s eta 0:02:55     |████████████████████████████    | 402.5 MB 5.7 MB/s eta 0:00:11     |██████████████████████████████▎ | 434.6 MB 280 kB/s eta 0:01:30     |██████████████████████████████▌ | 438.7 MB 3.8 MB/s eta 0:00:06     |███████████████████████████████▏| 447.9 MB 6.0 MB/s eta 0:00:02     |███████████████████████████████▋| 454.9 MB 5.0 MB/s eta 0:00:01\n",
            "\u001b[?25hCollecting spacy-transformers<1.1.0,>=1.0.0rc4\n",
            "  Downloading spacy_transformers-1.0.1-py2.py3-none-any.whl (38 kB)\n",
            "Requirement already satisfied: spacy<3.1.0,>=3.0.0 in /opt/conda/lib/python3.8/site-packages (from en-core-web-trf==3.0.0) (3.0.1)\n",
            "Requirement already satisfied: catalogue<2.1.0,>=2.0.1 in /opt/conda/lib/python3.8/site-packages (from spacy<3.1.0,>=3.0.0->en-core-web-trf==3.0.0) (2.0.1)\n",
            "Requirement already satisfied: requests<3.0.0,>=2.13.0 in /opt/conda/lib/python3.8/site-packages (from spacy<3.1.0,>=3.0.0->en-core-web-trf==3.0.0) (2.25.1)\n",
            "Requirement already satisfied: cymem<2.1.0,>=2.0.2 in /opt/conda/lib/python3.8/site-packages (from spacy<3.1.0,>=3.0.0->en-core-web-trf==3.0.0) (2.0.5)\n",
            "Requirement already satisfied: packaging>=20.0 in /opt/conda/lib/python3.8/site-packages (from spacy<3.1.0,>=3.0.0->en-core-web-trf==3.0.0) (20.8)\n",
            "Requirement already satisfied: preshed<3.1.0,>=3.0.2 in /opt/conda/lib/python3.8/site-packages (from spacy<3.1.0,>=3.0.0->en-core-web-trf==3.0.0) (3.0.5)\n",
            "Requirement already satisfied: thinc<8.1.0,>=8.0.0 in /opt/conda/lib/python3.8/site-packages (from spacy<3.1.0,>=3.0.0->en-core-web-trf==3.0.0) (8.0.1)\n",
            "Requirement already satisfied: pathy in /opt/conda/lib/python3.8/site-packages (from spacy<3.1.0,>=3.0.0->en-core-web-trf==3.0.0) (0.3.5)\n",
            "Requirement already satisfied: murmurhash<1.1.0,>=0.28.0 in /opt/conda/lib/python3.8/site-packages (from spacy<3.1.0,>=3.0.0->en-core-web-trf==3.0.0) (1.0.5)\n",
            "Requirement already satisfied: blis<0.8.0,>=0.4.0 in /opt/conda/lib/python3.8/site-packages (from spacy<3.1.0,>=3.0.0->en-core-web-trf==3.0.0) (0.7.4)\n",
            "Requirement already satisfied: tqdm<5.0.0,>=4.38.0 in /opt/conda/lib/python3.8/site-packages (from spacy<3.1.0,>=3.0.0->en-core-web-trf==3.0.0) (4.56.0)\n",
            "Requirement already satisfied: numpy>=1.15.0 in /opt/conda/lib/python3.8/site-packages (from spacy<3.1.0,>=3.0.0->en-core-web-trf==3.0.0) (1.19.5)\n",
            "Requirement already satisfied: pydantic<1.8.0,>=1.7.1 in /opt/conda/lib/python3.8/site-packages (from spacy<3.1.0,>=3.0.0->en-core-web-trf==3.0.0) (1.7.3)\n",
            "Requirement already satisfied: jinja2 in /opt/conda/lib/python3.8/site-packages (from spacy<3.1.0,>=3.0.0->en-core-web-trf==3.0.0) (2.11.2)\n",
            "Requirement already satisfied: wasabi<1.1.0,>=0.8.1 in /opt/conda/lib/python3.8/site-packages (from spacy<3.1.0,>=3.0.0->en-core-web-trf==3.0.0) (0.8.2)\n",
            "Requirement already satisfied: setuptools in /opt/conda/lib/python3.8/site-packages (from spacy<3.1.0,>=3.0.0->en-core-web-trf==3.0.0) (49.6.0.post20210108)\n",
            "Requirement already satisfied: srsly<3.0.0,>=2.4.0 in /opt/conda/lib/python3.8/site-packages (from spacy<3.1.0,>=3.0.0->en-core-web-trf==3.0.0) (2.4.0)\n",
            "Requirement already satisfied: spacy-legacy<3.1.0,>=3.0.0 in /opt/conda/lib/python3.8/site-packages (from spacy<3.1.0,>=3.0.0->en-core-web-trf==3.0.0) (3.0.1)\n",
            "Requirement already satisfied: typer<0.4.0,>=0.3.0 in /opt/conda/lib/python3.8/site-packages (from spacy<3.1.0,>=3.0.0->en-core-web-trf==3.0.0) (0.3.2)\n",
            "Requirement already satisfied: pyparsing>=2.0.2 in /opt/conda/lib/python3.8/site-packages (from packaging>=20.0->spacy<3.1.0,>=3.0.0->en-core-web-trf==3.0.0) (2.4.7)\n",
            "Requirement already satisfied: urllib3<1.27,>=1.21.1 in /opt/conda/lib/python3.8/site-packages (from requests<3.0.0,>=2.13.0->spacy<3.1.0,>=3.0.0->en-core-web-trf==3.0.0) (1.26.3)\n",
            "Requirement already satisfied: chardet<5,>=3.0.2 in /opt/conda/lib/python3.8/site-packages (from requests<3.0.0,>=2.13.0->spacy<3.1.0,>=3.0.0->en-core-web-trf==3.0.0) (4.0.0)\n",
            "Requirement already satisfied: certifi>=2017.4.17 in /opt/conda/lib/python3.8/site-packages (from requests<3.0.0,>=2.13.0->spacy<3.1.0,>=3.0.0->en-core-web-trf==3.0.0) (2020.12.5)\n",
            "Requirement already satisfied: idna<3,>=2.5 in /opt/conda/lib/python3.8/site-packages (from requests<3.0.0,>=2.13.0->spacy<3.1.0,>=3.0.0->en-core-web-trf==3.0.0) (2.10)\n",
            "Collecting transformers<4.3.0,>=3.1.0\n",
            "  Downloading transformers-4.2.2-py3-none-any.whl (1.8 MB)\n",
            "\u001b[K     |████████████████████████████████| 1.8 MB 8.0 MB/s eta 0:00:01\n",
            "\u001b[?25hCollecting ftfy<6.0.0,>=5.0.0\n",
            "  Downloading ftfy-5.8.tar.gz (64 kB)\n",
            "\u001b[K     |████████████████████████████████| 64 kB 870 kB/s eta 0:00:011\n",
            "\u001b[?25hCollecting spacy-alignments<1.0.0,>=0.7.2\n",
            "  Downloading spacy_alignments-0.7.2-cp38-cp38-manylinux2014_x86_64.whl (977 kB)\n",
            "\u001b[K     |████████████████████████████████| 977 kB 2.3 MB/s eta 0:00:01\n",
            "\u001b[?25hCollecting torch>=1.5.0\n",
            "  Downloading torch-1.7.1-cp38-cp38-manylinux1_x86_64.whl (776.8 MB)\n",
            "\u001b[K     |████████████████████████████████| 776.8 MB 3.3 kB/s eta 0:00:019   |█▏                              | 29.2 MB 5.1 MB/s eta 0:02:29     |█▎                              | 31.7 MB 3.7 MB/s eta 0:03:20     |█▎                              | 32.3 MB 3.7 MB/s eta 0:03:20     |█▍                              | 32.6 MB 3.7 MB/s eta 0:03:19     |█▌                              | 36.7 MB 263 kB/s eta 0:46:53     |██▉                             | 67.6 MB 581 kB/s eta 0:20:21     |████                            | 97.1 MB 255 kB/s eta 0:44:17     |████▊                           | 114.1 MB 545 kB/s eta 0:20:16     |██████                          | 146.4 MB 273 kB/s eta 0:38:24     |█████████▏                      | 223.8 MB 1.0 MB/s eta 0:08:55     |█████████▉                      | 239.4 MB 606 kB/s eta 0:14:46     |██████████▍                     | 253.0 MB 280 kB/s eta 0:31:07     |████████████▍                   | 301.8 MB 6.6 MB/s eta 0:01:13     |████████████▌                   | 303.5 MB 6.6 MB/s eta 0:01:12     |████████████▋                   | 307.1 MB 1.4 MB/s eta 0:05:48     |██████████████▍                 | 349.2 MB 1.5 MB/s eta 0:04:42     |██████████████▍                 | 350.2 MB 1.5 MB/s eta 0:04:41     |██████████████▋                 | 354.1 MB 517 kB/s eta 0:13:38     |████████████████▍               | 397.7 MB 6.1 MB/s eta 0:01:03     |█████████████████▋              | 427.4 MB 536 kB/s eta 0:10:52     |█████████████████▉              | 433.7 MB 1.0 MB/s eta 0:05:31     |██████████████████              | 434.5 MB 1.0 MB/s eta 0:05:31     |██████████████████              | 435.4 MB 2.1 MB/s eta 0:02:40     |███████████████████▍            | 469.9 MB 500 kB/s eta 0:10:14     |███████████████████▌            | 474.1 MB 3.4 MB/s eta 0:01:29     |███████████████████▉            | 481.6 MB 479 kB/s eta 0:10:16     |████████████████████▏           | 490.6 MB 4.6 MB/s eta 0:01:02     |█████████████████████▎          | 515.7 MB 8.0 MB/s eta 0:00:33     |██████████████████████▉         | 554.9 MB 2.6 MB/s eta 0:01:26     |████████████████████████▏       | 587.7 MB 519 kB/s eta 0:06:05     |████████████████████████▌       | 593.6 MB 494 kB/s eta 0:06:11     |█████████████████████████       | 609.0 MB 275 kB/s eta 0:10:10     |█████████████████████████▌      | 619.3 MB 5.2 MB/s eta 0:00:31     |██████████████████████████▏     | 635.4 MB 8.2 MB/s eta 0:00:18     |██████████████████████████▏     | 636.4 MB 1.1 MB/s eta 0:02:04     |██████████████████████████▍     | 639.4 MB 4.0 MB/s eta 0:00:35     |██████████████████████████▋     | 645.8 MB 5.5 MB/s eta 0:00:24     |██████████████████████████▊     | 649.5 MB 276 kB/s eta 0:07:41     |███████████████████████████▎    | 661.5 MB 2.3 MB/s eta 0:00:51     |███████████████████████████▊    | 672.1 MB 1.2 MB/s eta 0:01:27     |███████████████████████████▊    | 672.8 MB 1.2 MB/s eta 0:01:26     |███████████████████████████▊    | 672.9 MB 1.2 MB/s eta 0:01:26     |████████████████████████████▉   | 698.8 MB 1.1 MB/s eta 0:01:14     |█████████████████████████████▎  | 710.8 MB 5.1 MB/s eta 0:00:14     |█████████████████████████████▎  | 711.6 MB 5.1 MB/s eta 0:00:13     |█████████████████████████████▋  | 717.9 MB 269 kB/s eta 0:03:39     |██████████████████████████████▏ | 732.3 MB 2.7 MB/s eta 0:00:17     |██████████████████████████████▎ | 733.7 MB 2.7 MB/s eta 0:00:16     |███████████████████████████████▊| 769.1 MB 8.2 MB/s eta 0:00:01     |███████████████████████████████▊| 770.3 MB 8.2 MB/s eta 0:00:01\n",
            "\u001b[?25hCollecting torchcontrib<0.1.0,>=0.0.2\n",
            "  Downloading torchcontrib-0.0.2.tar.gz (11 kB)\n",
            "Requirement already satisfied: wcwidth in /opt/conda/lib/python3.8/site-packages (from ftfy<6.0.0,>=5.0.0->spacy-transformers<1.1.0,>=1.0.0rc4->en-core-web-trf==3.0.0) (0.2.5)\n",
            "Requirement already satisfied: typing-extensions in /opt/conda/lib/python3.8/site-packages (from torch>=1.5.0->spacy-transformers<1.1.0,>=1.0.0rc4->en-core-web-trf==3.0.0) (3.7.4.3)\n",
            "Collecting tokenizers==0.9.4\n",
            "  Downloading tokenizers-0.9.4-cp38-cp38-manylinux2010_x86_64.whl (2.9 MB)\n",
            "\u001b[K     |████████████████████████████████| 2.9 MB 250 kB/s eta 0:00:01     |█████▊                          | 522 kB 411 kB/s eta 0:00:06\n",
            "\u001b[?25hRequirement already satisfied: regex!=2019.12.17 in /opt/conda/lib/python3.8/site-packages (from transformers<4.3.0,>=3.1.0->spacy-transformers<1.1.0,>=1.0.0rc4->en-core-web-trf==3.0.0) (2020.11.13)\n",
            "Collecting filelock\n",
            "  Downloading filelock-3.0.12-py3-none-any.whl (7.6 kB)\n",
            "Collecting sacremoses\n",
            "  Downloading sacremoses-0.0.43.tar.gz (883 kB)\n",
            "\u001b[K     |████████████████████████████████| 883 kB 5.2 MB/s eta 0:00:01\n",
            "\u001b[?25hRequirement already satisfied: click<7.2.0,>=7.1.1 in /opt/conda/lib/python3.8/site-packages (from typer<0.4.0,>=0.3.0->spacy<3.1.0,>=3.0.0->en-core-web-trf==3.0.0) (7.1.2)\n",
            "Requirement already satisfied: MarkupSafe>=0.23 in /opt/conda/lib/python3.8/site-packages (from jinja2->spacy<3.1.0,>=3.0.0->en-core-web-trf==3.0.0) (1.1.1)\n",
            "Requirement already satisfied: smart-open<4.0.0,>=2.2.0 in /opt/conda/lib/python3.8/site-packages (from pathy->spacy<3.1.0,>=3.0.0->en-core-web-trf==3.0.0) (3.0.0)\n",
            "Requirement already satisfied: six in /opt/conda/lib/python3.8/site-packages (from sacremoses->transformers<4.3.0,>=3.1.0->spacy-transformers<1.1.0,>=1.0.0rc4->en-core-web-trf==3.0.0) (1.15.0)\n",
            "Requirement already satisfied: joblib in /opt/conda/lib/python3.8/site-packages (from sacremoses->transformers<4.3.0,>=3.1.0->spacy-transformers<1.1.0,>=1.0.0rc4->en-core-web-trf==3.0.0) (1.0.0)\n",
            "Building wheels for collected packages: ftfy, torchcontrib, sacremoses\n",
            "  Building wheel for ftfy (setup.py) ... \u001b[?25ldone\n",
            "\u001b[?25h  Created wheel for ftfy: filename=ftfy-5.8-py3-none-any.whl size=45613 sha256=324fe75f066b868c670b1af680bfefb41638822ae20943ef5cbdc473868f6ec9\n",
            "  Stored in directory: /home/jovyan/.cache/pip/wheels/3f/a5/65/684a672b6a26cb8ce3934d155c98d0e23b3dce3d2c0fadae19\n",
            "  Building wheel for torchcontrib (setup.py) ... \u001b[?25ldone\n",
            "\u001b[?25h  Created wheel for torchcontrib: filename=torchcontrib-0.0.2-py3-none-any.whl size=7533 sha256=63ef6d1c8cad187b76c2a77e21de3d0cd0a12f976c6014ce0df8dee13e12fe8e\n",
            "  Stored in directory: /home/jovyan/.cache/pip/wheels/3b/75/17/b11b16ad90276ff6e4e03ec375d55291a186c7fe9dbf87fba3\n",
            "  Building wheel for sacremoses (setup.py) ... \u001b[?25ldone\n",
            "\u001b[?25h  Created wheel for sacremoses: filename=sacremoses-0.0.43-py3-none-any.whl size=893258 sha256=5aec7ae401068951948352ce49dc17772591dcc7af6bbd2d8d0d268e3d46fe42\n",
            "  Stored in directory: /home/jovyan/.cache/pip/wheels/7b/78/f4/27d43a65043e1b75dbddaa421b573eddc67e712be4b1c80677\n",
            "Successfully built ftfy torchcontrib sacremoses\n",
            "Installing collected packages: tokenizers, sacremoses, filelock, transformers, torchcontrib, torch, spacy-alignments, ftfy, spacy-transformers, en-core-web-trf\n",
            "Successfully installed en-core-web-trf-3.0.0 filelock-3.0.12 ftfy-5.8 sacremoses-0.0.43 spacy-alignments-0.7.2 spacy-transformers-1.0.1 tokenizers-0.9.4 torch-1.7.1 torchcontrib-0.0.2 transformers-4.2.2\n",
            "\u001b[38;5;2m✔ Download and installation successful\u001b[0m\n",
            "You can now load the package via spacy.load('en_core_web_trf')\n"
          ],
          "name": "stdout"
        }
      ]
    },
    {
      "cell_type": "code",
      "metadata": {
        "collapsed": true,
        "id": "scenic-witch",
        "outputId": "9a404e14-1de1-461d-def6-3aee77c688cb"
      },
      "source": [
        "# !python -m spacy download de_dep_news_trf"
      ],
      "id": "scenic-witch",
      "execution_count": null,
      "outputs": [
        {
          "output_type": "stream",
          "text": [
            "Collecting de-dep-news-trf==3.0.0\n",
            "  Downloading https://github.com/explosion/spacy-models/releases/download/de_dep_news_trf-3.0.0/de_dep_news_trf-3.0.0-py3-none-any.whl (413.0 MB)\n",
            "\u001b[K     |████████████████████████████████| 413.0 MB 271 kB/s eta 0:00:015  |▌                               | 5.8 MB 4.7 MB/s eta 0:01:27     |▌                               | 6.2 MB 4.7 MB/s eta 0:01:26     |██▎                             | 29.0 MB 9.3 MB/s eta 0:00:42     |██▌                             | 32.8 MB 1.6 MB/s eta 0:04:02     |██▋                             | 33.1 MB 1.6 MB/s eta 0:04:02     |███▊                            | 47.5 MB 5.7 MB/s eta 0:01:05     |█████▊                          | 73.7 MB 564 kB/s eta 0:10:02     |███████▏                        | 92.5 MB 563 kB/s eta 0:09:30     |███████▌                        | 97.4 MB 1.6 MB/s eta 0:03:12     |█████████                       | 117.1 MB 4.9 MB/s eta 0:01:01     |█████████▏                      | 117.8 MB 1.4 MB/s eta 0:03:25     |██████████▎                     | 132.5 MB 6.7 MB/s eta 0:00:42     |████████████████▉               | 216.5 MB 1.5 MB/s eta 0:02:14     |██████████████████▌             | 239.0 MB 497 kB/s eta 0:05:50     |████████████████████            | 259.5 MB 279 kB/s eta 0:09:10     |█████████████████████           | 272.3 MB 7.8 MB/s eta 0:00:19     |████████████████████████▏       | 312.1 MB 249 kB/s eta 0:06:45     |██████████████████████████████  | 388.1 MB 4.0 MB/s eta 0:00:07     |██████████████████████████████▏ | 389.4 MB 4.0 MB/s eta 0:00:06     |██████████████████████████████▎ | 391.2 MB 187 kB/s eta 0:01:57     |███████████████████████████████▎| 404.1 MB 8.3 MB/s eta 0:00:02\n",
            "\u001b[?25hRequirement already satisfied: spacy-transformers<1.1.0,>=1.0.0rc4 in /opt/conda/lib/python3.8/site-packages (from de-dep-news-trf==3.0.0) (1.0.1)\n",
            "Requirement already satisfied: spacy<3.1.0,>=3.0.0 in /opt/conda/lib/python3.8/site-packages (from de-dep-news-trf==3.0.0) (3.0.1)\n",
            "Requirement already satisfied: jinja2 in /opt/conda/lib/python3.8/site-packages (from spacy<3.1.0,>=3.0.0->de-dep-news-trf==3.0.0) (2.11.2)\n",
            "Requirement already satisfied: pydantic<1.8.0,>=1.7.1 in /opt/conda/lib/python3.8/site-packages (from spacy<3.1.0,>=3.0.0->de-dep-news-trf==3.0.0) (1.7.3)\n",
            "Requirement already satisfied: wasabi<1.1.0,>=0.8.1 in /opt/conda/lib/python3.8/site-packages (from spacy<3.1.0,>=3.0.0->de-dep-news-trf==3.0.0) (0.8.2)\n",
            "Requirement already satisfied: packaging>=20.0 in /opt/conda/lib/python3.8/site-packages (from spacy<3.1.0,>=3.0.0->de-dep-news-trf==3.0.0) (20.8)\n",
            "Requirement already satisfied: typer<0.4.0,>=0.3.0 in /opt/conda/lib/python3.8/site-packages (from spacy<3.1.0,>=3.0.0->de-dep-news-trf==3.0.0) (0.3.2)\n",
            "Requirement already satisfied: preshed<3.1.0,>=3.0.2 in /opt/conda/lib/python3.8/site-packages (from spacy<3.1.0,>=3.0.0->de-dep-news-trf==3.0.0) (3.0.5)\n",
            "Requirement already satisfied: numpy>=1.15.0 in /opt/conda/lib/python3.8/site-packages (from spacy<3.1.0,>=3.0.0->de-dep-news-trf==3.0.0) (1.19.5)\n",
            "Requirement already satisfied: srsly<3.0.0,>=2.4.0 in /opt/conda/lib/python3.8/site-packages (from spacy<3.1.0,>=3.0.0->de-dep-news-trf==3.0.0) (2.4.0)\n",
            "Requirement already satisfied: blis<0.8.0,>=0.4.0 in /opt/conda/lib/python3.8/site-packages (from spacy<3.1.0,>=3.0.0->de-dep-news-trf==3.0.0) (0.7.4)\n",
            "Requirement already satisfied: setuptools in /opt/conda/lib/python3.8/site-packages (from spacy<3.1.0,>=3.0.0->de-dep-news-trf==3.0.0) (49.6.0.post20210108)\n",
            "Requirement already satisfied: cymem<2.1.0,>=2.0.2 in /opt/conda/lib/python3.8/site-packages (from spacy<3.1.0,>=3.0.0->de-dep-news-trf==3.0.0) (2.0.5)\n",
            "Requirement already satisfied: catalogue<2.1.0,>=2.0.1 in /opt/conda/lib/python3.8/site-packages (from spacy<3.1.0,>=3.0.0->de-dep-news-trf==3.0.0) (2.0.1)\n",
            "Requirement already satisfied: tqdm<5.0.0,>=4.38.0 in /opt/conda/lib/python3.8/site-packages (from spacy<3.1.0,>=3.0.0->de-dep-news-trf==3.0.0) (4.56.0)\n",
            "Requirement already satisfied: requests<3.0.0,>=2.13.0 in /opt/conda/lib/python3.8/site-packages (from spacy<3.1.0,>=3.0.0->de-dep-news-trf==3.0.0) (2.25.1)\n",
            "Requirement already satisfied: murmurhash<1.1.0,>=0.28.0 in /opt/conda/lib/python3.8/site-packages (from spacy<3.1.0,>=3.0.0->de-dep-news-trf==3.0.0) (1.0.5)\n",
            "Requirement already satisfied: thinc<8.1.0,>=8.0.0 in /opt/conda/lib/python3.8/site-packages (from spacy<3.1.0,>=3.0.0->de-dep-news-trf==3.0.0) (8.0.1)\n",
            "Requirement already satisfied: pathy in /opt/conda/lib/python3.8/site-packages (from spacy<3.1.0,>=3.0.0->de-dep-news-trf==3.0.0) (0.3.5)\n",
            "Requirement already satisfied: spacy-legacy<3.1.0,>=3.0.0 in /opt/conda/lib/python3.8/site-packages (from spacy<3.1.0,>=3.0.0->de-dep-news-trf==3.0.0) (3.0.1)\n",
            "Requirement already satisfied: pyparsing>=2.0.2 in /opt/conda/lib/python3.8/site-packages (from packaging>=20.0->spacy<3.1.0,>=3.0.0->de-dep-news-trf==3.0.0) (2.4.7)\n",
            "Requirement already satisfied: certifi>=2017.4.17 in /opt/conda/lib/python3.8/site-packages (from requests<3.0.0,>=2.13.0->spacy<3.1.0,>=3.0.0->de-dep-news-trf==3.0.0) (2020.12.5)\n",
            "Requirement already satisfied: chardet<5,>=3.0.2 in /opt/conda/lib/python3.8/site-packages (from requests<3.0.0,>=2.13.0->spacy<3.1.0,>=3.0.0->de-dep-news-trf==3.0.0) (4.0.0)\n",
            "Requirement already satisfied: urllib3<1.27,>=1.21.1 in /opt/conda/lib/python3.8/site-packages (from requests<3.0.0,>=2.13.0->spacy<3.1.0,>=3.0.0->de-dep-news-trf==3.0.0) (1.26.3)\n",
            "Requirement already satisfied: idna<3,>=2.5 in /opt/conda/lib/python3.8/site-packages (from requests<3.0.0,>=2.13.0->spacy<3.1.0,>=3.0.0->de-dep-news-trf==3.0.0) (2.10)\n",
            "Requirement already satisfied: torch>=1.5.0 in /opt/conda/lib/python3.8/site-packages (from spacy-transformers<1.1.0,>=1.0.0rc4->de-dep-news-trf==3.0.0) (1.7.1)\n",
            "Requirement already satisfied: spacy-alignments<1.0.0,>=0.7.2 in /opt/conda/lib/python3.8/site-packages (from spacy-transformers<1.1.0,>=1.0.0rc4->de-dep-news-trf==3.0.0) (0.7.2)\n",
            "Requirement already satisfied: transformers<4.3.0,>=3.1.0 in /opt/conda/lib/python3.8/site-packages (from spacy-transformers<1.1.0,>=1.0.0rc4->de-dep-news-trf==3.0.0) (4.2.2)\n",
            "Requirement already satisfied: torchcontrib<0.1.0,>=0.0.2 in /opt/conda/lib/python3.8/site-packages (from spacy-transformers<1.1.0,>=1.0.0rc4->de-dep-news-trf==3.0.0) (0.0.2)\n",
            "Requirement already satisfied: ftfy<6.0.0,>=5.0.0 in /opt/conda/lib/python3.8/site-packages (from spacy-transformers<1.1.0,>=1.0.0rc4->de-dep-news-trf==3.0.0) (5.8)\n",
            "Requirement already satisfied: wcwidth in /opt/conda/lib/python3.8/site-packages (from ftfy<6.0.0,>=5.0.0->spacy-transformers<1.1.0,>=1.0.0rc4->de-dep-news-trf==3.0.0) (0.2.5)\n",
            "Requirement already satisfied: typing-extensions in /opt/conda/lib/python3.8/site-packages (from torch>=1.5.0->spacy-transformers<1.1.0,>=1.0.0rc4->de-dep-news-trf==3.0.0) (3.7.4.3)\n",
            "Requirement already satisfied: sacremoses in /opt/conda/lib/python3.8/site-packages (from transformers<4.3.0,>=3.1.0->spacy-transformers<1.1.0,>=1.0.0rc4->de-dep-news-trf==3.0.0) (0.0.43)\n",
            "Requirement already satisfied: regex!=2019.12.17 in /opt/conda/lib/python3.8/site-packages (from transformers<4.3.0,>=3.1.0->spacy-transformers<1.1.0,>=1.0.0rc4->de-dep-news-trf==3.0.0) (2020.11.13)\n",
            "Requirement already satisfied: filelock in /opt/conda/lib/python3.8/site-packages (from transformers<4.3.0,>=3.1.0->spacy-transformers<1.1.0,>=1.0.0rc4->de-dep-news-trf==3.0.0) (3.0.12)\n",
            "Requirement already satisfied: tokenizers==0.9.4 in /opt/conda/lib/python3.8/site-packages (from transformers<4.3.0,>=3.1.0->spacy-transformers<1.1.0,>=1.0.0rc4->de-dep-news-trf==3.0.0) (0.9.4)\n",
            "Requirement already satisfied: click<7.2.0,>=7.1.1 in /opt/conda/lib/python3.8/site-packages (from typer<0.4.0,>=0.3.0->spacy<3.1.0,>=3.0.0->de-dep-news-trf==3.0.0) (7.1.2)\n",
            "Requirement already satisfied: MarkupSafe>=0.23 in /opt/conda/lib/python3.8/site-packages (from jinja2->spacy<3.1.0,>=3.0.0->de-dep-news-trf==3.0.0) (1.1.1)\n",
            "Requirement already satisfied: smart-open<4.0.0,>=2.2.0 in /opt/conda/lib/python3.8/site-packages (from pathy->spacy<3.1.0,>=3.0.0->de-dep-news-trf==3.0.0) (3.0.0)\n",
            "Requirement already satisfied: six in /opt/conda/lib/python3.8/site-packages (from sacremoses->transformers<4.3.0,>=3.1.0->spacy-transformers<1.1.0,>=1.0.0rc4->de-dep-news-trf==3.0.0) (1.15.0)\n",
            "Requirement already satisfied: joblib in /opt/conda/lib/python3.8/site-packages (from sacremoses->transformers<4.3.0,>=3.1.0->spacy-transformers<1.1.0,>=1.0.0rc4->de-dep-news-trf==3.0.0) (1.0.0)\n",
            "Installing collected packages: de-dep-news-trf\n",
            "Successfully installed de-dep-news-trf-3.0.0\n",
            "\u001b[38;5;2m✔ Download and installation successful\u001b[0m\n",
            "You can now load the package via spacy.load('de_dep_news_trf')\n"
          ],
          "name": "stdout"
        }
      ]
    },
    {
      "cell_type": "markdown",
      "metadata": {
        "id": "IvVIHFraCuND"
      },
      "source": [
        "*   Sentence-transformers for using SentenceBert inorder to embed the source and target sentences.\n",
        " \n",
        " https://github.com/UKPLab/sentence-transformers\n"
      ],
      "id": "IvVIHFraCuND"
    },
    {
      "cell_type": "code",
      "metadata": {
        "id": "eMHSq1bhCJ_n"
      },
      "source": [
        "# !pip install -U sentence-transformers"
      ],
      "id": "eMHSq1bhCJ_n",
      "execution_count": null,
      "outputs": []
    },
    {
      "cell_type": "code",
      "metadata": {
        "id": "HIoiB94sDTSj"
      },
      "source": [
        "# load libraries and download necessary packages\n",
        "\n",
        "import spacy\n",
        "from nltk import ngrams\n",
        "from scipy.stats import kendalltau\n",
        "from sentence_transformers import SentenceTransformer\n",
        "from sklearn.metrics.pairwise import cosine_similarity\n",
        "\n",
        "sentenceBert_model = SentenceTransformer('distiluse-base-multilingual-cased-v2')\n",
        "nlp_en = spacy.load(\"en_core_web_trf\")\n",
        "nlp_de = spacy.load(\"de_dep_news_trf\")\n",
        "\n",
        "nltk.download('stopwords')\n",
        "from nltk.corpus import stopwords\n",
        "\n",
        "en_stop_words = set(stopwords.words('english'))\n",
        "de_stop_words = set(stopwords.words('german'))"
      ],
      "id": "HIoiB94sDTSj",
      "execution_count": 31,
      "outputs": []
    },
    {
      "cell_type": "markdown",
      "metadata": {
        "id": "zr1Y2py9PGIS"
      },
      "source": [
        "### SentenceBert feature\n",
        "\n",
        "Implementing the sentenceBert feature extraction.\n",
        "\n",
        "Produce a semantically meaningful sentence embedding for both source and target sentences then compare the distance between the 2 vectors using Kendal rank correlation coefficient and cosine similarity.\n",
        "\n",
        "https://docs.scipy.org/doc/scipy/reference/generated/scipy.stats.kendalltau.html\n"
      ],
      "id": "zr1Y2py9PGIS"
    },
    {
      "cell_type": "code",
      "metadata": {
        "id": "KZZwk2snMHuV"
      },
      "source": [
        "def kendall_rank(a, b):\n",
        "    rs = kendalltau(a, b)\n",
        "    if isinstance(rs, tuple):\n",
        "        return rs[0]\n",
        "    return rs\n",
        "\n",
        "def get_SentenceBertScores(s_sentence, t_sentence, model):\n",
        "  \"\"\"Method that takes a source and target sentence and SentenceBert model.\n",
        "  It returns cosine similarity and kendall correlation between the embeddings of source and target sentences.\"\"\"\n",
        "  embedding = model.encode([s_sentence, t_sentence])\n",
        "  s_embedding, t_embedding = embedding[0], embedding[1]\n",
        "  sentenceBert_cosine_sim = cosine_similarity([s_embedding], [t_embedding])[0][0]\n",
        "  sentenceBert_kendall_rank = kendall_rank(s_embedding, t_embedding)\n",
        "  return sentenceBert_cosine_sim, sentenceBert_kendall_rank\n",
        "\n",
        "  def get_scores(row, sentenceBert_model):\n",
        "  s_sentence, t_sentence = row[\"source\"], row[\"target\"]\n",
        "  row['sentenceBert_kendall_rank'] = get_SentenceBertScores(s_sentence, t_sentence, sentenceBert_model)\n",
        "  row['sentenceBert_cosine_sim'], row['sentenceBert_kendall_rank'] = get_SentenceBertScores(s_sentence, t_sentence, sentenceBert_model)\n",
        "  return row"
      ],
      "id": "KZZwk2snMHuV",
      "execution_count": 32,
      "outputs": []
    },
    {
      "cell_type": "markdown",
      "metadata": {
        "id": "1o6Zfs2UR90D"
      },
      "source": [
        "### Surface features\n",
        "\n",
        "Implementing surface features extraction.\n",
        "\n",
        "*   percentage of punctuation marks in source and target sentence.\n",
        "*   absolute difference between number of punctuation marks between source and target sentences normalised by source length.\n",
        "*   absolute difference between number of punctuation marks between source and target sentences normalised by target length.\n",
        "*   absolute difference between number of punctuation marks between source and target sentences.\n",
        "*   average source and target token length,\n",
        "*   percentage of numeric tokens in source and target sentences.\n",
        "*   absolute difference between number of numeric tokens in the source and target sentence normalised by source sentence length.\n",
        "*   absolute difference between number of numeric tokens in the source and target sentence.\n",
        "*   length of source and target sentences."
      ],
      "id": "1o6Zfs2UR90D"
    },
    {
      "cell_type": "code",
      "metadata": {
        "id": "authentic-apache"
      },
      "source": [
        "def safe_division(a, b):\n",
        "    return  round(a / b,  ndigits=3) if b else b\n",
        "\n",
        "def get_surface_features(s_sentence, t_sentence, en_stop_words, de_stop_words):\n",
        "  \n",
        "    # initializing punctuations set  \n",
        "    punc =  set(['!','(', ')', '\"', '-', '[', ']', '{', '}', ';',\n",
        "                 ':', '\\'', '\\\\' , ',', '<', '>', '.', '/', '?',\n",
        "                 '@', '#', '$', '%', '^', '&', '*', '_', '~'])\n",
        "\n",
        "    s_sentence_tokens, t_sentence_tokens = s_sentence.split(\" \"), t_sentence.split(\" \")  \n",
        "    s_nb_tokens, t_nb_tokens = len(s_sentence_tokens), len(t_sentence_tokens)    # nbr of tokens in source and target sentence\n",
        "\n",
        "    s_sum_token_length, t_sum_token_length = 0, 0\n",
        "    s_nb_puncuation, t_nb_puncuation = 0, 0\n",
        "    s_nb_numeric, t_nb_numeric = 0, 0\n",
        "    s_nb_stop_words, t_nb_stop_words = 0, 0\n",
        "\n",
        "    for token in s_sentence_tokens:\n",
        "        s_sum_token_length += len(token)\n",
        "        if token.isnumeric():\n",
        "          s_nb_numeric += 1\n",
        "        elif token in punc:\n",
        "          s_nb_puncuation += 1\n",
        "\n",
        "        if token in en_stop_words:\n",
        "          s_nb_stop_words += 1\n",
        "\n",
        "    for token in t_sentence_tokens:\n",
        "        t_sum_token_length += len(token)\n",
        "        if token.isnumeric():\n",
        "          t_nb_numeric +=1\n",
        "        elif token in punc:\n",
        "          t_nb_puncuation +=1\n",
        "\n",
        "        if token in de_stop_words:\n",
        "          t_nb_stop_words += 1\n",
        "\n",
        "    s_perc_puncuation = safe_division(s_nb_puncuation, s_nb_tokens)   # percentage of punctuation marks in source sentence\n",
        "    t_perc_puncuation = safe_division(t_nb_puncuation, t_nb_tokens)   # percentage of punctuation marks in target sentence\n",
        "    diff_s_t_nb_punc_s_normalized = safe_division(abs(s_nb_puncuation - t_nb_puncuation), s_nb_tokens)   # absolute difference between number of punctuation marks between source and target sentences normalised by source length\n",
        "    diff_s_t_nb_punc_t_normalized = safe_division(abs(s_nb_puncuation - t_nb_puncuation), t_nb_tokens)   # absolute difference between number of punctuation marks between source and target sentences normalised by target length\n",
        "    diff_s_t_nb_punc = abs(s_nb_puncuation - t_nb_puncuation)   # absolute difference between number of punctuation marks between source and target sentences \n",
        "    ratio_nb_punc = safe_division(s_nb_puncuation, t_nb_puncuation)\n",
        "\n",
        "    s_avg_token_length = safe_division(s_sum_token_length, s_nb_tokens)    # average source token length\n",
        "    t_avg_token_length = safe_division(t_sum_token_length, t_nb_tokens)    # average target token length\n",
        "\n",
        "    s_perc_numeric = safe_division(s_nb_numeric, s_nb_tokens)    # percentage of numeric tokens in source sentence\n",
        "    t_perc_numeric = safe_division(t_nb_numeric, t_nb_tokens)    # percentage of numeric tokens in target sentence\n",
        "    diff_s_t_nb_num_s_normalized = safe_division(abs(s_nb_numeric - t_nb_numeric), s_nb_tokens)   # absolute difference between number of numeric tokens in the source and target sentence normalised by source sentence length\n",
        "    diff_s_t_nb_num_t_normalized = safe_division(abs(s_nb_numeric - t_nb_numeric), t_nb_tokens)   # absolute difference between number of numeric tokens in the source and target sentence normalised by target sentence length\n",
        "    diff_s_t_nb_num = abs(s_nb_numeric - t_nb_numeric)  # absolute difference between number of numeric tokens in the source and target sentence \n",
        "    ratio_nb_num = safe_division(s_nb_numeric, s_nb_numeric)\n",
        "\n",
        "    return s_nb_tokens, t_nb_tokens, \\\n",
        "     s_avg_token_length, t_avg_token_length,\\\n",
        "     s_nb_stop_words, t_nb_stop_words, \\\n",
        "     s_perc_puncuation, t_perc_puncuation, \\\n",
        "     diff_s_t_nb_punc_s_normalized, diff_s_t_nb_punc_t_normalized, diff_s_t_nb_punc, ratio_nb_punc, \\\n",
        "     s_nb_numeric, t_nb_numeric, diff_s_t_nb_num, diff_s_t_nb_num_s_normalized, diff_s_t_nb_num_t_normalized, ratio_nb_num"
      ],
      "id": "authentic-apache",
      "execution_count": 33,
      "outputs": []
    },
    {
      "cell_type": "markdown",
      "metadata": {
        "id": "TLhUY9unTrSv"
      },
      "source": [
        "### POS features\n",
        "\n",
        "Implementing a some of surface features.\n",
        "\n",
        "*   percentage of words of a particular part of speech tag (verb,  noun,  pronoun) in the source or target phrases.\n",
        "*   ratio of numbers of words of a particular part of speech (verb, noun, pronoun) between the source and target phrases.\n"
      ],
      "id": "TLhUY9unTrSv"
    },
    {
      "cell_type": "code",
      "metadata": {
        "id": "2Hb8k8F0NqXk"
      },
      "source": [
        "def get_POS_features(s_sentence, t_sentence, s_nb_tokens, t_nb_tokens, nlp_en, nlp_de):\n",
        "\n",
        "    s_verb_count, s_noun_count, s_pronoun_count = 0, 0, 0\n",
        "    t_verb_count, t_noun_count, t_pronoun_count = 0, 0, 0\n",
        "        \n",
        "    s_doc = nlp_en(s_sentence)\n",
        "    t_doc = nlp_de(t_sentence)\n",
        "        \n",
        "    for token in s_doc:\n",
        "        token_text = token.text\n",
        "        pos_ = token.pos_\n",
        "        if pos_ == \"VERB\":\n",
        "            s_verb_count += 1\n",
        "        elif pos_ == \"PRON\":\n",
        "            s_pronoun_count += 1\n",
        "        elif pos_ == \"NOUN\":\n",
        "            s_noun_count += 1\n",
        "\n",
        "    for token in t_doc:\n",
        "        token_text = token.text\n",
        "        pos_ = token.pos_\n",
        "        if pos_ == \"VERB\":\n",
        "            t_verb_count += 1\n",
        "        elif pos_ == \"PRON\":\n",
        "            t_pronoun_count += 1\n",
        "        elif pos_ == \"NOUN\":\n",
        "            t_noun_count += 1\n",
        "            \n",
        "    ## percentage of words of a particular part of speech tag (verb,  noun,  pronoun) in the source or target phrases\n",
        "    s_perc_verb_pos = safe_division(s_verb_count, s_nb_tokens)\n",
        "    s_perc_noun_pos = safe_division(s_noun_count,  s_nb_tokens)\n",
        "    s_perc_pronoun_pos = safe_division(s_pronoun_count,  s_nb_tokens)  \n",
        "    \n",
        "    t_perc_verb_pos = safe_division(t_verb_count, t_nb_tokens)\n",
        "    t_perc_noun_pos = safe_division(t_noun_count, t_nb_tokens)\n",
        "    t_perc_pronoun_pos = safe_division(t_pronoun_count, t_nb_tokens)     \n",
        "    \n",
        "    # ratio of numbers of words of a particular part of speech (verb, noun, pronoun) between the source and target phrases.\n",
        "    ratio_verb_pos = safe_division(s_verb_count,  t_verb_count)\n",
        "    ratio_noun_pos = safe_division(s_noun_count, t_noun_count)\n",
        "    ratio_pronoun_pos = safe_division(s_pronoun_count, t_pronoun_count)\n",
        "\n",
        "    return s_perc_verb_pos, t_perc_verb_pos, ratio_verb_pos, \\\n",
        "    s_perc_noun_pos, t_perc_noun_pos, ratio_noun_pos, \\\n",
        "    s_perc_pronoun_pos, t_perc_pronoun_pos, ratio_pronoun_pos\n"
      ],
      "id": "2Hb8k8F0NqXk",
      "execution_count": 34,
      "outputs": []
    },
    {
      "cell_type": "markdown",
      "metadata": {
        "id": "5bPo8BsXUYeD"
      },
      "source": [
        "### Extract all features"
      ],
      "id": "5bPo8BsXUYeD"
    },
    {
      "cell_type": "code",
      "metadata": {
        "id": "4OD828qTNqaH"
      },
      "source": [
        "def extract_features(row, en_stop_words, de_stop_words, nlp_en, nlp_de, sentenceBert_model):\n",
        "  \"\"\"Method that extracts the surface, POS and sentenceBert Features.\"\"\"\n",
        "\n",
        "  s_sentence, t_sentence = row[\"source\"], row[\"target\"]\n",
        "\n",
        "  row[\"s_nb_tokens\"], row['t_nb_tokens'], \\\n",
        "     row['s_avg_token_length'], row['t_avg_token_length'],\\\n",
        "     row['s_nb_stop_words'], row['t_nb_stop_words'], \\\n",
        "     row['s_perc_puncuation'], row['t_perc_puncuation'], \\\n",
        "     row['diff_s_t_nb_punc'], row['diff_s_t_nb_punc_s_normalized'], row['diff_s_t_nb_punc_t_normalized'], row[\"ratio_nb_punc\"],\\\n",
        "     row['s_nb_numeric'], row['t_nb_numeric'], row['diff_s_t_nb_num'],\\\n",
        "     row['diff_s_t_nb_num_s_normalized'], row['diff_s_t_nb_num_t_normalized'], row[\"ratio_nb_num\"] = get_surface_features(s_sentence, t_sentence, en_stop_words, de_stop_words)\n",
        "  \n",
        "\n",
        "  s_nb_tokens, t_nb_tokens = row[\"s_nb_tokens\"], row['t_nb_tokens']\n",
        "\n",
        "  row['s_perc_verb_pos'], row['t_perc_verb_pos'], row['ratio_verb_pos'], \\\n",
        "    row['s_perc_noun_pos'], row['t_perc_noun_pos'], row['ratio_noun_pos'], \\\n",
        "    row['s_perc_pronoun_pos'], row['t_perc_pronoun_pos'], row['ratio_pronoun_pos'] = get_POS_features(s_sentence, t_sentence,s_nb_tokens, t_nb_tokens, nlp_en, nlp_de)\n",
        "  \n",
        "  row['sentenceBert_cosine_sim'], row['sentenceBert_kendall_rank'] = get_SentenceBertScores(s_sentence, t_sentence, sentenceBert_model)\n",
        "\n",
        "  return row"
      ],
      "id": "4OD828qTNqaH",
      "execution_count": 35,
      "outputs": []
    },
    {
      "cell_type": "code",
      "metadata": {
        "id": "4SkSbRSBNqdP"
      },
      "source": [
        "# extract the features and save them in a new dataframe.\n",
        "df_features = pd.DataFrame()\n",
        "df_features = df.apply(lambda row: extract_features(row, en_stop_words, de_stop_words, nlp_en, nlp_de, sentenceBert_model), axis=1)"
      ],
      "id": "4SkSbRSBNqdP",
      "execution_count": 36,
      "outputs": []
    },
    {
      "cell_type": "code",
      "metadata": {
        "colab": {
          "base_uri": "https://localhost:8080/"
        },
        "id": "Nq-07K-MoSDq",
        "outputId": "fae4ffa7-a37c-458c-f9df-172cce70a697"
      },
      "source": [
        "df_features.shape"
      ],
      "id": "Nq-07K-MoSDq",
      "execution_count": 38,
      "outputs": [
        {
          "output_type": "execute_result",
          "data": {
            "text/plain": [
              "(7000, 31)"
            ]
          },
          "metadata": {
            "tags": []
          },
          "execution_count": 38
        }
      ]
    },
    {
      "cell_type": "code",
      "metadata": {
        "id": "BITTM1-XN2iS",
        "colab": {
          "base_uri": "https://localhost:8080/",
          "height": 904
        },
        "outputId": "09dc8693-c867-4b7e-b6d2-ef8f99e74fb4"
      },
      "source": [
        "df_features.head()"
      ],
      "id": "BITTM1-XN2iS",
      "execution_count": 39,
      "outputs": [
        {
          "output_type": "execute_result",
          "data": {
            "text/html": [
              "<div>\n",
              "<style scoped>\n",
              "    .dataframe tbody tr th:only-of-type {\n",
              "        vertical-align: middle;\n",
              "    }\n",
              "\n",
              "    .dataframe tbody tr th {\n",
              "        vertical-align: top;\n",
              "    }\n",
              "\n",
              "    .dataframe thead th {\n",
              "        text-align: right;\n",
              "    }\n",
              "</style>\n",
              "<table border=\"1\" class=\"dataframe\">\n",
              "  <thead>\n",
              "    <tr style=\"text-align: right;\">\n",
              "      <th></th>\n",
              "      <th>source</th>\n",
              "      <th>target</th>\n",
              "      <th>reference</th>\n",
              "      <th>TER</th>\n",
              "      <th>s_nb_tokens</th>\n",
              "      <th>t_nb_tokens</th>\n",
              "      <th>s_avg_token_length</th>\n",
              "      <th>t_avg_token_length</th>\n",
              "      <th>s_nb_stop_words</th>\n",
              "      <th>t_nb_stop_words</th>\n",
              "      <th>s_perc_puncuation</th>\n",
              "      <th>t_perc_puncuation</th>\n",
              "      <th>diff_s_t_nb_punc</th>\n",
              "      <th>diff_s_t_nb_punc_s_normalized</th>\n",
              "      <th>diff_s_t_nb_punc_t_normalized</th>\n",
              "      <th>s_nb_numeric</th>\n",
              "      <th>t_nb_numeric</th>\n",
              "      <th>diff_s_t_nb_num</th>\n",
              "      <th>diff_s_t_nb_num_s_normalized</th>\n",
              "      <th>diff_s_t_nb_num_t_normalized</th>\n",
              "      <th>s_perc_verb_pos</th>\n",
              "      <th>t_perc_verb_pos</th>\n",
              "      <th>ratio_verb_pos</th>\n",
              "      <th>s_perc_noun_pos</th>\n",
              "      <th>t_perc_noun_pos</th>\n",
              "      <th>ratio_noun_pos</th>\n",
              "      <th>s_perc_pronoun_pos</th>\n",
              "      <th>t_perc_pronoun_pos</th>\n",
              "      <th>ratio_pronoun_pos</th>\n",
              "      <th>sentenceBert_cosine_sim</th>\n",
              "      <th>sentenceBert_kendall_rank</th>\n",
              "    </tr>\n",
              "  </thead>\n",
              "  <tbody>\n",
              "    <tr>\n",
              "      <th>0</th>\n",
              "      <td>José Ortega y Gasset visited Husserl at Freiburg in 1934</td>\n",
              "      <td>1934 besuchte José Ortega y Gasset Husserl in Freiburg</td>\n",
              "      <td>José Ortega y Gasset besuchte Husserl in Freiburg im Jahr 1934</td>\n",
              "      <td>0.33</td>\n",
              "      <td>11</td>\n",
              "      <td>10</td>\n",
              "      <td>4.273</td>\n",
              "      <td>4.600</td>\n",
              "      <td>3</td>\n",
              "      <td>1</td>\n",
              "      <td>0.000</td>\n",
              "      <td>0.000</td>\n",
              "      <td>0.000</td>\n",
              "      <td>0.000</td>\n",
              "      <td>0</td>\n",
              "      <td>1</td>\n",
              "      <td>1</td>\n",
              "      <td>0</td>\n",
              "      <td>0.0</td>\n",
              "      <td>0.0</td>\n",
              "      <td>0.091</td>\n",
              "      <td>0.100</td>\n",
              "      <td>1.0</td>\n",
              "      <td>0.000</td>\n",
              "      <td>0.000</td>\n",
              "      <td>0.000</td>\n",
              "      <td>0.000</td>\n",
              "      <td>0.000</td>\n",
              "      <td>0.0</td>\n",
              "      <td>0.981580</td>\n",
              "      <td>0.874557</td>\n",
              "    </tr>\n",
              "    <tr>\n",
              "      <th>1</th>\n",
              "      <td>however , a disappointing ninth in China meant that he dropped back to sixth in the standings</td>\n",
              "      <td>eine enttäuschende Neunte in China bedeutete jedoch , dass er in der Gesamtwertung auf den sechsten Platz zurückfiel</td>\n",
              "      <td>ein enttäuschender neunter Platz in China bedeutete jedoch , dass er in der Gesamtwertung auf den sechsten Platz zurückfiel</td>\n",
              "      <td>0.20</td>\n",
              "      <td>18</td>\n",
              "      <td>19</td>\n",
              "      <td>4.278</td>\n",
              "      <td>5.211</td>\n",
              "      <td>7</td>\n",
              "      <td>8</td>\n",
              "      <td>0.056</td>\n",
              "      <td>0.053</td>\n",
              "      <td>0.000</td>\n",
              "      <td>0.000</td>\n",
              "      <td>0</td>\n",
              "      <td>0</td>\n",
              "      <td>0</td>\n",
              "      <td>0</td>\n",
              "      <td>0.0</td>\n",
              "      <td>0.0</td>\n",
              "      <td>0.111</td>\n",
              "      <td>0.105</td>\n",
              "      <td>1.0</td>\n",
              "      <td>0.111</td>\n",
              "      <td>0.158</td>\n",
              "      <td>0.667</td>\n",
              "      <td>0.056</td>\n",
              "      <td>0.053</td>\n",
              "      <td>1.0</td>\n",
              "      <td>0.895195</td>\n",
              "      <td>0.703737</td>\n",
              "    </tr>\n",
              "    <tr>\n",
              "      <th>2</th>\n",
              "      <td>in his diary , Chase wrote that the release of Mason and Slidell \" … was like gall and wormwood to me</td>\n",
              "      <td>in seinem Tagebuch , Chase schrieb , dass die Veröffentlichung von Mason und Slidell \" war wie Galle und Wermut für mich</td>\n",
              "      <td>in seinem Tagebuch schrieb Chase , dass die Freilassung von Mason and Slidell „ ... wie Galle und Wermut für mich war</td>\n",
              "      <td>0.30</td>\n",
              "      <td>23</td>\n",
              "      <td>23</td>\n",
              "      <td>3.478</td>\n",
              "      <td>4.304</td>\n",
              "      <td>10</td>\n",
              "      <td>11</td>\n",
              "      <td>0.087</td>\n",
              "      <td>0.130</td>\n",
              "      <td>0.043</td>\n",
              "      <td>0.043</td>\n",
              "      <td>1</td>\n",
              "      <td>0</td>\n",
              "      <td>0</td>\n",
              "      <td>0</td>\n",
              "      <td>0.0</td>\n",
              "      <td>0.0</td>\n",
              "      <td>0.043</td>\n",
              "      <td>0.043</td>\n",
              "      <td>1.0</td>\n",
              "      <td>0.174</td>\n",
              "      <td>0.174</td>\n",
              "      <td>1.000</td>\n",
              "      <td>0.087</td>\n",
              "      <td>0.043</td>\n",
              "      <td>2.0</td>\n",
              "      <td>0.913190</td>\n",
              "      <td>0.728305</td>\n",
              "    </tr>\n",
              "    <tr>\n",
              "      <th>3</th>\n",
              "      <td>Heavy arquebuses mounted on wagons were called arquebus à croc</td>\n",
              "      <td>schwere Arquebuses auf Waggons montiert wurden Arquebus à croc genannt</td>\n",
              "      <td>schwere Arquebusen , die auf Wagen montiert waren , wurden „ Arquebus à croc \" genannt</td>\n",
              "      <td>0.47</td>\n",
              "      <td>11</td>\n",
              "      <td>11</td>\n",
              "      <td>4.818</td>\n",
              "      <td>5.545</td>\n",
              "      <td>2</td>\n",
              "      <td>1</td>\n",
              "      <td>0.000</td>\n",
              "      <td>0.000</td>\n",
              "      <td>0.000</td>\n",
              "      <td>0.000</td>\n",
              "      <td>0</td>\n",
              "      <td>0</td>\n",
              "      <td>0</td>\n",
              "      <td>0</td>\n",
              "      <td>0.0</td>\n",
              "      <td>0.0</td>\n",
              "      <td>0.182</td>\n",
              "      <td>0.182</td>\n",
              "      <td>1.0</td>\n",
              "      <td>0.273</td>\n",
              "      <td>0.273</td>\n",
              "      <td>1.000</td>\n",
              "      <td>0.000</td>\n",
              "      <td>0.000</td>\n",
              "      <td>0.0</td>\n",
              "      <td>0.862207</td>\n",
              "      <td>0.666860</td>\n",
              "    </tr>\n",
              "    <tr>\n",
              "      <th>4</th>\n",
              "      <td>once North Pacific salmon die off after spawning , usually local bald eagles eat salmon carcasses almost exclusively</td>\n",
              "      <td>sobald der nordpazifische Lachs nach dem Laichen abstirbt , fressen in der Regel lokale Glatzadler fast ausschließlich Lachskörper</td>\n",
              "      <td>sobald der nordpazifische Lachs nach dem Laichen abgestorben ist , fressen die örtlichen Weißkopfseeadler fast ausschließlich Lachsschlachtkörper</td>\n",
              "      <td>0.44</td>\n",
              "      <td>19</td>\n",
              "      <td>19</td>\n",
              "      <td>5.211</td>\n",
              "      <td>5.947</td>\n",
              "      <td>3</td>\n",
              "      <td>5</td>\n",
              "      <td>0.053</td>\n",
              "      <td>0.053</td>\n",
              "      <td>0.000</td>\n",
              "      <td>0.000</td>\n",
              "      <td>0</td>\n",
              "      <td>0</td>\n",
              "      <td>0</td>\n",
              "      <td>0</td>\n",
              "      <td>0.0</td>\n",
              "      <td>0.0</td>\n",
              "      <td>0.158</td>\n",
              "      <td>0.105</td>\n",
              "      <td>1.5</td>\n",
              "      <td>0.211</td>\n",
              "      <td>0.263</td>\n",
              "      <td>0.800</td>\n",
              "      <td>0.000</td>\n",
              "      <td>0.000</td>\n",
              "      <td>0.0</td>\n",
              "      <td>0.738233</td>\n",
              "      <td>0.535087</td>\n",
              "    </tr>\n",
              "  </tbody>\n",
              "</table>\n",
              "</div>"
            ],
            "text/plain": [
              "                                                                                                                  source  ... sentenceBert_kendall_rank\n",
              "0  José Ortega y Gasset visited Husserl at Freiburg in 1934                                                               ...  0.874557                \n",
              "1  however , a disappointing ninth in China meant that he dropped back to sixth in the standings                          ...  0.703737                \n",
              "2  in his diary , Chase wrote that the release of Mason and Slidell \" … was like gall and wormwood to me                  ...  0.728305                \n",
              "3  Heavy arquebuses mounted on wagons were called arquebus à croc                                                         ...  0.666860                \n",
              "4  once North Pacific salmon die off after spawning , usually local bald eagles eat salmon carcasses almost exclusively   ...  0.535087                \n",
              "\n",
              "[5 rows x 31 columns]"
            ]
          },
          "metadata": {
            "tags": []
          },
          "execution_count": 39
        }
      ]
    },
    {
      "cell_type": "markdown",
      "metadata": {
        "id": "_G4u2MLWUl2o"
      },
      "source": [
        "### N-grams features\n",
        "\n",
        "Implemmenting n-gram feature extraction.\n",
        "\n",
        "\n",
        "*   percentage of distinct source unigrams seen in a corpus of the source language.\n",
        "* percentage of distinct source bigrams seen in a corpus of the source language. \n",
        "* percentage of distinct source trigrams seen in a corpus of the source language.\n",
        "\n",
        "It could be valuable to extract features related to the frequency of unigrams, bigrams and trigrams in differnt quartiles, such as the average unigram frequency of source sentence according to the source sentences corpus. "
      ],
      "id": "_G4u2MLWUl2o"
    },
    {
      "cell_type": "code",
      "metadata": {
        "id": "mfm2zaidN2ll"
      },
      "source": [
        "def get_ngrams(x, n):\n",
        "  return list(ngrams(word_tokenize(x), n))\n",
        "\n",
        "def get_ngrams_features(sentences, n):\n",
        "  \"\"\"Method that extracts the ngrams features.\"\"\"\n",
        "\n",
        "  all_ngrams_frequencies = dict()\n",
        "  all_sentences_ngrams_frequencies = []\n",
        "  all_nb_distinct_ngrams = []\n",
        "\n",
        "  for sentence in sentences:\n",
        "\n",
        "    ngrams = get_ngrams(sentence, n)\n",
        "    sentence_ngram_frequency = dict()\n",
        "\n",
        "    for ng in ngrams:\n",
        "      if ng in all_ngrams_frequencies:\n",
        "        all_ngrams_frequencies[ng] += 1\n",
        "      else:\n",
        "        all_ngrams_frequencies[ng] = 1\n",
        "\n",
        "      if ng in sentence_ngram_frequency:\n",
        "        sentence_ngram_frequency[ng] += 1\n",
        "      else:\n",
        "        sentence_ngram_frequency[ng] = 1\n",
        "\n",
        "    all_nb_distinct_ngrams.append(len(sentence_ngram_frequency))\n",
        "    all_sentences_ngrams_frequencies.append(sentence_ngram_frequency)\n",
        "\n",
        "  distinct_ngrams = len(all_ngrams_frequencies)\n",
        "  all_perc_distinct_ngrams = [nb_distinct_ngrams/ distinct_ngrams for nb_distinct_ngrams in all_nb_distinct_ngrams]\n",
        "  return all_perc_distinct_ngrams"
      ],
      "id": "mfm2zaidN2ll",
      "execution_count": 40,
      "outputs": []
    },
    {
      "cell_type": "markdown",
      "metadata": {
        "id": "LCTJeGI0VhyE"
      },
      "source": [
        "Extract and add the N-grams features to the rest of the features"
      ],
      "id": "LCTJeGI0VhyE"
    },
    {
      "cell_type": "code",
      "metadata": {
        "id": "LCoG3So2OBmE"
      },
      "source": [
        "s_sentences = df[\"source\"].tolist()\n",
        "t_sentences = df[\"source\"].tolist()\n",
        "\n",
        "df_features[\"s_perc_unique_trigrams\"] = get_ngrams_features(s_sentences, 3)\n",
        "df_features[\"s_perc_unique_bigrams\"] = get_ngrams_features(s_sentences, 2)\n",
        "df_features[\"s_perc_unique_unigrams\"] = get_ngrams_features(s_sentences, 1)\n",
        "\n",
        "df_features[\"t_perc_unique_trigrams\"] = get_ngrams_features(t_sentences, 3)\n",
        "df_features[\"t_perc_unique_bigrams\"] = get_ngrams_features(t_sentences, 2)\n",
        "df_features[\"t_perc_unique_unigrams\"] = get_ngrams_features(t_sentences, 1)"
      ],
      "id": "LCoG3So2OBmE",
      "execution_count": 41,
      "outputs": []
    },
    {
      "cell_type": "code",
      "metadata": {
        "colab": {
          "base_uri": "https://localhost:8080/"
        },
        "id": "wISy8zyRpE4R",
        "outputId": "ed5be569-2941-413e-a0ab-a7bcf03ae866"
      },
      "source": [
        "df_features.shape"
      ],
      "id": "wISy8zyRpE4R",
      "execution_count": 42,
      "outputs": [
        {
          "output_type": "execute_result",
          "data": {
            "text/plain": [
              "(7000, 37)"
            ]
          },
          "metadata": {
            "tags": []
          },
          "execution_count": 42
        }
      ]
    },
    {
      "cell_type": "code",
      "metadata": {
        "colab": {
          "base_uri": "https://localhost:8080/",
          "height": 240
        },
        "id": "pRozcePIpNRl",
        "outputId": "fbc69df7-1fee-422b-f7e0-8c724a3f616d"
      },
      "source": [
        "df_features.head(1)"
      ],
      "id": "pRozcePIpNRl",
      "execution_count": 43,
      "outputs": [
        {
          "output_type": "execute_result",
          "data": {
            "text/html": [
              "<div>\n",
              "<style scoped>\n",
              "    .dataframe tbody tr th:only-of-type {\n",
              "        vertical-align: middle;\n",
              "    }\n",
              "\n",
              "    .dataframe tbody tr th {\n",
              "        vertical-align: top;\n",
              "    }\n",
              "\n",
              "    .dataframe thead th {\n",
              "        text-align: right;\n",
              "    }\n",
              "</style>\n",
              "<table border=\"1\" class=\"dataframe\">\n",
              "  <thead>\n",
              "    <tr style=\"text-align: right;\">\n",
              "      <th></th>\n",
              "      <th>source</th>\n",
              "      <th>target</th>\n",
              "      <th>reference</th>\n",
              "      <th>TER</th>\n",
              "      <th>s_nb_tokens</th>\n",
              "      <th>t_nb_tokens</th>\n",
              "      <th>s_avg_token_length</th>\n",
              "      <th>t_avg_token_length</th>\n",
              "      <th>s_nb_stop_words</th>\n",
              "      <th>t_nb_stop_words</th>\n",
              "      <th>s_perc_puncuation</th>\n",
              "      <th>t_perc_puncuation</th>\n",
              "      <th>diff_s_t_nb_punc</th>\n",
              "      <th>diff_s_t_nb_punc_s_normalized</th>\n",
              "      <th>diff_s_t_nb_punc_t_normalized</th>\n",
              "      <th>s_nb_numeric</th>\n",
              "      <th>t_nb_numeric</th>\n",
              "      <th>diff_s_t_nb_num</th>\n",
              "      <th>diff_s_t_nb_num_s_normalized</th>\n",
              "      <th>diff_s_t_nb_num_t_normalized</th>\n",
              "      <th>s_perc_verb_pos</th>\n",
              "      <th>t_perc_verb_pos</th>\n",
              "      <th>ratio_verb_pos</th>\n",
              "      <th>s_perc_noun_pos</th>\n",
              "      <th>t_perc_noun_pos</th>\n",
              "      <th>ratio_noun_pos</th>\n",
              "      <th>s_perc_pronoun_pos</th>\n",
              "      <th>t_perc_pronoun_pos</th>\n",
              "      <th>ratio_pronoun_pos</th>\n",
              "      <th>sentenceBert_cosine_sim</th>\n",
              "      <th>sentenceBert_kendall_rank</th>\n",
              "      <th>s_perc_unique_trigrams</th>\n",
              "      <th>s_perc_unique_bigrams</th>\n",
              "      <th>s_perc_unique_unigrams</th>\n",
              "      <th>t_perc_unique_trigrams</th>\n",
              "      <th>t_perc_unique_bigrams</th>\n",
              "      <th>t_perc_unique_unigrams</th>\n",
              "    </tr>\n",
              "  </thead>\n",
              "  <tbody>\n",
              "    <tr>\n",
              "      <th>0</th>\n",
              "      <td>José Ortega y Gasset visited Husserl at Freiburg in 1934</td>\n",
              "      <td>1934 besuchte José Ortega y Gasset Husserl in Freiburg</td>\n",
              "      <td>José Ortega y Gasset besuchte Husserl in Freiburg im Jahr 1934</td>\n",
              "      <td>0.33</td>\n",
              "      <td>11</td>\n",
              "      <td>10</td>\n",
              "      <td>4.273</td>\n",
              "      <td>4.6</td>\n",
              "      <td>3</td>\n",
              "      <td>1</td>\n",
              "      <td>0.0</td>\n",
              "      <td>0.0</td>\n",
              "      <td>0.0</td>\n",
              "      <td>0.0</td>\n",
              "      <td>0</td>\n",
              "      <td>1</td>\n",
              "      <td>1</td>\n",
              "      <td>0</td>\n",
              "      <td>0.0</td>\n",
              "      <td>0.0</td>\n",
              "      <td>0.091</td>\n",
              "      <td>0.1</td>\n",
              "      <td>1.0</td>\n",
              "      <td>0.0</td>\n",
              "      <td>0.0</td>\n",
              "      <td>0.0</td>\n",
              "      <td>0.0</td>\n",
              "      <td>0.0</td>\n",
              "      <td>0.0</td>\n",
              "      <td>0.98158</td>\n",
              "      <td>0.874557</td>\n",
              "      <td>0.000089</td>\n",
              "      <td>0.000119</td>\n",
              "      <td>0.000367</td>\n",
              "      <td>0.000089</td>\n",
              "      <td>0.000119</td>\n",
              "      <td>0.000367</td>\n",
              "    </tr>\n",
              "  </tbody>\n",
              "</table>\n",
              "</div>"
            ],
            "text/plain": [
              "                                                      source  ... t_perc_unique_unigrams\n",
              "0  José Ortega y Gasset visited Husserl at Freiburg in 1934   ...  0.000367             \n",
              "\n",
              "[1 rows x 37 columns]"
            ]
          },
          "metadata": {
            "tags": []
          },
          "execution_count": 43
        }
      ]
    },
    {
      "cell_type": "markdown",
      "metadata": {
        "id": "AOUs9zv7V_Ql"
      },
      "source": [
        "### Save the features"
      ],
      "id": "AOUs9zv7V_Ql"
    },
    {
      "cell_type": "code",
      "metadata": {
        "id": "packed-primary"
      },
      "source": [
        "# import pickle as pkl\n",
        "\n",
        "# pkl.dump(df_features, open('dataset.pkl', \"wb\"))"
      ],
      "id": "packed-primary",
      "execution_count": 44,
      "outputs": []
    },
    {
      "cell_type": "markdown",
      "metadata": {
        "id": "ZZeXZDd62Nao"
      },
      "source": [
        "## Define BaseLine Models"
      ],
      "id": "ZZeXZDd62Nao"
    },
    {
      "cell_type": "code",
      "metadata": {
        "id": "5srdyHYDsxHk"
      },
      "source": [
        "import pickle as pkl\n",
        "\n",
        "df_features = pkl.load(open('dataset.pkl', \"rb\"))"
      ],
      "id": "5srdyHYDsxHk",
      "execution_count": 45,
      "outputs": []
    },
    {
      "cell_type": "code",
      "metadata": {
        "colab": {
          "base_uri": "https://localhost:8080/"
        },
        "id": "6-OdwTCw2eR9",
        "outputId": "756a5b50-4852-490d-c937-a0a7990f29d6"
      },
      "source": [
        "df_features.columns"
      ],
      "id": "6-OdwTCw2eR9",
      "execution_count": 46,
      "outputs": [
        {
          "output_type": "execute_result",
          "data": {
            "text/plain": [
              "Index(['source', 'target', 'reference', 'TER', 's_nb_tokens', 't_nb_tokens',\n",
              "       's_avg_token_length', 't_avg_token_length', 's_nb_stop_words',\n",
              "       't_nb_stop_words', 's_perc_puncuation', 't_perc_puncuation',\n",
              "       'diff_s_t_nb_punc', 'diff_s_t_nb_punc_s_normalized',\n",
              "       'diff_s_t_nb_punc_t_normalized', 's_nb_numeric', 't_nb_numeric',\n",
              "       'diff_s_t_nb_num', 'diff_s_t_nb_num_s_normalized',\n",
              "       'diff_s_t_nb_num_t_normalized', 's_perc_verb_pos', 't_perc_verb_pos',\n",
              "       'ratio_verb_pos', 's_perc_noun_pos', 't_perc_noun_pos',\n",
              "       'ratio_noun_pos', 's_perc_pronoun_pos', 't_perc_pronoun_pos',\n",
              "       'ratio_pronoun_pos', 'sentenceBert_cosine_sim',\n",
              "       'sentenceBert_kendall_rank', 's_perc_unique_trigrams',\n",
              "       's_perc_unique_bigrams', 's_perc_unique_unigrams',\n",
              "       't_perc_unique_trigrams', 't_perc_unique_bigrams',\n",
              "       't_perc_unique_unigrams'],\n",
              "      dtype='object')"
            ]
          },
          "metadata": {
            "tags": []
          },
          "execution_count": 46
        }
      ]
    },
    {
      "cell_type": "code",
      "metadata": {
        "id": "U2gQsXb52cKY"
      },
      "source": [
        "all_x_features = ['s_nb_tokens', 't_nb_tokens',\n",
        "       's_avg_token_length', 't_avg_token_length', 's_nb_stop_words',\n",
        "       't_nb_stop_words', 's_perc_puncuation', 't_perc_puncuation',\n",
        "       'diff_s_t_nb_punc', 'diff_s_t_nb_punc_s_normalized',\n",
        "       'diff_s_t_nb_punc_t_normalized', 's_nb_numeric', 't_nb_numeric',\n",
        "       'diff_s_t_nb_num', 'diff_s_t_nb_num_s_normalized',\n",
        "       'diff_s_t_nb_num_t_normalized', 's_perc_verb_pos', 't_perc_verb_pos',\n",
        "       'ratio_verb_pos', 's_perc_noun_pos', 't_perc_noun_pos',\n",
        "       'ratio_noun_pos', 's_perc_pronoun_pos', 't_perc_pronoun_pos',\n",
        "       'ratio_pronoun_pos', 'sentenceBert_cosine_sim',\n",
        "       'sentenceBert_kendall_rank', 's_perc_unique_trigrams',\n",
        "       's_perc_unique_bigrams', 's_perc_unique_unigrams',\n",
        "       't_perc_unique_trigrams', 't_perc_unique_bigrams',\n",
        "       't_perc_unique_unigrams']\n",
        "\n",
        "X = df_features[all_x_features].values.astype(np.float32)\n",
        "y = df_features[\"TER\"].values.astype(np.float32)\n",
        "\n",
        "X_train, X_test, y_train, y_test = train_test_split(X, y, test_size=0.1, random_state=0,)"
      ],
      "id": "U2gQsXb52cKY",
      "execution_count": 47,
      "outputs": []
    },
    {
      "cell_type": "markdown",
      "metadata": {
        "id": "ViAMxPKXSsPo"
      },
      "source": [
        "## BaseLine Models"
      ],
      "id": "ViAMxPKXSsPo"
    },
    {
      "cell_type": "code",
      "metadata": {
        "id": "EzcgPp2b0Rrg"
      },
      "source": [
        "scalers = ['standard', 'maxabs', 'minmax',  'quantile', 'yeo-johnson']\n",
        "\n",
        "evaluations = [evaluation]\n",
        "for for_ in ['f', 't']:\n",
        "  for scaler in scalers:\n",
        "    pipelines = get_scaled_models(models, scaler, for_)\n",
        "    scores = evaluate_models(X_train, y_train, pipelines)\n",
        "    type_col = [for_+'_'+scaler]\n",
        "    cols = pd.MultiIndex.from_product([type_col, ['RMSE', 'MAE']])\n",
        "    new_evaluation = pd.DataFrame(scores, columns=cols, index=model_names)\n",
        "    evaluations.append(new_evaluation)\n",
        "\n",
        "comparison2 = pd.concat(evaluations, axis=1)"
      ],
      "id": "EzcgPp2b0Rrg",
      "execution_count": 49,
      "outputs": []
    },
    {
      "cell_type": "code",
      "metadata": {
        "colab": {
          "base_uri": "https://localhost:8080/",
          "height": 414
        },
        "id": "eEFQ7gzmpeVh",
        "outputId": "e6b56b6f-7bf3-4938-d180-a76aed8eb652"
      },
      "source": [
        "comparison2"
      ],
      "id": "eEFQ7gzmpeVh",
      "execution_count": 51,
      "outputs": [
        {
          "output_type": "execute_result",
          "data": {
            "text/html": [
              "<div>\n",
              "<style scoped>\n",
              "    .dataframe tbody tr th:only-of-type {\n",
              "        vertical-align: middle;\n",
              "    }\n",
              "\n",
              "    .dataframe tbody tr th {\n",
              "        vertical-align: top;\n",
              "    }\n",
              "\n",
              "    .dataframe thead tr th {\n",
              "        text-align: left;\n",
              "    }\n",
              "</style>\n",
              "<table border=\"1\" class=\"dataframe\">\n",
              "  <thead>\n",
              "    <tr>\n",
              "      <th></th>\n",
              "      <th colspan=\"2\" halign=\"left\">baseline_models</th>\n",
              "      <th colspan=\"2\" halign=\"left\">f_standard</th>\n",
              "      <th colspan=\"2\" halign=\"left\">f_maxabs</th>\n",
              "      <th colspan=\"2\" halign=\"left\">f_minmax</th>\n",
              "      <th colspan=\"2\" halign=\"left\">f_quantile</th>\n",
              "      <th colspan=\"2\" halign=\"left\">f_yeo-johnson</th>\n",
              "      <th colspan=\"2\" halign=\"left\">t_standard</th>\n",
              "      <th colspan=\"2\" halign=\"left\">t_maxabs</th>\n",
              "      <th colspan=\"2\" halign=\"left\">t_minmax</th>\n",
              "      <th colspan=\"2\" halign=\"left\">t_quantile</th>\n",
              "      <th colspan=\"2\" halign=\"left\">t_yeo-johnson</th>\n",
              "    </tr>\n",
              "    <tr>\n",
              "      <th></th>\n",
              "      <th>RMSE</th>\n",
              "      <th>MAE</th>\n",
              "      <th>RMSE</th>\n",
              "      <th>MAE</th>\n",
              "      <th>RMSE</th>\n",
              "      <th>MAE</th>\n",
              "      <th>RMSE</th>\n",
              "      <th>MAE</th>\n",
              "      <th>RMSE</th>\n",
              "      <th>MAE</th>\n",
              "      <th>RMSE</th>\n",
              "      <th>MAE</th>\n",
              "      <th>RMSE</th>\n",
              "      <th>MAE</th>\n",
              "      <th>RMSE</th>\n",
              "      <th>MAE</th>\n",
              "      <th>RMSE</th>\n",
              "      <th>MAE</th>\n",
              "      <th>RMSE</th>\n",
              "      <th>MAE</th>\n",
              "      <th>RMSE</th>\n",
              "      <th>MAE</th>\n",
              "    </tr>\n",
              "  </thead>\n",
              "  <tbody>\n",
              "    <tr>\n",
              "      <th>SVR</th>\n",
              "      <td>0.205468</td>\n",
              "      <td>0.161887</td>\n",
              "      <td>0.199863</td>\n",
              "      <td>0.158003</td>\n",
              "      <td>0.195610</td>\n",
              "      <td>0.153930</td>\n",
              "      <td>0.195637</td>\n",
              "      <td>0.154092</td>\n",
              "      <td>0.197418</td>\n",
              "      <td>0.155256</td>\n",
              "      <td>0.200137</td>\n",
              "      <td>0.158018</td>\n",
              "      <td>0.203283</td>\n",
              "      <td>0.158652</td>\n",
              "      <td>0.200092</td>\n",
              "      <td>0.157919</td>\n",
              "      <td>0.200093</td>\n",
              "      <td>0.157923</td>\n",
              "      <td>0.203282</td>\n",
              "      <td>0.158651</td>\n",
              "      <td>0.203269</td>\n",
              "      <td>0.158655</td>\n",
              "    </tr>\n",
              "    <tr>\n",
              "      <th>XGBRegressor</th>\n",
              "      <td>0.204845</td>\n",
              "      <td>0.162927</td>\n",
              "      <td>0.196710</td>\n",
              "      <td>0.155586</td>\n",
              "      <td>0.196810</td>\n",
              "      <td>0.155559</td>\n",
              "      <td>0.196655</td>\n",
              "      <td>0.155739</td>\n",
              "      <td>0.196734</td>\n",
              "      <td>0.155601</td>\n",
              "      <td>0.196791</td>\n",
              "      <td>0.155565</td>\n",
              "      <td>0.196913</td>\n",
              "      <td>0.155706</td>\n",
              "      <td>0.196509</td>\n",
              "      <td>0.155448</td>\n",
              "      <td>0.196509</td>\n",
              "      <td>0.155448</td>\n",
              "      <td>0.210216</td>\n",
              "      <td>0.159845</td>\n",
              "      <td>0.197726</td>\n",
              "      <td>0.154410</td>\n",
              "    </tr>\n",
              "    <tr>\n",
              "      <th>AdaBoostRegressor</th>\n",
              "      <td>0.211872</td>\n",
              "      <td>0.171154</td>\n",
              "      <td>0.205680</td>\n",
              "      <td>0.161003</td>\n",
              "      <td>0.203899</td>\n",
              "      <td>0.158557</td>\n",
              "      <td>0.204873</td>\n",
              "      <td>0.160541</td>\n",
              "      <td>0.204910</td>\n",
              "      <td>0.160106</td>\n",
              "      <td>0.205101</td>\n",
              "      <td>0.160084</td>\n",
              "      <td>0.204975</td>\n",
              "      <td>0.160181</td>\n",
              "      <td>0.204175</td>\n",
              "      <td>0.159405</td>\n",
              "      <td>0.204135</td>\n",
              "      <td>0.159090</td>\n",
              "      <td>0.206766</td>\n",
              "      <td>0.160311</td>\n",
              "      <td>0.204828</td>\n",
              "      <td>0.160057</td>\n",
              "    </tr>\n",
              "    <tr>\n",
              "      <th>GradientBoostingRegressor</th>\n",
              "      <td>0.204913</td>\n",
              "      <td>0.162970</td>\n",
              "      <td>0.197531</td>\n",
              "      <td>0.155899</td>\n",
              "      <td>0.197473</td>\n",
              "      <td>0.156005</td>\n",
              "      <td>0.197529</td>\n",
              "      <td>0.155954</td>\n",
              "      <td>0.197553</td>\n",
              "      <td>0.155911</td>\n",
              "      <td>0.197298</td>\n",
              "      <td>0.155746</td>\n",
              "      <td>0.197559</td>\n",
              "      <td>0.156052</td>\n",
              "      <td>0.197557</td>\n",
              "      <td>0.156038</td>\n",
              "      <td>0.197536</td>\n",
              "      <td>0.156013</td>\n",
              "      <td>0.211152</td>\n",
              "      <td>0.160576</td>\n",
              "      <td>0.198525</td>\n",
              "      <td>0.155044</td>\n",
              "    </tr>\n",
              "    <tr>\n",
              "      <th>DecisionTreeRegressor</th>\n",
              "      <td>0.205059</td>\n",
              "      <td>0.163064</td>\n",
              "      <td>0.285327</td>\n",
              "      <td>0.220884</td>\n",
              "      <td>0.284668</td>\n",
              "      <td>0.220165</td>\n",
              "      <td>0.285151</td>\n",
              "      <td>0.221090</td>\n",
              "      <td>0.285430</td>\n",
              "      <td>0.221262</td>\n",
              "      <td>0.284936</td>\n",
              "      <td>0.221319</td>\n",
              "      <td>0.285037</td>\n",
              "      <td>0.220235</td>\n",
              "      <td>0.286844</td>\n",
              "      <td>0.221814</td>\n",
              "      <td>0.286115</td>\n",
              "      <td>0.221454</td>\n",
              "      <td>0.280823</td>\n",
              "      <td>0.218810</td>\n",
              "      <td>0.284698</td>\n",
              "      <td>0.220733</td>\n",
              "    </tr>\n",
              "    <tr>\n",
              "      <th>RandomForestRegressor</th>\n",
              "      <td>0.205031</td>\n",
              "      <td>0.162997</td>\n",
              "      <td>0.199383</td>\n",
              "      <td>0.157200</td>\n",
              "      <td>0.199387</td>\n",
              "      <td>0.157207</td>\n",
              "      <td>0.199572</td>\n",
              "      <td>0.157332</td>\n",
              "      <td>0.199363</td>\n",
              "      <td>0.157199</td>\n",
              "      <td>0.199417</td>\n",
              "      <td>0.157153</td>\n",
              "      <td>0.199470</td>\n",
              "      <td>0.157348</td>\n",
              "      <td>0.199299</td>\n",
              "      <td>0.157083</td>\n",
              "      <td>0.199465</td>\n",
              "      <td>0.157140</td>\n",
              "      <td>0.220232</td>\n",
              "      <td>0.167284</td>\n",
              "      <td>0.200510</td>\n",
              "      <td>0.156503</td>\n",
              "    </tr>\n",
              "    <tr>\n",
              "      <th>ExtraTreesRegressor</th>\n",
              "      <td>0.205037</td>\n",
              "      <td>0.163045</td>\n",
              "      <td>0.200758</td>\n",
              "      <td>0.158283</td>\n",
              "      <td>0.200851</td>\n",
              "      <td>0.158401</td>\n",
              "      <td>0.200681</td>\n",
              "      <td>0.158265</td>\n",
              "      <td>0.201812</td>\n",
              "      <td>0.158919</td>\n",
              "      <td>0.201354</td>\n",
              "      <td>0.159121</td>\n",
              "      <td>0.201438</td>\n",
              "      <td>0.158947</td>\n",
              "      <td>0.201189</td>\n",
              "      <td>0.158692</td>\n",
              "      <td>0.201413</td>\n",
              "      <td>0.158692</td>\n",
              "      <td>0.219534</td>\n",
              "      <td>0.167157</td>\n",
              "      <td>0.202273</td>\n",
              "      <td>0.157660</td>\n",
              "    </tr>\n",
              "    <tr>\n",
              "      <th>KNeighborsRegressor</th>\n",
              "      <td>0.225222</td>\n",
              "      <td>0.178873</td>\n",
              "      <td>0.212218</td>\n",
              "      <td>0.166758</td>\n",
              "      <td>0.211086</td>\n",
              "      <td>0.165488</td>\n",
              "      <td>0.211793</td>\n",
              "      <td>0.166994</td>\n",
              "      <td>0.212520</td>\n",
              "      <td>0.166537</td>\n",
              "      <td>0.212814</td>\n",
              "      <td>0.167512</td>\n",
              "      <td>0.218192</td>\n",
              "      <td>0.171650</td>\n",
              "      <td>0.218192</td>\n",
              "      <td>0.171650</td>\n",
              "      <td>0.218192</td>\n",
              "      <td>0.171650</td>\n",
              "      <td>0.241702</td>\n",
              "      <td>0.186830</td>\n",
              "      <td>0.218940</td>\n",
              "      <td>0.170882</td>\n",
              "    </tr>\n",
              "    <tr>\n",
              "      <th>Ridge</th>\n",
              "      <td>0.204745</td>\n",
              "      <td>0.162920</td>\n",
              "      <td>0.197745</td>\n",
              "      <td>0.157004</td>\n",
              "      <td>0.197894</td>\n",
              "      <td>0.157002</td>\n",
              "      <td>0.197884</td>\n",
              "      <td>0.157005</td>\n",
              "      <td>0.197767</td>\n",
              "      <td>0.156704</td>\n",
              "      <td>0.197270</td>\n",
              "      <td>0.156408</td>\n",
              "      <td>0.198126</td>\n",
              "      <td>0.157244</td>\n",
              "      <td>0.198126</td>\n",
              "      <td>0.157244</td>\n",
              "      <td>0.198126</td>\n",
              "      <td>0.157244</td>\n",
              "      <td>0.211526</td>\n",
              "      <td>0.161715</td>\n",
              "      <td>0.199745</td>\n",
              "      <td>0.156328</td>\n",
              "    </tr>\n",
              "    <tr>\n",
              "      <th>Lasso</th>\n",
              "      <td>0.204756</td>\n",
              "      <td>0.162939</td>\n",
              "      <td>0.204756</td>\n",
              "      <td>0.162939</td>\n",
              "      <td>0.204756</td>\n",
              "      <td>0.162939</td>\n",
              "      <td>0.204756</td>\n",
              "      <td>0.162939</td>\n",
              "      <td>0.204756</td>\n",
              "      <td>0.162939</td>\n",
              "      <td>0.204756</td>\n",
              "      <td>0.162939</td>\n",
              "      <td>0.204756</td>\n",
              "      <td>0.162939</td>\n",
              "      <td>0.204756</td>\n",
              "      <td>0.162939</td>\n",
              "      <td>0.204756</td>\n",
              "      <td>0.162939</td>\n",
              "      <td>0.214405</td>\n",
              "      <td>0.165606</td>\n",
              "      <td>0.206330</td>\n",
              "      <td>0.162048</td>\n",
              "    </tr>\n",
              "  </tbody>\n",
              "</table>\n",
              "</div>"
            ],
            "text/plain": [
              "                          baseline_models            ... t_yeo-johnson          \n",
              "                                     RMSE       MAE  ...          RMSE       MAE\n",
              "SVR                        0.205468        0.161887  ...  0.203269      0.158655\n",
              "XGBRegressor               0.204845        0.162927  ...  0.197726      0.154410\n",
              "AdaBoostRegressor          0.211872        0.171154  ...  0.204828      0.160057\n",
              "GradientBoostingRegressor  0.204913        0.162970  ...  0.198525      0.155044\n",
              "DecisionTreeRegressor      0.205059        0.163064  ...  0.284698      0.220733\n",
              "RandomForestRegressor      0.205031        0.162997  ...  0.200510      0.156503\n",
              "ExtraTreesRegressor        0.205037        0.163045  ...  0.202273      0.157660\n",
              "KNeighborsRegressor        0.225222        0.178873  ...  0.218940      0.170882\n",
              "Ridge                      0.204745        0.162920  ...  0.199745      0.156328\n",
              "Lasso                      0.204756        0.162939  ...  0.206330      0.162048\n",
              "\n",
              "[10 rows x 22 columns]"
            ]
          },
          "metadata": {
            "tags": []
          },
          "execution_count": 51
        }
      ]
    },
    {
      "cell_type": "markdown",
      "metadata": {
        "id": "jfWWxqJ0Ltpg"
      },
      "source": [
        "Quering the Min MAE and RMSE"
      ],
      "id": "jfWWxqJ0Ltpg"
    },
    {
      "cell_type": "code",
      "metadata": {
        "colab": {
          "base_uri": "https://localhost:8080/"
        },
        "id": "JxyZA24Y6TkR",
        "outputId": "be5ef5fa-caa6-40dd-f355-6016b1316512"
      },
      "source": [
        "comparison2.xs(\"MAE\", axis=1,level=1).apply(np.min, axis=1)"
      ],
      "id": "JxyZA24Y6TkR",
      "execution_count": 52,
      "outputs": [
        {
          "output_type": "execute_result",
          "data": {
            "text/plain": [
              "SVR                          0.153930\n",
              "XGBRegressor                 0.154410\n",
              "AdaBoostRegressor            0.158557\n",
              "GradientBoostingRegressor    0.155044\n",
              "DecisionTreeRegressor        0.163064\n",
              "RandomForestRegressor        0.156503\n",
              "ExtraTreesRegressor          0.157660\n",
              "KNeighborsRegressor          0.165488\n",
              "Ridge                        0.156328\n",
              "Lasso                        0.162048\n",
              "dtype: float64"
            ]
          },
          "metadata": {
            "tags": []
          },
          "execution_count": 52
        }
      ]
    },
    {
      "cell_type": "code",
      "metadata": {
        "colab": {
          "base_uri": "https://localhost:8080/"
        },
        "id": "eOmqgMNq64ls",
        "outputId": "78119e33-fc36-46de-d9b0-dc06b8e5e3b8"
      },
      "source": [
        "comparison2.xs(\"RMSE\", axis=1,level=1).apply(np.min, axis=1)"
      ],
      "id": "eOmqgMNq64ls",
      "execution_count": 53,
      "outputs": [
        {
          "output_type": "execute_result",
          "data": {
            "text/plain": [
              "SVR                          0.195610\n",
              "XGBRegressor                 0.196509\n",
              "AdaBoostRegressor            0.203899\n",
              "GradientBoostingRegressor    0.197298\n",
              "DecisionTreeRegressor        0.205059\n",
              "RandomForestRegressor        0.199299\n",
              "ExtraTreesRegressor          0.200681\n",
              "KNeighborsRegressor          0.211086\n",
              "Ridge                        0.197270\n",
              "Lasso                        0.204756\n",
              "dtype: float64"
            ]
          },
          "metadata": {
            "tags": []
          },
          "execution_count": 53
        }
      ]
    },
    {
      "cell_type": "markdown",
      "metadata": {
        "id": "aoUKe_OGL0gV"
      },
      "source": [
        "SVR is the best so far. And we can see from the rest"
      ],
      "id": "aoUKe_OGL0gV"
    },
    {
      "cell_type": "code",
      "metadata": {
        "colab": {
          "base_uri": "https://localhost:8080/",
          "height": 368
        },
        "id": "UwWyJRvF9YpJ",
        "outputId": "8cfca778-3a8b-4a2d-cc22-23e1e1f88b46"
      },
      "source": [
        "SVR_model = SVR()\n",
        "SVR_params = { 'kernel' : ['rbf'], # Kernel type to be used in the algorithm\n",
        "              'epsilon': np.arange(0.001, 0.15, 0.04), \n",
        "              'C': np.arange(5, 45, 6) #  Regularization parameter (a penality)\n",
        "             }\n",
        "# execute search to get estimators\n",
        "fitted_model = RandomizedSearchCV(SVR_model,\n",
        "                                    param_distributions=SVR_params,\n",
        "                                    cv=5,\n",
        "                                    scoring=\"neg_mean_squared_error\",\n",
        "                                    verbose=0,\n",
        "                                    return_train_score=True).fit(X_train, y_train)\n",
        "                                    \n",
        "best_rmse = math.sqrt(-fitted_model.best_score_)\n",
        "svr_estimator = fitted_model.best_estimator_\n",
        "\n",
        "# summarize result   \n",
        "print(\"Best cross validated rmse score: {}\".format(math.sqrt((-1)*fitted_model.best_score_)))\n",
        "print('Best Hyperparameters: {}'.format(fitted_model.best_params_))\n",
        "\n",
        "# test the model on the test data \n",
        "preds = svr_estimator.predict(X_test)\n",
        "results = pd.DataFrame(data={\"ter\":y_test,\"predicts\":preds})\n",
        "results.hist()"
      ],
      "id": "UwWyJRvF9YpJ",
      "execution_count": 54,
      "outputs": [
        {
          "output_type": "stream",
          "text": [
            "Best cross validated rmse score: 0.1979075958734316\n",
            "Best Hyperparameters: {'kernel': 'rbf', 'epsilon': 0.121, 'C': 41}\n"
          ],
          "name": "stdout"
        },
        {
          "output_type": "execute_result",
          "data": {
            "text/plain": [
              "array([[<matplotlib.axes._subplots.AxesSubplot object at 0x7f785138ba90>,\n",
              "        <matplotlib.axes._subplots.AxesSubplot object at 0x7f78512fa128>]],\n",
              "      dtype=object)"
            ]
          },
          "metadata": {
            "tags": []
          },
          "execution_count": 54
        },
        {
          "output_type": "display_data",
          "data": {
            "image/png": "[encoded data removed]",
            "text/plain": [
              "<Figure size 432x288 with 2 Axes>"
            ]
          },
          "metadata": {
            "tags": []
          }
        }
      ]
    },
    {
      "cell_type": "code",
      "metadata": {
        "id": "SZF4s1iQ51_C"
      },
      "source": [
        "# import pickle as pkl\n",
        "# pkl.dump(comparison, open(\"comparison2.pkl\", 'wb'))"
      ],
      "id": "SZF4s1iQ51_C",
      "execution_count": null,
      "outputs": []
    },
    {
      "cell_type": "markdown",
      "metadata": {
        "id": "PrIapQ2oWF2h"
      },
      "source": [
        "## Feature Selection"
      ],
      "id": "PrIapQ2oWF2h"
    },
    {
      "cell_type": "markdown",
      "metadata": {
        "id": "IqDVgNlRsqPy"
      },
      "source": [
        "### Corrolation\n",
        "\n",
        "We should not fit highly corrolated data in our model, otherwise we might have overfitting problem. For that reason if there are two highly corrolated features we should drop the one that has more corrolation with other feature(s).\n",
        "This might be our case because we have features which are dependent on each other so for sure only one should stay but that depends on the corrolation it has with others."
      ],
      "id": "IqDVgNlRsqPy"
    },
    {
      "cell_type": "code",
      "metadata": {
        "colab": {
          "base_uri": "https://localhost:8080/",
          "height": 698
        },
        "id": "1knd_Q3pONuh",
        "outputId": "b27a3fc2-991b-4536-9bad-3599ea9742d5"
      },
      "source": [
        "#Correlation map to see how features are correlated with TER\n",
        "corrmat = df_features.corr()\n",
        "plt.subplots(figsize=(12,9))\n",
        "sns.heatmap(corrmat, vmax=0.9, square=True)"
      ],
      "id": "1knd_Q3pONuh",
      "execution_count": 55,
      "outputs": [
        {
          "output_type": "execute_result",
          "data": {
            "text/plain": [
              "<matplotlib.axes._subplots.AxesSubplot at 0x7f7851283860>"
            ]
          },
          "metadata": {
            "tags": []
          },
          "execution_count": 55
        },
        {
          "output_type": "display_data",
          "data": {
            "image/png": "[encoded data removed]",
            "text/plain": [
              "<Figure size 864x648 with 2 Axes>"
            ]
          },
          "metadata": {
            "tags": []
          }
        }
      ]
    },
    {
      "cell_type": "markdown",
      "metadata": {
        "id": "iiacjbnJs1A-"
      },
      "source": [
        "As expected, features which are dependent on each other are highly corrolated. \n",
        "\n",
        "*  The nb of tokens for source and target sentences are highly corrolated with the n-grams features. Since n-grams are slightly more corrolated with TER we shall drop the s_nb_tokens and t_nb_tokens feature.\n",
        "\n",
        "*  The 3 diff_numeric features has the same story. The diff_s_t_nb_num_t_normalized is slighlty more negatively corrolated with TER. so we will only keep it and drop the other 2.\n",
        "\n",
        "* The 2 sentenceBert scores are also highly corrolated together. Both have negative corrolation with TER. sentenceBert_kendall_rank is slightly more corrolated so we are keeping it.\n",
        "\n",
        "*   Same thing with puncuation features. We will keep diff_s_t_nb_punc_s_normalized.\n",
        "\n",
        "\n"
      ],
      "id": "iiacjbnJs1A-"
    },
    {
      "cell_type": "code",
      "metadata": {
        "id": "INUfGlv7vGM_"
      },
      "source": [
        "features_drop = ['s_nb_tokens', 't_nb_tokens', 'diff_s_t_nb_num', 'diff_s_t_nb_num_t_normalized', 'sentenceBert_cosine_sim',\n",
        " 'diff_s_t_nb_punc_t_normalized', 'diff_s_t_nb_punc']\n",
        "\n",
        "df_features.drop(columns=features_drop, inplace=True)"
      ],
      "id": "INUfGlv7vGM_",
      "execution_count": 56,
      "outputs": []
    },
    {
      "cell_type": "markdown",
      "metadata": {
        "id": "c7Kz5z_ctMBn"
      },
      "source": [
        "### Feature Importance\n",
        "\n",
        "We will use bagged decision trees like Random Forest and Extra Trees to estimate the importance of features."
      ],
      "id": "c7Kz5z_ctMBn"
    },
    {
      "cell_type": "code",
      "metadata": {
        "colab": {
          "base_uri": "https://localhost:8080/"
        },
        "id": "Ir9yOK4yvIfx",
        "outputId": "afcc6e9b-25b9-4596-cbee-2927d96e2ebf"
      },
      "source": [
        "df_features.columns"
      ],
      "id": "Ir9yOK4yvIfx",
      "execution_count": 57,
      "outputs": [
        {
          "output_type": "execute_result",
          "data": {
            "text/plain": [
              "Index(['source', 'target', 'reference', 'TER', 's_avg_token_length',\n",
              "       't_avg_token_length', 's_nb_stop_words', 't_nb_stop_words',\n",
              "       's_perc_puncuation', 't_perc_puncuation',\n",
              "       'diff_s_t_nb_punc_s_normalized', 's_nb_numeric', 't_nb_numeric',\n",
              "       'diff_s_t_nb_num_s_normalized', 's_perc_verb_pos', 't_perc_verb_pos',\n",
              "       'ratio_verb_pos', 's_perc_noun_pos', 't_perc_noun_pos',\n",
              "       'ratio_noun_pos', 's_perc_pronoun_pos', 't_perc_pronoun_pos',\n",
              "       'ratio_pronoun_pos', 'sentenceBert_kendall_rank',\n",
              "       's_perc_unique_trigrams', 's_perc_unique_bigrams',\n",
              "       's_perc_unique_unigrams', 't_perc_unique_trigrams',\n",
              "       't_perc_unique_bigrams', 't_perc_unique_unigrams'],\n",
              "      dtype='object')"
            ]
          },
          "metadata": {
            "tags": []
          },
          "execution_count": 57
        }
      ]
    },
    {
      "cell_type": "code",
      "metadata": {
        "id": "DLcGx-SAu-2N"
      },
      "source": [
        "x_features = ['s_avg_token_length',\n",
        "       't_avg_token_length', 's_nb_stop_words', 't_nb_stop_words',\n",
        "       's_perc_puncuation', 't_perc_puncuation',\n",
        "       'diff_s_t_nb_punc_s_normalized', 's_nb_numeric', 't_nb_numeric',\n",
        "       'diff_s_t_nb_num_s_normalized', 's_perc_verb_pos', 't_perc_verb_pos',\n",
        "       'ratio_verb_pos', 's_perc_noun_pos', 't_perc_noun_pos',\n",
        "       'ratio_noun_pos', 's_perc_pronoun_pos', 't_perc_pronoun_pos',\n",
        "       'ratio_pronoun_pos', 'sentenceBert_kendall_rank',\n",
        "       's_perc_unique_trigrams', 's_perc_unique_bigrams',\n",
        "       's_perc_unique_unigrams', 't_perc_unique_trigrams',\n",
        "       't_perc_unique_bigrams', 't_perc_unique_unigrams']\n",
        "\n",
        "X = df_features[x_features].values.astype(np.float32)\n",
        "y = df_features[\"TER\"].values.astype(np.float32)\n",
        "\n",
        "X_train, X_test, y_train, y_test = train_test_split(X, y, test_size=0.1, random_state=0)"
      ],
      "id": "DLcGx-SAu-2N",
      "execution_count": 58,
      "outputs": []
    },
    {
      "cell_type": "code",
      "metadata": {
        "colab": {
          "base_uri": "https://localhost:8080/"
        },
        "id": "uDorgBkQupdc",
        "outputId": "6374fac3-a237-4850-f696-84d8499042a3"
      },
      "source": [
        "rfg_model = RandomForestRegressor(n_estimators=1000, max_depth=3, min_samples_leaf=3, n_jobs=-1)\n",
        "rfg_model.fit(X, y)"
      ],
      "id": "uDorgBkQupdc",
      "execution_count": 59,
      "outputs": [
        {
          "output_type": "execute_result",
          "data": {
            "text/plain": [
              "RandomForestRegressor(bootstrap=True, ccp_alpha=0.0, criterion='mse',\n",
              "                      max_depth=3, max_features='auto', max_leaf_nodes=None,\n",
              "                      max_samples=None, min_impurity_decrease=0.0,\n",
              "                      min_impurity_split=None, min_samples_leaf=3,\n",
              "                      min_samples_split=2, min_weight_fraction_leaf=0.0,\n",
              "                      n_estimators=1000, n_jobs=-1, oob_score=False,\n",
              "                      random_state=None, verbose=0, warm_start=False)"
            ]
          },
          "metadata": {
            "tags": []
          },
          "execution_count": 59
        }
      ]
    },
    {
      "cell_type": "code",
      "metadata": {
        "colab": {
          "base_uri": "https://localhost:8080/",
          "height": 717
        },
        "id": "Kg71z1ZFvbCd",
        "outputId": "2ba47586-f6c2-4154-db3d-6c999e3004dd"
      },
      "source": [
        "# get importance\n",
        "importance = rfg_model.feature_importances_\n",
        "# make importances relative to max importance\n",
        "importance = 100.0 * (importance / importance.max())\n",
        "\n",
        "# summarize feature importance\n",
        "for i, v in enumerate(importance):\n",
        "\tprint('Feature %0d: %s, Score: %.5f' % (i, x_features[i], v))\n",
        "# plot feature importance\n",
        "plt.bar(range(len(importance)), importance)\n",
        "plt.ylabel('Relative Importance')\n",
        "plt.show()"
      ],
      "id": "Kg71z1ZFvbCd",
      "execution_count": 60,
      "outputs": [
        {
          "output_type": "stream",
          "text": [
            "Feature 0: s_avg_token_length, Score: 7.25298\n",
            "Feature 1: t_avg_token_length, Score: 4.39069\n",
            "Feature 2: s_nb_stop_words, Score: 0.61321\n",
            "Feature 3: t_nb_stop_words, Score: 2.61488\n",
            "Feature 4: s_perc_puncuation, Score: 10.81420\n",
            "Feature 5: t_perc_puncuation, Score: 3.19267\n",
            "Feature 6: diff_s_t_nb_punc_s_normalized, Score: 0.87941\n",
            "Feature 7: s_nb_numeric, Score: 0.04429\n",
            "Feature 8: t_nb_numeric, Score: 0.08870\n",
            "Feature 9: diff_s_t_nb_num_s_normalized, Score: 0.07864\n",
            "Feature 10: s_perc_verb_pos, Score: 2.46597\n",
            "Feature 11: t_perc_verb_pos, Score: 0.36536\n",
            "Feature 12: ratio_verb_pos, Score: 30.02712\n",
            "Feature 13: s_perc_noun_pos, Score: 15.06993\n",
            "Feature 14: t_perc_noun_pos, Score: 3.55898\n",
            "Feature 15: ratio_noun_pos, Score: 4.98460\n",
            "Feature 16: s_perc_pronoun_pos, Score: 0.40574\n",
            "Feature 17: t_perc_pronoun_pos, Score: 0.42555\n",
            "Feature 18: ratio_pronoun_pos, Score: 0.26519\n",
            "Feature 19: sentenceBert_kendall_rank, Score: 100.00000\n",
            "Feature 20: s_perc_unique_trigrams, Score: 0.93942\n",
            "Feature 21: s_perc_unique_bigrams, Score: 0.87842\n",
            "Feature 22: s_perc_unique_unigrams, Score: 1.17083\n",
            "Feature 23: t_perc_unique_trigrams, Score: 0.92551\n",
            "Feature 24: t_perc_unique_bigrams, Score: 0.90390\n",
            "Feature 25: t_perc_unique_unigrams, Score: 0.87097\n"
          ],
          "name": "stdout"
        },
        {
          "output_type": "display_data",
          "data": {
            "image/png": "[encoded data removed]",
            "text/plain": [
              "<Figure size 432x288 with 1 Axes>"
            ]
          },
          "metadata": {
            "tags": []
          }
        }
      ]
    },
    {
      "cell_type": "markdown",
      "metadata": {
        "id": "uUwA7ZAWxodG"
      },
      "source": [
        "Now lets take the features which have importance."
      ],
      "id": "uUwA7ZAWxodG"
    },
    {
      "cell_type": "code",
      "metadata": {
        "colab": {
          "base_uri": "https://localhost:8080/"
        },
        "id": "I8DYuS0Oxy7_",
        "outputId": "77a71e34-2ee9-4587-a9a4-1c4a867fe552"
      },
      "source": [
        "features_imp = list(np.array(x_features)[np.array(importance)!=0])\n",
        "features_imp "
      ],
      "id": "I8DYuS0Oxy7_",
      "execution_count": 61,
      "outputs": [
        {
          "output_type": "execute_result",
          "data": {
            "text/plain": [
              "['s_avg_token_length',\n",
              " 't_avg_token_length',\n",
              " 's_nb_stop_words',\n",
              " 't_nb_stop_words',\n",
              " 's_perc_puncuation',\n",
              " 't_perc_puncuation',\n",
              " 'diff_s_t_nb_punc_s_normalized',\n",
              " 's_nb_numeric',\n",
              " 't_nb_numeric',\n",
              " 'diff_s_t_nb_num_s_normalized',\n",
              " 's_perc_verb_pos',\n",
              " 't_perc_verb_pos',\n",
              " 'ratio_verb_pos',\n",
              " 's_perc_noun_pos',\n",
              " 't_perc_noun_pos',\n",
              " 'ratio_noun_pos',\n",
              " 's_perc_pronoun_pos',\n",
              " 't_perc_pronoun_pos',\n",
              " 'ratio_pronoun_pos',\n",
              " 'sentenceBert_kendall_rank',\n",
              " 's_perc_unique_trigrams',\n",
              " 's_perc_unique_bigrams',\n",
              " 's_perc_unique_unigrams',\n",
              " 't_perc_unique_trigrams',\n",
              " 't_perc_unique_bigrams',\n",
              " 't_perc_unique_unigrams']"
            ]
          },
          "metadata": {
            "tags": []
          },
          "execution_count": 61
        }
      ]
    },
    {
      "cell_type": "code",
      "metadata": {
        "id": "kcqtB0zIxsr5"
      },
      "source": [
        "df_features_imp = df_features[features_imp]"
      ],
      "id": "kcqtB0zIxsr5",
      "execution_count": 62,
      "outputs": []
    },
    {
      "cell_type": "code",
      "metadata": {
        "colab": {
          "base_uri": "https://localhost:8080/",
          "height": 226
        },
        "id": "--8ycojDyF7C",
        "outputId": "aa36f54d-a29d-4ee0-f38f-29b91d3f028a"
      },
      "source": [
        "df_features_imp.head()"
      ],
      "id": "--8ycojDyF7C",
      "execution_count": 63,
      "outputs": [
        {
          "output_type": "execute_result",
          "data": {
            "text/html": [
              "<div>\n",
              "<style scoped>\n",
              "    .dataframe tbody tr th:only-of-type {\n",
              "        vertical-align: middle;\n",
              "    }\n",
              "\n",
              "    .dataframe tbody tr th {\n",
              "        vertical-align: top;\n",
              "    }\n",
              "\n",
              "    .dataframe thead th {\n",
              "        text-align: right;\n",
              "    }\n",
              "</style>\n",
              "<table border=\"1\" class=\"dataframe\">\n",
              "  <thead>\n",
              "    <tr style=\"text-align: right;\">\n",
              "      <th></th>\n",
              "      <th>s_avg_token_length</th>\n",
              "      <th>t_avg_token_length</th>\n",
              "      <th>s_nb_stop_words</th>\n",
              "      <th>t_nb_stop_words</th>\n",
              "      <th>s_perc_puncuation</th>\n",
              "      <th>t_perc_puncuation</th>\n",
              "      <th>diff_s_t_nb_punc_s_normalized</th>\n",
              "      <th>s_nb_numeric</th>\n",
              "      <th>t_nb_numeric</th>\n",
              "      <th>diff_s_t_nb_num_s_normalized</th>\n",
              "      <th>s_perc_verb_pos</th>\n",
              "      <th>t_perc_verb_pos</th>\n",
              "      <th>ratio_verb_pos</th>\n",
              "      <th>s_perc_noun_pos</th>\n",
              "      <th>t_perc_noun_pos</th>\n",
              "      <th>ratio_noun_pos</th>\n",
              "      <th>s_perc_pronoun_pos</th>\n",
              "      <th>t_perc_pronoun_pos</th>\n",
              "      <th>ratio_pronoun_pos</th>\n",
              "      <th>sentenceBert_kendall_rank</th>\n",
              "      <th>s_perc_unique_trigrams</th>\n",
              "      <th>s_perc_unique_bigrams</th>\n",
              "      <th>s_perc_unique_unigrams</th>\n",
              "      <th>t_perc_unique_trigrams</th>\n",
              "      <th>t_perc_unique_bigrams</th>\n",
              "      <th>t_perc_unique_unigrams</th>\n",
              "    </tr>\n",
              "  </thead>\n",
              "  <tbody>\n",
              "    <tr>\n",
              "      <th>0</th>\n",
              "      <td>4.273</td>\n",
              "      <td>4.600</td>\n",
              "      <td>3</td>\n",
              "      <td>1</td>\n",
              "      <td>0.000</td>\n",
              "      <td>0.000</td>\n",
              "      <td>0.000</td>\n",
              "      <td>1</td>\n",
              "      <td>1</td>\n",
              "      <td>0.0</td>\n",
              "      <td>0.091</td>\n",
              "      <td>0.100</td>\n",
              "      <td>1.0</td>\n",
              "      <td>0.000</td>\n",
              "      <td>0.000</td>\n",
              "      <td>0.000</td>\n",
              "      <td>0.000</td>\n",
              "      <td>0.000</td>\n",
              "      <td>0.0</td>\n",
              "      <td>0.874557</td>\n",
              "      <td>0.000089</td>\n",
              "      <td>0.000119</td>\n",
              "      <td>0.000367</td>\n",
              "      <td>0.000089</td>\n",
              "      <td>0.000119</td>\n",
              "      <td>0.000367</td>\n",
              "    </tr>\n",
              "    <tr>\n",
              "      <th>1</th>\n",
              "      <td>4.278</td>\n",
              "      <td>5.211</td>\n",
              "      <td>7</td>\n",
              "      <td>8</td>\n",
              "      <td>0.056</td>\n",
              "      <td>0.053</td>\n",
              "      <td>0.000</td>\n",
              "      <td>0</td>\n",
              "      <td>0</td>\n",
              "      <td>0.0</td>\n",
              "      <td>0.111</td>\n",
              "      <td>0.105</td>\n",
              "      <td>1.0</td>\n",
              "      <td>0.111</td>\n",
              "      <td>0.158</td>\n",
              "      <td>0.667</td>\n",
              "      <td>0.056</td>\n",
              "      <td>0.053</td>\n",
              "      <td>1.0</td>\n",
              "      <td>0.703737</td>\n",
              "      <td>0.000167</td>\n",
              "      <td>0.000211</td>\n",
              "      <td>0.000587</td>\n",
              "      <td>0.000167</td>\n",
              "      <td>0.000211</td>\n",
              "      <td>0.000587</td>\n",
              "    </tr>\n",
              "    <tr>\n",
              "      <th>2</th>\n",
              "      <td>3.478</td>\n",
              "      <td>4.304</td>\n",
              "      <td>10</td>\n",
              "      <td>11</td>\n",
              "      <td>0.087</td>\n",
              "      <td>0.130</td>\n",
              "      <td>0.043</td>\n",
              "      <td>0</td>\n",
              "      <td>0</td>\n",
              "      <td>0.0</td>\n",
              "      <td>0.043</td>\n",
              "      <td>0.043</td>\n",
              "      <td>1.0</td>\n",
              "      <td>0.174</td>\n",
              "      <td>0.174</td>\n",
              "      <td>1.000</td>\n",
              "      <td>0.087</td>\n",
              "      <td>0.043</td>\n",
              "      <td>2.0</td>\n",
              "      <td>0.728305</td>\n",
              "      <td>0.000223</td>\n",
              "      <td>0.000277</td>\n",
              "      <td>0.000770</td>\n",
              "      <td>0.000223</td>\n",
              "      <td>0.000277</td>\n",
              "      <td>0.000770</td>\n",
              "    </tr>\n",
              "    <tr>\n",
              "      <th>3</th>\n",
              "      <td>4.818</td>\n",
              "      <td>5.545</td>\n",
              "      <td>2</td>\n",
              "      <td>1</td>\n",
              "      <td>0.000</td>\n",
              "      <td>0.000</td>\n",
              "      <td>0.000</td>\n",
              "      <td>0</td>\n",
              "      <td>0</td>\n",
              "      <td>0.0</td>\n",
              "      <td>0.182</td>\n",
              "      <td>0.182</td>\n",
              "      <td>1.0</td>\n",
              "      <td>0.273</td>\n",
              "      <td>0.273</td>\n",
              "      <td>1.000</td>\n",
              "      <td>0.000</td>\n",
              "      <td>0.000</td>\n",
              "      <td>0.0</td>\n",
              "      <td>0.666860</td>\n",
              "      <td>0.000089</td>\n",
              "      <td>0.000119</td>\n",
              "      <td>0.000367</td>\n",
              "      <td>0.000089</td>\n",
              "      <td>0.000119</td>\n",
              "      <td>0.000367</td>\n",
              "    </tr>\n",
              "    <tr>\n",
              "      <th>4</th>\n",
              "      <td>5.211</td>\n",
              "      <td>5.947</td>\n",
              "      <td>3</td>\n",
              "      <td>5</td>\n",
              "      <td>0.053</td>\n",
              "      <td>0.053</td>\n",
              "      <td>0.000</td>\n",
              "      <td>0</td>\n",
              "      <td>0</td>\n",
              "      <td>0.0</td>\n",
              "      <td>0.158</td>\n",
              "      <td>0.105</td>\n",
              "      <td>1.5</td>\n",
              "      <td>0.211</td>\n",
              "      <td>0.263</td>\n",
              "      <td>0.800</td>\n",
              "      <td>0.000</td>\n",
              "      <td>0.000</td>\n",
              "      <td>0.0</td>\n",
              "      <td>0.535087</td>\n",
              "      <td>0.000178</td>\n",
              "      <td>0.000224</td>\n",
              "      <td>0.000623</td>\n",
              "      <td>0.000178</td>\n",
              "      <td>0.000224</td>\n",
              "      <td>0.000623</td>\n",
              "    </tr>\n",
              "  </tbody>\n",
              "</table>\n",
              "</div>"
            ],
            "text/plain": [
              "   s_avg_token_length  ...  t_perc_unique_unigrams\n",
              "0  4.273               ...  0.000367              \n",
              "1  4.278               ...  0.000587              \n",
              "2  3.478               ...  0.000770              \n",
              "3  4.818               ...  0.000367              \n",
              "4  5.211               ...  0.000623              \n",
              "\n",
              "[5 rows x 26 columns]"
            ]
          },
          "metadata": {
            "tags": []
          },
          "execution_count": 63
        }
      ]
    },
    {
      "cell_type": "code",
      "metadata": {
        "id": "W3587c4tzAIg"
      },
      "source": [
        "X = df_features_imp.values.astype(np.float32)\n",
        "y = df_features[\"TER\"].values.astype(np.float32)\n",
        "\n",
        "X_train, X_test, y_train, y_test = train_test_split(X, y, test_size=0.1, random_state=0)"
      ],
      "id": "W3587c4tzAIg",
      "execution_count": 64,
      "outputs": []
    },
    {
      "cell_type": "markdown",
      "metadata": {
        "id": "F_yQN5Sk1AHR"
      },
      "source": [
        "## BaseLine models after selecting features"
      ],
      "id": "F_yQN5Sk1AHR"
    },
    {
      "cell_type": "code",
      "metadata": {
        "id": "dR0HkCPtOEmp"
      },
      "source": [
        "scalers = ['standard', 'maxabs', 'minmax', 'quantile', 'yeo-johnson']\n",
        "\n",
        "evaluations = [evaluation]\n",
        "for for_ in ['f', 't']:\n",
        "  for scaler in scalers:\n",
        "    pipelines = get_scaled_models(models, scaler, for_)\n",
        "    scores = evaluate_models(X_train, y_train, pipelines)\n",
        "    type_col = [for_+ '_' +scaler]\n",
        "    cols = pd.MultiIndex.from_product([type_col, ['RMSE', 'MAE']])\n",
        "    new_evaluation = pd.DataFrame(scores, columns=cols, index=model_names)\n",
        "    evaluations.append(new_evaluation)\n",
        "\n",
        "comparison3 = pd.concat(evaluations, axis=1)"
      ],
      "id": "dR0HkCPtOEmp",
      "execution_count": null,
      "outputs": []
    },
    {
      "cell_type": "code",
      "metadata": {
        "colab": {
          "base_uri": "https://localhost:8080/",
          "height": 414
        },
        "id": "ysG16hnJRwT1",
        "outputId": "ed2869dc-46a6-4a32-affd-0ac434b4ffe9"
      },
      "source": [
        "comparison3"
      ],
      "id": "ysG16hnJRwT1",
      "execution_count": 68,
      "outputs": [
        {
          "output_type": "execute_result",
          "data": {
            "text/html": [
              "<div>\n",
              "<style scoped>\n",
              "    .dataframe tbody tr th:only-of-type {\n",
              "        vertical-align: middle;\n",
              "    }\n",
              "\n",
              "    .dataframe tbody tr th {\n",
              "        vertical-align: top;\n",
              "    }\n",
              "\n",
              "    .dataframe thead tr th {\n",
              "        text-align: left;\n",
              "    }\n",
              "</style>\n",
              "<table border=\"1\" class=\"dataframe\">\n",
              "  <thead>\n",
              "    <tr>\n",
              "      <th></th>\n",
              "      <th colspan=\"2\" halign=\"left\">baseline_models</th>\n",
              "      <th colspan=\"2\" halign=\"left\">f_standard</th>\n",
              "      <th colspan=\"2\" halign=\"left\">f_maxabs</th>\n",
              "      <th colspan=\"2\" halign=\"left\">f_minmax</th>\n",
              "      <th colspan=\"2\" halign=\"left\">f_quantile</th>\n",
              "      <th colspan=\"2\" halign=\"left\">f_yeo-johnson</th>\n",
              "      <th colspan=\"2\" halign=\"left\">t_standard</th>\n",
              "      <th colspan=\"2\" halign=\"left\">t_maxabs</th>\n",
              "      <th colspan=\"2\" halign=\"left\">t_minmax</th>\n",
              "      <th colspan=\"2\" halign=\"left\">t_quantile</th>\n",
              "      <th colspan=\"2\" halign=\"left\">t_yeo-johnson</th>\n",
              "    </tr>\n",
              "    <tr>\n",
              "      <th></th>\n",
              "      <th>RMSE</th>\n",
              "      <th>MAE</th>\n",
              "      <th>RMSE</th>\n",
              "      <th>MAE</th>\n",
              "      <th>RMSE</th>\n",
              "      <th>MAE</th>\n",
              "      <th>RMSE</th>\n",
              "      <th>MAE</th>\n",
              "      <th>RMSE</th>\n",
              "      <th>MAE</th>\n",
              "      <th>RMSE</th>\n",
              "      <th>MAE</th>\n",
              "      <th>RMSE</th>\n",
              "      <th>MAE</th>\n",
              "      <th>RMSE</th>\n",
              "      <th>MAE</th>\n",
              "      <th>RMSE</th>\n",
              "      <th>MAE</th>\n",
              "      <th>RMSE</th>\n",
              "      <th>MAE</th>\n",
              "      <th>RMSE</th>\n",
              "      <th>MAE</th>\n",
              "    </tr>\n",
              "  </thead>\n",
              "  <tbody>\n",
              "    <tr>\n",
              "      <th>SVR</th>\n",
              "      <td>0.205468</td>\n",
              "      <td>0.161887</td>\n",
              "      <td>0.200207</td>\n",
              "      <td>0.158274</td>\n",
              "      <td>0.195758</td>\n",
              "      <td>0.154079</td>\n",
              "      <td>0.196341</td>\n",
              "      <td>0.154610</td>\n",
              "      <td>0.197979</td>\n",
              "      <td>0.155458</td>\n",
              "      <td>0.200793</td>\n",
              "      <td>0.158461</td>\n",
              "      <td>0.201044</td>\n",
              "      <td>0.157168</td>\n",
              "      <td>0.198046</td>\n",
              "      <td>0.156352</td>\n",
              "      <td>0.198050</td>\n",
              "      <td>0.156352</td>\n",
              "      <td>0.201100</td>\n",
              "      <td>0.157226</td>\n",
              "      <td>0.201146</td>\n",
              "      <td>0.157226</td>\n",
              "    </tr>\n",
              "    <tr>\n",
              "      <th>XGBRegressor</th>\n",
              "      <td>0.204845</td>\n",
              "      <td>0.162927</td>\n",
              "      <td>0.196842</td>\n",
              "      <td>0.155486</td>\n",
              "      <td>0.196834</td>\n",
              "      <td>0.155474</td>\n",
              "      <td>0.196821</td>\n",
              "      <td>0.155469</td>\n",
              "      <td>0.196842</td>\n",
              "      <td>0.155476</td>\n",
              "      <td>0.196818</td>\n",
              "      <td>0.155505</td>\n",
              "      <td>0.196838</td>\n",
              "      <td>0.155379</td>\n",
              "      <td>0.197025</td>\n",
              "      <td>0.155475</td>\n",
              "      <td>0.197025</td>\n",
              "      <td>0.155475</td>\n",
              "      <td>0.209733</td>\n",
              "      <td>0.159381</td>\n",
              "      <td>0.197825</td>\n",
              "      <td>0.154244</td>\n",
              "    </tr>\n",
              "    <tr>\n",
              "      <th>AdaBoostRegressor</th>\n",
              "      <td>0.211872</td>\n",
              "      <td>0.171154</td>\n",
              "      <td>0.204758</td>\n",
              "      <td>0.159254</td>\n",
              "      <td>0.205803</td>\n",
              "      <td>0.160289</td>\n",
              "      <td>0.205759</td>\n",
              "      <td>0.160673</td>\n",
              "      <td>0.205047</td>\n",
              "      <td>0.159832</td>\n",
              "      <td>0.205595</td>\n",
              "      <td>0.160424</td>\n",
              "      <td>0.205511</td>\n",
              "      <td>0.160484</td>\n",
              "      <td>0.204019</td>\n",
              "      <td>0.159230</td>\n",
              "      <td>0.204781</td>\n",
              "      <td>0.159779</td>\n",
              "      <td>0.207580</td>\n",
              "      <td>0.160792</td>\n",
              "      <td>0.204688</td>\n",
              "      <td>0.159311</td>\n",
              "    </tr>\n",
              "    <tr>\n",
              "      <th>GradientBoostingRegressor</th>\n",
              "      <td>0.204913</td>\n",
              "      <td>0.162970</td>\n",
              "      <td>0.197396</td>\n",
              "      <td>0.155658</td>\n",
              "      <td>0.197384</td>\n",
              "      <td>0.155658</td>\n",
              "      <td>0.197369</td>\n",
              "      <td>0.155649</td>\n",
              "      <td>0.197451</td>\n",
              "      <td>0.155687</td>\n",
              "      <td>0.197255</td>\n",
              "      <td>0.155650</td>\n",
              "      <td>0.197524</td>\n",
              "      <td>0.155705</td>\n",
              "      <td>0.197515</td>\n",
              "      <td>0.155700</td>\n",
              "      <td>0.197425</td>\n",
              "      <td>0.155698</td>\n",
              "      <td>0.210497</td>\n",
              "      <td>0.159752</td>\n",
              "      <td>0.197959</td>\n",
              "      <td>0.154565</td>\n",
              "    </tr>\n",
              "    <tr>\n",
              "      <th>DecisionTreeRegressor</th>\n",
              "      <td>0.205059</td>\n",
              "      <td>0.163064</td>\n",
              "      <td>0.281380</td>\n",
              "      <td>0.217465</td>\n",
              "      <td>0.282007</td>\n",
              "      <td>0.217898</td>\n",
              "      <td>0.281921</td>\n",
              "      <td>0.217902</td>\n",
              "      <td>0.281595</td>\n",
              "      <td>0.217481</td>\n",
              "      <td>0.280842</td>\n",
              "      <td>0.217422</td>\n",
              "      <td>0.282100</td>\n",
              "      <td>0.218183</td>\n",
              "      <td>0.282403</td>\n",
              "      <td>0.218590</td>\n",
              "      <td>0.281478</td>\n",
              "      <td>0.219117</td>\n",
              "      <td>0.282521</td>\n",
              "      <td>0.220597</td>\n",
              "      <td>0.281260</td>\n",
              "      <td>0.219283</td>\n",
              "    </tr>\n",
              "    <tr>\n",
              "      <th>RandomForestRegressor</th>\n",
              "      <td>0.205031</td>\n",
              "      <td>0.162997</td>\n",
              "      <td>0.199401</td>\n",
              "      <td>0.157369</td>\n",
              "      <td>0.199414</td>\n",
              "      <td>0.157371</td>\n",
              "      <td>0.199414</td>\n",
              "      <td>0.157374</td>\n",
              "      <td>0.199323</td>\n",
              "      <td>0.157270</td>\n",
              "      <td>0.199297</td>\n",
              "      <td>0.157382</td>\n",
              "      <td>0.199332</td>\n",
              "      <td>0.157280</td>\n",
              "      <td>0.199251</td>\n",
              "      <td>0.157255</td>\n",
              "      <td>0.199345</td>\n",
              "      <td>0.157387</td>\n",
              "      <td>0.219386</td>\n",
              "      <td>0.166627</td>\n",
              "      <td>0.200405</td>\n",
              "      <td>0.156479</td>\n",
              "    </tr>\n",
              "    <tr>\n",
              "      <th>ExtraTreesRegressor</th>\n",
              "      <td>0.205037</td>\n",
              "      <td>0.163045</td>\n",
              "      <td>0.200961</td>\n",
              "      <td>0.158323</td>\n",
              "      <td>0.200961</td>\n",
              "      <td>0.158323</td>\n",
              "      <td>0.200948</td>\n",
              "      <td>0.158313</td>\n",
              "      <td>0.201836</td>\n",
              "      <td>0.158721</td>\n",
              "      <td>0.201010</td>\n",
              "      <td>0.158372</td>\n",
              "      <td>0.200751</td>\n",
              "      <td>0.158239</td>\n",
              "      <td>0.200980</td>\n",
              "      <td>0.158403</td>\n",
              "      <td>0.200594</td>\n",
              "      <td>0.158262</td>\n",
              "      <td>0.219693</td>\n",
              "      <td>0.166890</td>\n",
              "      <td>0.201349</td>\n",
              "      <td>0.156524</td>\n",
              "    </tr>\n",
              "    <tr>\n",
              "      <th>KNeighborsRegressor</th>\n",
              "      <td>0.225222</td>\n",
              "      <td>0.178873</td>\n",
              "      <td>0.211236</td>\n",
              "      <td>0.165352</td>\n",
              "      <td>0.211378</td>\n",
              "      <td>0.165738</td>\n",
              "      <td>0.211120</td>\n",
              "      <td>0.165676</td>\n",
              "      <td>0.212879</td>\n",
              "      <td>0.166819</td>\n",
              "      <td>0.211961</td>\n",
              "      <td>0.166459</td>\n",
              "      <td>0.215899</td>\n",
              "      <td>0.170337</td>\n",
              "      <td>0.215899</td>\n",
              "      <td>0.170337</td>\n",
              "      <td>0.215899</td>\n",
              "      <td>0.170337</td>\n",
              "      <td>0.239756</td>\n",
              "      <td>0.185575</td>\n",
              "      <td>0.216423</td>\n",
              "      <td>0.169597</td>\n",
              "    </tr>\n",
              "    <tr>\n",
              "      <th>Ridge</th>\n",
              "      <td>0.204745</td>\n",
              "      <td>0.162920</td>\n",
              "      <td>0.197886</td>\n",
              "      <td>0.157048</td>\n",
              "      <td>0.197923</td>\n",
              "      <td>0.156985</td>\n",
              "      <td>0.197919</td>\n",
              "      <td>0.156986</td>\n",
              "      <td>0.198432</td>\n",
              "      <td>0.157245</td>\n",
              "      <td>0.197721</td>\n",
              "      <td>0.156782</td>\n",
              "      <td>0.198873</td>\n",
              "      <td>0.157780</td>\n",
              "      <td>0.198873</td>\n",
              "      <td>0.157780</td>\n",
              "      <td>0.198873</td>\n",
              "      <td>0.157780</td>\n",
              "      <td>0.211379</td>\n",
              "      <td>0.161583</td>\n",
              "      <td>0.200520</td>\n",
              "      <td>0.156904</td>\n",
              "    </tr>\n",
              "    <tr>\n",
              "      <th>Lasso</th>\n",
              "      <td>0.204756</td>\n",
              "      <td>0.162939</td>\n",
              "      <td>0.204756</td>\n",
              "      <td>0.162939</td>\n",
              "      <td>0.204756</td>\n",
              "      <td>0.162939</td>\n",
              "      <td>0.204756</td>\n",
              "      <td>0.162939</td>\n",
              "      <td>0.204756</td>\n",
              "      <td>0.162939</td>\n",
              "      <td>0.204756</td>\n",
              "      <td>0.162939</td>\n",
              "      <td>0.204756</td>\n",
              "      <td>0.162939</td>\n",
              "      <td>0.204756</td>\n",
              "      <td>0.162939</td>\n",
              "      <td>0.204756</td>\n",
              "      <td>0.162939</td>\n",
              "      <td>0.214654</td>\n",
              "      <td>0.165814</td>\n",
              "      <td>0.206330</td>\n",
              "      <td>0.162048</td>\n",
              "    </tr>\n",
              "  </tbody>\n",
              "</table>\n",
              "</div>"
            ],
            "text/plain": [
              "                          baseline_models            ... t_yeo-johnson          \n",
              "                                     RMSE       MAE  ...          RMSE       MAE\n",
              "SVR                        0.205468        0.161887  ...  0.201146      0.157226\n",
              "XGBRegressor               0.204845        0.162927  ...  0.197825      0.154244\n",
              "AdaBoostRegressor          0.211872        0.171154  ...  0.204688      0.159311\n",
              "GradientBoostingRegressor  0.204913        0.162970  ...  0.197959      0.154565\n",
              "DecisionTreeRegressor      0.205059        0.163064  ...  0.281260      0.219283\n",
              "RandomForestRegressor      0.205031        0.162997  ...  0.200405      0.156479\n",
              "ExtraTreesRegressor        0.205037        0.163045  ...  0.201349      0.156524\n",
              "KNeighborsRegressor        0.225222        0.178873  ...  0.216423      0.169597\n",
              "Ridge                      0.204745        0.162920  ...  0.200520      0.156904\n",
              "Lasso                      0.204756        0.162939  ...  0.206330      0.162048\n",
              "\n",
              "[10 rows x 22 columns]"
            ]
          },
          "metadata": {
            "tags": []
          },
          "execution_count": 68
        }
      ]
    },
    {
      "cell_type": "code",
      "metadata": {
        "colab": {
          "base_uri": "https://localhost:8080/"
        },
        "id": "s_plJq7YSiuJ",
        "outputId": "c4296aa0-9952-4544-d2cb-296e23151eeb"
      },
      "source": [
        "comparison.xs(\"MAE\", axis=1,level=1).apply(np.min, axis=1)"
      ],
      "id": "s_plJq7YSiuJ",
      "execution_count": 69,
      "outputs": [
        {
          "output_type": "execute_result",
          "data": {
            "text/plain": [
              "SVR                          0.153930\n",
              "XGBRegressor                 0.154410\n",
              "AdaBoostRegressor            0.158557\n",
              "GradientBoostingRegressor    0.155044\n",
              "DecisionTreeRegressor        0.163064\n",
              "RandomForestRegressor        0.156503\n",
              "ExtraTreesRegressor          0.157660\n",
              "KNeighborsRegressor          0.165488\n",
              "Ridge                        0.156328\n",
              "Lasso                        0.162048\n",
              "dtype: float64"
            ]
          },
          "metadata": {
            "tags": []
          },
          "execution_count": 69
        }
      ]
    },
    {
      "cell_type": "code",
      "metadata": {
        "colab": {
          "base_uri": "https://localhost:8080/"
        },
        "id": "ZiiiVyKESY6h",
        "outputId": "abaf8741-9258-4267-9364-27928e9a21e8"
      },
      "source": [
        "comparison3.xs(\"MAE\", axis=1,level=1).apply(np.min, axis=1)"
      ],
      "id": "ZiiiVyKESY6h",
      "execution_count": 70,
      "outputs": [
        {
          "output_type": "execute_result",
          "data": {
            "text/plain": [
              "SVR                          0.154079\n",
              "XGBRegressor                 0.154244\n",
              "AdaBoostRegressor            0.159230\n",
              "GradientBoostingRegressor    0.154565\n",
              "DecisionTreeRegressor        0.163064\n",
              "RandomForestRegressor        0.156479\n",
              "ExtraTreesRegressor          0.156524\n",
              "KNeighborsRegressor          0.165352\n",
              "Ridge                        0.156782\n",
              "Lasso                        0.162048\n",
              "dtype: float64"
            ]
          },
          "metadata": {
            "tags": []
          },
          "execution_count": 70
        }
      ]
    },
    {
      "cell_type": "code",
      "metadata": {
        "colab": {
          "base_uri": "https://localhost:8080/"
        },
        "id": "T2KkHlHQSvIA",
        "outputId": "503bf349-e3a4-4f9a-b510-5e85604d1b23"
      },
      "source": [
        "comparison.xs(\"RMSE\", axis=1,level=1).apply(np.min, axis=1)"
      ],
      "id": "T2KkHlHQSvIA",
      "execution_count": 71,
      "outputs": [
        {
          "output_type": "execute_result",
          "data": {
            "text/plain": [
              "SVR                          0.195610\n",
              "XGBRegressor                 0.196509\n",
              "AdaBoostRegressor            0.203899\n",
              "GradientBoostingRegressor    0.197298\n",
              "DecisionTreeRegressor        0.205059\n",
              "RandomForestRegressor        0.199299\n",
              "ExtraTreesRegressor          0.200681\n",
              "KNeighborsRegressor          0.211086\n",
              "Ridge                        0.197270\n",
              "Lasso                        0.204756\n",
              "dtype: float64"
            ]
          },
          "metadata": {
            "tags": []
          },
          "execution_count": 71
        }
      ]
    },
    {
      "cell_type": "code",
      "metadata": {
        "colab": {
          "base_uri": "https://localhost:8080/"
        },
        "id": "IZfcWB0FSZFW",
        "outputId": "a6bf5993-c0ab-4820-ffcb-cdb284b95011"
      },
      "source": [
        "comparison3.xs(\"RMSE\", axis=1,level=1).apply(np.min, axis=1)"
      ],
      "id": "IZfcWB0FSZFW",
      "execution_count": 72,
      "outputs": [
        {
          "output_type": "execute_result",
          "data": {
            "text/plain": [
              "SVR                          0.195758\n",
              "XGBRegressor                 0.196818\n",
              "AdaBoostRegressor            0.204019\n",
              "GradientBoostingRegressor    0.197255\n",
              "DecisionTreeRegressor        0.205059\n",
              "RandomForestRegressor        0.199251\n",
              "ExtraTreesRegressor          0.200594\n",
              "KNeighborsRegressor          0.211120\n",
              "Ridge                        0.197721\n",
              "Lasso                        0.204756\n",
              "dtype: float64"
            ]
          },
          "metadata": {
            "tags": []
          },
          "execution_count": 72
        }
      ]
    },
    {
      "cell_type": "code",
      "metadata": {
        "id": "WheChkNxRzT2"
      },
      "source": [
        "# pkl.dump(comparison3, open(\"comparison3.pkl\",'wb'))"
      ],
      "id": "WheChkNxRzT2",
      "execution_count": null,
      "outputs": []
    },
    {
      "cell_type": "markdown",
      "metadata": {
        "id": "Fp1DSMltIwaq"
      },
      "source": [
        "There is a slight improvment in some models after excluding features with no importance at all."
      ],
      "id": "Fp1DSMltIwaq"
    },
    {
      "cell_type": "markdown",
      "metadata": {
        "id": "T8k4JWIp1Ia5"
      },
      "source": [
        "## Fine tune"
      ],
      "id": "T8k4JWIp1Ia5"
    },
    {
      "cell_type": "markdown",
      "metadata": {
        "id": "LqoHagw_Fmlu"
      },
      "source": [
        "### GradientBoostingRegressor"
      ],
      "id": "LqoHagw_Fmlu"
    },
    {
      "cell_type": "code",
      "metadata": {
        "colab": {
          "base_uri": "https://localhost:8080/",
          "height": 385
        },
        "id": "I4Iwi5o_1KQq",
        "outputId": "cefab749-14ee-47ed-c1ed-a8e4b64118cb"
      },
      "source": [
        "GBR_params = {'n_estimators' : np.arange(100, 500, 50), # Number of boosting stages to perform\n",
        "              'learning_rate': np.arange(0.01, 0.1, 0.01),\n",
        "              'max_depth': np.arange(2, 10, 1), # Maximum depth of the individual regression estimators\n",
        "              'min_samples_leaf': np.arange(100, 200, 10), # Minimum number of samples required to be at a leaf node\n",
        "              'alpha': np.arange(0.7, 0.9, 0.05)\n",
        "             }\n",
        "\n",
        "gbr_model = GradientBoostingRegressor()\n",
        "\n",
        "# execute search to get estimators\n",
        "fitted_model = RandomizedSearchCV(gbr_model,\n",
        "                                    param_distributions=GBR_params,\n",
        "                                    cv=5,\n",
        "                                    scoring=\"neg_mean_squared_error\",\n",
        "                                    verbose=0,\n",
        "                                    return_train_score=True).fit(X_train, y_train)\n",
        "\n",
        "best_rmse = math.sqrt(-fitted_model.best_score_)\n",
        "gbr_estimator = fitted_model.best_estimator_\n",
        "\n",
        "# summarize result   \n",
        "print(\"Best cross validated rmse score: {}\".format(math.sqrt((-1)*fitted_model.best_score_)))\n",
        "print('Best Hyperparameters: {}'.format(fitted_model.best_params_))\n",
        "\n",
        "# test the model on the test data \n",
        "preds = gbr_estimator.predict(X_test)\n",
        "print(\"RMSE on test data: \", math.sqrt(metrics.mean_squared_error(y_test, preds)))\n",
        "results = pd.DataFrame(data={\"ter\":y_test, \"predicts\":preds})\n",
        "results.hist()"
      ],
      "id": "I4Iwi5o_1KQq",
      "execution_count": 73,
      "outputs": [
        {
          "output_type": "stream",
          "text": [
            "Best cross validated rmse score: 0.19603523545639193\n",
            "Best Hyperparameters: {'n_estimators': 250, 'min_samples_leaf': 140, 'max_depth': 6, 'learning_rate': 0.03, 'alpha': 0.75}\n",
            "RMSE on test data:  0.1935430196945453\n"
          ],
          "name": "stdout"
        },
        {
          "output_type": "execute_result",
          "data": {
            "text/plain": [
              "array([[<matplotlib.axes._subplots.AxesSubplot object at 0x7f784ffff860>,\n",
              "        <matplotlib.axes._subplots.AxesSubplot object at 0x7f784ffa7eb8>]],\n",
              "      dtype=object)"
            ]
          },
          "metadata": {
            "tags": []
          },
          "execution_count": 73
        },
        {
          "output_type": "display_data",
          "data": {
            "image/png": "[encoded data removed]",
            "text/plain": [
              "<Figure size 432x288 with 2 Axes>"
            ]
          },
          "metadata": {
            "tags": []
          }
        }
      ]
    },
    {
      "cell_type": "code",
      "metadata": {
        "colab": {
          "base_uri": "https://localhost:8080/",
          "height": 206
        },
        "id": "JvTHaoDaKI92",
        "outputId": "0c48c10b-03fb-417a-8625-8ed5cb4e9971"
      },
      "source": [
        "results.tail()"
      ],
      "id": "JvTHaoDaKI92",
      "execution_count": 74,
      "outputs": [
        {
          "output_type": "execute_result",
          "data": {
            "text/html": [
              "<div>\n",
              "<style scoped>\n",
              "    .dataframe tbody tr th:only-of-type {\n",
              "        vertical-align: middle;\n",
              "    }\n",
              "\n",
              "    .dataframe tbody tr th {\n",
              "        vertical-align: top;\n",
              "    }\n",
              "\n",
              "    .dataframe thead th {\n",
              "        text-align: right;\n",
              "    }\n",
              "</style>\n",
              "<table border=\"1\" class=\"dataframe\">\n",
              "  <thead>\n",
              "    <tr style=\"text-align: right;\">\n",
              "      <th></th>\n",
              "      <th>ter</th>\n",
              "      <th>predicts</th>\n",
              "    </tr>\n",
              "  </thead>\n",
              "  <tbody>\n",
              "    <tr>\n",
              "      <th>695</th>\n",
              "      <td>0.20</td>\n",
              "      <td>0.291564</td>\n",
              "    </tr>\n",
              "    <tr>\n",
              "      <th>696</th>\n",
              "      <td>0.29</td>\n",
              "      <td>0.217125</td>\n",
              "    </tr>\n",
              "    <tr>\n",
              "      <th>697</th>\n",
              "      <td>0.48</td>\n",
              "      <td>0.434356</td>\n",
              "    </tr>\n",
              "    <tr>\n",
              "      <th>698</th>\n",
              "      <td>0.11</td>\n",
              "      <td>0.422430</td>\n",
              "    </tr>\n",
              "    <tr>\n",
              "      <th>699</th>\n",
              "      <td>0.88</td>\n",
              "      <td>0.284216</td>\n",
              "    </tr>\n",
              "  </tbody>\n",
              "</table>\n",
              "</div>"
            ],
            "text/plain": [
              "      ter  predicts\n",
              "695  0.20  0.291564\n",
              "696  0.29  0.217125\n",
              "697  0.48  0.434356\n",
              "698  0.11  0.422430\n",
              "699  0.88  0.284216"
            ]
          },
          "metadata": {
            "tags": []
          },
          "execution_count": 74
        }
      ]
    },
    {
      "cell_type": "markdown",
      "metadata": {
        "id": "8kfH7NcZglrL"
      },
      "source": [
        "### SVR"
      ],
      "id": "8kfH7NcZglrL"
    },
    {
      "cell_type": "code",
      "metadata": {
        "colab": {
          "base_uri": "https://localhost:8080/",
          "height": 385
        },
        "id": "AP0VB1GrY53b",
        "outputId": "fe5fbce3-2da1-4b5a-fe52-ec1fa8c86db2"
      },
      "source": [
        "SVR_model = SVR()\n",
        "SVR_params = { 'kernel' : ['rbf'], # Kernel type to be used in the algorithm\n",
        "              'epsilon': np.arange(0.001, 0.15, 0.04), \n",
        "              'C': np.arange(5, 45, 6) #  Regularization parameter (a penality)\n",
        "             }\n",
        "# execute search to get estimators\n",
        "fitted_model = RandomizedSearchCV(SVR_model,\n",
        "                                    param_distributions=SVR_params,\n",
        "                                    cv=5,\n",
        "                                    scoring=\"neg_mean_squared_error\",\n",
        "                                    verbose=0,\n",
        "                                    return_train_score=True).fit(X_train, y_train)\n",
        "                                    \n",
        "best_rmse = math.sqrt(-fitted_model.best_score_)\n",
        "svr_estimator = fitted_model.best_estimator_\n",
        "\n",
        "# summarize result   \n",
        "print(\"Best cross validated rmse score: {}\".format(best_rmse))\n",
        "print('Best Hyperparameters: {}'.format(fitted_model.best_params_))\n",
        "\n",
        "# test the model on the test data \n",
        "preds = svr_estimator.predict(X_test)\n",
        "print(\"RMSE on test data: \", math.sqrt(metrics.mean_squared_error(y_test, preds)))\n",
        "results = pd.DataFrame(data={\"ter\":y_test,\"predicts\":preds})\n",
        "results.hist()"
      ],
      "id": "AP0VB1GrY53b",
      "execution_count": 76,
      "outputs": [
        {
          "output_type": "stream",
          "text": [
            "Best cross validated rmse score: 0.19793356008166602\n",
            "Best Hyperparameters: {'kernel': 'rbf', 'epsilon': 0.081, 'C': 5}\n",
            "RMSE on test data:  0.19757483545529453\n"
          ],
          "name": "stdout"
        },
        {
          "output_type": "execute_result",
          "data": {
            "text/plain": [
              "array([[<matplotlib.axes._subplots.AxesSubplot object at 0x7f784ffef358>,\n",
              "        <matplotlib.axes._subplots.AxesSubplot object at 0x7f784feff208>]],\n",
              "      dtype=object)"
            ]
          },
          "metadata": {
            "tags": []
          },
          "execution_count": 76
        },
        {
          "output_type": "display_data",
          "data": {
            "image/png": "[encoded data removed]",
            "text/plain": [
              "<Figure size 432x288 with 2 Axes>"
            ]
          },
          "metadata": {
            "tags": []
          }
        }
      ]
    },
    {
      "cell_type": "markdown",
      "metadata": {
        "id": "fr1bM9g0Frd6"
      },
      "source": [
        "### XGBRegressor"
      ],
      "id": "fr1bM9g0Frd6"
    },
    {
      "cell_type": "code",
      "metadata": {
        "colab": {
          "base_uri": "https://localhost:8080/",
          "height": 385
        },
        "id": "continuing-companion",
        "outputId": "f8034c06-bbca-4387-ad35-63cf035a7de9"
      },
      "source": [
        "XGB_params = {'n_estimators' : np.arange(100, 2000, 100),\n",
        "              'learning_rate': np.arange(0.01, 0.1, 0.01),\n",
        "              'max_depth': np.arange(1, 10, 1) # Maximum depth of a tree\n",
        "             }\n",
        "xgbr_model = XGBRegressor(verbosity=0)\n",
        "\n",
        "# execute search to get best estimator\n",
        "fitted_model = RandomizedSearchCV(xgbr_model,\n",
        "                                    param_distributions=XGB_params,\n",
        "                                    cv=5,\n",
        "                                    scoring=\"neg_mean_squared_error\",\n",
        "                                    verbose=0,\n",
        "                                    return_train_score=True).fit(X_train, y_train)\n",
        "\n",
        "best_rmse = math.sqrt(-fitted_model.best_score_)\n",
        "xbgr_estimator = fitted_model.best_estimator_\n",
        "\n",
        "# summarize result   \n",
        "print(\"Best cross validated rmse score: {}\".format(best_rmse))\n",
        "print('Best Hyperparameters: {}'.format(fitted_model.best_params_))\n",
        "\n",
        "# test the model on the test data \n",
        "preds = xbgr_estimator.predict(X_test)\n",
        "print(\"RMSE on test data: \", math.sqrt(metrics.mean_squared_error(y_test, preds)))\n",
        "results = pd.DataFrame(data={\"ter\":y_test,\"predicts\":preds})\n",
        "results.hist()"
      ],
      "id": "continuing-companion",
      "execution_count": 79,
      "outputs": [
        {
          "output_type": "stream",
          "text": [
            "Best cross validated rmse score: 0.19683964881191618\n",
            "Best Hyperparameters: {'n_estimators': 500, 'max_depth': 4, 'learning_rate': 0.01}\n",
            "RMSE on test data:  0.19439252671647725\n"
          ],
          "name": "stdout"
        },
        {
          "output_type": "execute_result",
          "data": {
            "text/plain": [
              "array([[<matplotlib.axes._subplots.AxesSubplot object at 0x7f784fe332e8>,\n",
              "        <matplotlib.axes._subplots.AxesSubplot object at 0x7f784fcfc080>]],\n",
              "      dtype=object)"
            ]
          },
          "metadata": {
            "tags": []
          },
          "execution_count": 79
        },
        {
          "output_type": "display_data",
          "data": {
            "image/png": "[encoded data removed]",
            "text/plain": [
              "<Figure size 432x288 with 2 Axes>"
            ]
          },
          "metadata": {
            "tags": []
          }
        }
      ]
    },
    {
      "cell_type": "markdown",
      "metadata": {
        "id": "AjqJ7z_2PW5B"
      },
      "source": [
        "### RandomForestRegressor"
      ],
      "id": "AjqJ7z_2PW5B"
    },
    {
      "cell_type": "code",
      "metadata": {
        "colab": {
          "base_uri": "https://localhost:8080/",
          "height": 385
        },
        "id": "8goqQKJFPCw5",
        "outputId": "55c96007-0cd8-4ec4-c2bb-7eacdf84a2ea"
      },
      "source": [
        "RFR_parms = {'n_estimators' : np.arange(10, 1000, 250), # Number of trees in random forest\n",
        "              'max_features': ['sqrt', 'log2'], # Number of features to consider at every split\n",
        "              'max_depth': np.append(np.arange(10, 50, 10) ,None), # Maximum number of levels in tree\n",
        "              'min_samples_leaf': np.arange(1, 15, 5), # Minimum number of samples required at each leaf node\n",
        "              'min_samples_split': np.arange(2, 20, 5), # Minimum number of samples required to split a node\n",
        "              'bootstrap' : [True, False] # Method of selecting samples for training each tree\n",
        "            }\n",
        "\n",
        "rfr_model = RandomForestRegressor()\n",
        "# execute search to get best estimator\n",
        "fitted_model = RandomizedSearchCV(rfr_model,\n",
        "                                    param_distributions=RFR_parms,\n",
        "                                    cv=5,\n",
        "                                    scoring=\"neg_mean_squared_error\",\n",
        "                                    verbose=0,\n",
        "                                    return_train_score=True).fit(X_train, y_train)\n",
        "\n",
        "best_rmse = math.sqrt((-1)*fitted_model.best_score_)\n",
        "rfr_estimator = fitted_model.best_estimator_\n",
        "\n",
        "# summarize result   \n",
        "print(\"Best cross validated rmse score: {}\".format(best_rmse))\n",
        "print('Best Hyperparameters: {}'.format(fitted_model.best_params_))\n",
        "\n",
        "# test the model on the test data \n",
        "preds = rfr_estimator.predict(X_test)\n",
        "print(\"RMSE on test data: \", math.sqrt(metrics.mean_squared_error(y_test, preds)))\n",
        "results = pd.DataFrame(data={\"ter\":y_test,\"predicts\":preds})\n",
        "results.hist()"
      ],
      "id": "8goqQKJFPCw5",
      "execution_count": 78,
      "outputs": [
        {
          "output_type": "stream",
          "text": [
            "Best cross validated rmse score: 0.19610662163712272\n",
            "Best Hyperparameters: {'n_estimators': 760, 'min_samples_split': 2, 'min_samples_leaf': 6, 'max_features': 'sqrt', 'max_depth': 10, 'bootstrap': True}\n",
            "RMSE on test data:  0.194580410629432\n"
          ],
          "name": "stdout"
        },
        {
          "output_type": "execute_result",
          "data": {
            "text/plain": [
              "array([[<matplotlib.axes._subplots.AxesSubplot object at 0x7f784feda550>,\n",
              "        <matplotlib.axes._subplots.AxesSubplot object at 0x7f7851264828>]],\n",
              "      dtype=object)"
            ]
          },
          "metadata": {
            "tags": []
          },
          "execution_count": 78
        },
        {
          "output_type": "display_data",
          "data": {
            "image/png": "[encoded data removed]",
            "text/plain": [
              "<Figure size 432x288 with 2 Axes>"
            ]
          },
          "metadata": {
            "tags": []
          }
        }
      ]
    },
    {
      "cell_type": "code",
      "metadata": {
        "colab": {
          "base_uri": "https://localhost:8080/"
        },
        "id": "P6nBxx1N0y6-",
        "outputId": "dc1a27bb-9b46-4b78-cf80-dcad769d20d8"
      },
      "source": [
        "m = RandomForestRegressor(n_estimators=760, min_samples_split=2, min_samples_leaf=6, max_features='sqrt', max_depth=10, bootstrap=True)\n",
        "pipppee = Pipeline([('scaler', QuantileTransformer()), ('model', m)])\n",
        "model = pipppee.fit(X_train, y_train)\n",
        "# test the model on the test data \n",
        "predsss = model.predict(X_test)\n",
        "print(\"RMSE on test data: \", math.sqrt(metrics.mean_squared_error(y_test, predsss)))"
      ],
      "id": "P6nBxx1N0y6-",
      "execution_count": 83,
      "outputs": [
        {
          "output_type": "stream",
          "text": [
            "RMSE on test data:  0.1945048849505882\n"
          ],
          "name": "stdout"
        }
      ]
    },
    {
      "cell_type": "code",
      "metadata": {
        "colab": {
          "base_uri": "https://localhost:8080/",
          "height": 350
        },
        "id": "DcW8247N2mhX",
        "outputId": "481fb2e9-1ec9-457a-d5b0-fd4774146997"
      },
      "source": [
        "pipppee = Pipeline([('scaler', MaxAbsScaler()), ('model',TransformedTargetRegressor(regressor=m, transformer=PowerTransformer()))])\n",
        "model = pipppee.fit(X_train, y_train)\n",
        "# test the model on the test data \n",
        "predsss = model.predict(X_test)\n",
        "print(\"RMSE on test data: \", math.sqrt(metrics.mean_squared_error(y_test, predsss)))\n",
        "results = pd.DataFrame(data={\"ter\":y_test,\"predicts\":preds})\n",
        "results.hist()"
      ],
      "id": "DcW8247N2mhX",
      "execution_count": 88,
      "outputs": [
        {
          "output_type": "stream",
          "text": [
            "RMSE on test data:  0.19594880717466345\n"
          ],
          "name": "stdout"
        },
        {
          "output_type": "execute_result",
          "data": {
            "text/plain": [
              "array([[<matplotlib.axes._subplots.AxesSubplot object at 0x7f784fc3f3c8>,\n",
              "        <matplotlib.axes._subplots.AxesSubplot object at 0x7f784fb9fc18>]],\n",
              "      dtype=object)"
            ]
          },
          "metadata": {
            "tags": []
          },
          "execution_count": 88
        },
        {
          "output_type": "display_data",
          "data": {
            "image/png": "[encoded data removed]",
            "text/plain": [
              "<Figure size 432x288 with 2 Axes>"
            ]
          },
          "metadata": {
            "tags": []
          }
        }
      ]
    },
    {
      "cell_type": "markdown",
      "metadata": {
        "id": "KNTdnHor4vSh"
      },
      "source": [
        "Trying many combinations, even sometimes with very low improvment we cannot build a model to know the quality of translation with just the data at hand and the features generated."
      ],
      "id": "KNTdnHor4vSh"
    },
    {
      "cell_type": "markdown",
      "metadata": {
        "id": "3TQUgcJ_Gbi9"
      },
      "source": [
        "## Balance the dataset\n"
      ],
      "id": "3TQUgcJ_Gbi9"
    },
    {
      "cell_type": "markdown",
      "metadata": {
        "id": "JK6yr9iG8DPC"
      },
      "source": [
        "Its true that the results so far are a bit better that before but the models are still far from generalizing, we are facing a problem of Imbalanced data since the predictions are always near the mean of the TER. For that reason we resort to SMOGN: a Pre-processing Approach for Imbalanced Regression. It is a Python implementation of Synthetic Minority Over-Sampling Technique for Regression with Gaussian Noise. SMOGN is the more advanced algorithm for resampling the rare cases for regression problems.\n",
        "\n",
        "*  [Smogon paper](http://proceedings.mlr.press/v74/branco17a/branco17a.pdf) \n",
        "\n",
        "*   [pyp package](https://pypi.org/project/smogn/)\n"
      ],
      "id": "JK6yr9iG8DPC"
    },
    {
      "cell_type": "code",
      "metadata": {
        "id": "fwS7YjbiGeT9"
      },
      "source": [
        "# !pip install smogn"
      ],
      "id": "fwS7YjbiGeT9",
      "execution_count": null,
      "outputs": []
    },
    {
      "cell_type": "code",
      "metadata": {
        "id": "sonic-diana"
      },
      "source": [
        "train, test = train_test_split(df_features, test_size = 0.1, random_state = 0)\n",
        "df = train.reset_index(drop=True)"
      ],
      "id": "sonic-diana",
      "execution_count": null,
      "outputs": []
    },
    {
      "cell_type": "code",
      "metadata": {
        "id": "lIDfP5qIGzQ7"
      },
      "source": [
        "import smogn\n",
        "\n",
        "# use SMOGN\n",
        "resampled_train = smogn.smoter(\n",
        "    df,                     ## training set  (pandas dataframe)\n",
        "    'TER',                      ## response variable y by name  (string)\n",
        "     k = 5,                    ## num of neighs for over-sampling  (pos int)\n",
        "    samp_method = \"balance\",   ## % over / under sample  (\"balance\" or extreme\")\n",
        "    )"
      ],
      "id": "lIDfP5qIGzQ7",
      "execution_count": null,
      "outputs": []
    },
    {
      "cell_type": "code",
      "metadata": {
        "id": "A_xJUirP6D8A"
      },
      "source": [
        "X_train = resampled_train[features_imp].values\n",
        "y_train = resampled_train[\"TER\"].values\n",
        "\n",
        "X_test = test[features_imp].values\n",
        "y_test = test[\"TER\"].values"
      ],
      "id": "A_xJUirP6D8A",
      "execution_count": null,
      "outputs": []
    },
    {
      "cell_type": "code",
      "metadata": {
        "colab": {
          "base_uri": "https://localhost:8080/",
          "height": 405
        },
        "id": "WQ8lAgxSHqjL",
        "outputId": "5ba0fac8-b0c6-4225-fe6d-b9c04683f40a"
      },
      "source": [
        "f, ax = plt.subplots(figsize=(5, 5))\n",
        "sns.distplot(resampled_train['TER'], color=\"c\", axlabel='TER')\n",
        "ax.set(title=\"Histogram for TER on resampled train\")\n",
        "plt.show()"
      ],
      "id": "WQ8lAgxSHqjL",
      "execution_count": 6,
      "outputs": [
        {
          "output_type": "stream",
          "text": [
            "/usr/local/lib/python3.6/dist-packages/seaborn/distributions.py:2557: FutureWarning: `distplot` is a deprecated function and will be removed in a future version. Please adapt your code to use either `displot` (a figure-level function with similar flexibility) or `histplot` (an axes-level function for histograms).\n",
            "  warnings.warn(msg, FutureWarning)\n"
          ],
          "name": "stderr"
        },
        {
          "output_type": "display_data",
          "data": {
            "image/png": "[encoded data removed]",
            "text/plain": [
              "<Figure size 360x360 with 1 Axes>"
            ]
          },
          "metadata": {
            "tags": []
          }
        }
      ]
    },
    {
      "cell_type": "code",
      "metadata": {
        "colab": {
          "base_uri": "https://localhost:8080/",
          "height": 405
        },
        "id": "8xqFQkJWHmxa",
        "outputId": "58e4ea30-d408-4467-da98-44d16ab970ff"
      },
      "source": [
        "f, ax = plt.subplots(figsize=(5, 5))\n",
        "sns.distplot(train['TER'], color=\"c\", axlabel='TER')\n",
        "ax.set(title=\"Histogram for TER on actual train\")\n",
        "plt.show()"
      ],
      "id": "8xqFQkJWHmxa",
      "execution_count": 7,
      "outputs": [
        {
          "output_type": "stream",
          "text": [
            "/usr/local/lib/python3.6/dist-packages/seaborn/distributions.py:2557: FutureWarning: `distplot` is a deprecated function and will be removed in a future version. Please adapt your code to use either `displot` (a figure-level function with similar flexibility) or `histplot` (an axes-level function for histograms).\n",
            "  warnings.warn(msg, FutureWarning)\n"
          ],
          "name": "stderr"
        },
        {
          "output_type": "display_data",
          "data": {
            "image/png": "[encoded data removed]",
            "text/plain": [
              "<Figure size 360x360 with 1 Axes>"
            ]
          },
          "metadata": {
            "tags": []
          }
        }
      ]
    },
    {
      "cell_type": "markdown",
      "metadata": {
        "id": "c3MuFiSqhuS6"
      },
      "source": [
        "### BaseLine"
      ],
      "id": "c3MuFiSqhuS6"
    },
    {
      "cell_type": "code",
      "metadata": {
        "colab": {
          "base_uri": "https://localhost:8080/",
          "height": 412
        },
        "id": "-CfRoq6JHmz6",
        "outputId": "a0969eab-0da0-4120-9243-c3453a23cb1b"
      },
      "source": [
        "models , model_names = get_baseline_models()\n",
        "scores = evaluate_models(X_train, y_train, models)\n",
        "\n",
        "type_col = ['b_baseline_models']\n",
        "cols = pd.MultiIndex.from_product([type_col, ['RMSE', 'MAE']])\n",
        "evaluation_final = pd.DataFrame(scores, columns=cols, index=model_names)\n",
        "\n",
        "print(\"Following are the cross validated scores: \")\n",
        "evaluation_final"
      ],
      "id": "-CfRoq6JHmz6",
      "execution_count": 95,
      "outputs": [
        {
          "output_type": "stream",
          "text": [
            "Following are the cross validated scores: \n"
          ],
          "name": "stdout"
        },
        {
          "output_type": "execute_result",
          "data": {
            "text/html": [
              "<div>\n",
              "<style scoped>\n",
              "    .dataframe tbody tr th:only-of-type {\n",
              "        vertical-align: middle;\n",
              "    }\n",
              "\n",
              "    .dataframe tbody tr th {\n",
              "        vertical-align: top;\n",
              "    }\n",
              "\n",
              "    .dataframe thead tr th {\n",
              "        text-align: left;\n",
              "    }\n",
              "</style>\n",
              "<table border=\"1\" class=\"dataframe\">\n",
              "  <thead>\n",
              "    <tr>\n",
              "      <th></th>\n",
              "      <th colspan=\"2\" halign=\"left\">b_baseline_models</th>\n",
              "    </tr>\n",
              "    <tr>\n",
              "      <th></th>\n",
              "      <th>RMSE</th>\n",
              "      <th>MAE</th>\n",
              "    </tr>\n",
              "  </thead>\n",
              "  <tbody>\n",
              "    <tr>\n",
              "      <th>SVR</th>\n",
              "      <td>0.220983</td>\n",
              "      <td>0.180919</td>\n",
              "    </tr>\n",
              "    <tr>\n",
              "      <th>XGBRegressor</th>\n",
              "      <td>0.210688</td>\n",
              "      <td>0.172834</td>\n",
              "    </tr>\n",
              "    <tr>\n",
              "      <th>AdaBoostRegressor</th>\n",
              "      <td>0.121382</td>\n",
              "      <td>0.067794</td>\n",
              "    </tr>\n",
              "    <tr>\n",
              "      <th>GradientBoostingRegressor</th>\n",
              "      <td>0.210462</td>\n",
              "      <td>0.172702</td>\n",
              "    </tr>\n",
              "    <tr>\n",
              "      <th>DecisionTreeRegressor</th>\n",
              "      <td>0.190686</td>\n",
              "      <td>0.103041</td>\n",
              "    </tr>\n",
              "    <tr>\n",
              "      <th>RandomForestRegressor</th>\n",
              "      <td>0.141153</td>\n",
              "      <td>0.108176</td>\n",
              "    </tr>\n",
              "    <tr>\n",
              "      <th>ExtraTreesRegressor</th>\n",
              "      <td>0.121107</td>\n",
              "      <td>0.069881</td>\n",
              "    </tr>\n",
              "    <tr>\n",
              "      <th>KNeighborsRegressor</th>\n",
              "      <td>0.219812</td>\n",
              "      <td>0.177399</td>\n",
              "    </tr>\n",
              "    <tr>\n",
              "      <th>Ridge</th>\n",
              "      <td>0.223188</td>\n",
              "      <td>0.183205</td>\n",
              "    </tr>\n",
              "    <tr>\n",
              "      <th>Lasso</th>\n",
              "      <td>0.231006</td>\n",
              "      <td>0.191141</td>\n",
              "    </tr>\n",
              "  </tbody>\n",
              "</table>\n",
              "</div>"
            ],
            "text/plain": [
              "                          b_baseline_models          \n",
              "                                       RMSE       MAE\n",
              "SVR                        0.220983          0.180919\n",
              "XGBRegressor               0.210688          0.172834\n",
              "AdaBoostRegressor          0.121382          0.067794\n",
              "GradientBoostingRegressor  0.210462          0.172702\n",
              "DecisionTreeRegressor      0.190686          0.103041\n",
              "RandomForestRegressor      0.141153          0.108176\n",
              "ExtraTreesRegressor        0.121107          0.069881\n",
              "KNeighborsRegressor        0.219812          0.177399\n",
              "Ridge                      0.223188          0.183205\n",
              "Lasso                      0.231006          0.191141"
            ]
          },
          "metadata": {
            "tags": []
          },
          "execution_count": 95
        }
      ]
    },
    {
      "cell_type": "markdown",
      "metadata": {
        "id": "xZwhONy_5y1r"
      },
      "source": [
        "We can already see better performance"
      ],
      "id": "xZwhONy_5y1r"
    },
    {
      "cell_type": "markdown",
      "metadata": {
        "id": "g5r-f5fL6Sc5"
      },
      "source": [
        "### Extra Tree"
      ],
      "id": "g5r-f5fL6Sc5"
    },
    {
      "cell_type": "code",
      "metadata": {
        "id": "63e_MIHcWM1s",
        "colab": {
          "base_uri": "https://localhost:8080/",
          "height": 385
        },
        "outputId": "83868fae-46f9-4ace-b5d5-5eda21a5f98d"
      },
      "source": [
        "ExtraT_params = {'n_estimators' : np.arange(50, 1000, 50) # Number of trees in the forest\n",
        "                }\n",
        "\n",
        "etr_model = ExtraTreesRegressor()\n",
        "\n",
        "# execute search to get best estimator\n",
        "fitted_model = RandomizedSearchCV(etr_model,\n",
        "                                    param_distributions=ExtraT_params,\n",
        "                                    cv=5,\n",
        "                                    scoring=\"neg_mean_squared_error\",\n",
        "                                    verbose=0,\n",
        "                                    return_train_score=True).fit(X_train, y_train)\n",
        "\n",
        "best_rmse = math.sqrt((-1)*fitted_model.best_score_)\n",
        "etr_estimator = fitted_model.best_estimator_\n",
        "\n",
        "# summarize result   \n",
        "print(\"Best cross validated rmse score: {}\".format(best_rmse))\n",
        "print('Best Hyperparameters: {}'.format(fitted_model.best_params_))\n",
        "\n",
        "# test the model on the test data \n",
        "preds = etr_estimator.predict(X_test)\n",
        "print(\"RMSE on test data: \", math.sqrt(metrics.mean_squared_error(y_test, preds)))\n",
        "results = pd.DataFrame(data={\"ter\":y_test,\"predicts\":preds})\n",
        "results.hist()"
      ],
      "id": "63e_MIHcWM1s",
      "execution_count": 96,
      "outputs": [
        {
          "output_type": "stream",
          "text": [
            "Best cross validated rmse score: 0.12025780375512449\n",
            "Best Hyperparameters: {'n_estimators': 600}\n",
            "RMSE on test data:  0.19269561188410791\n"
          ],
          "name": "stdout"
        },
        {
          "output_type": "execute_result",
          "data": {
            "text/plain": [
              "array([[<matplotlib.axes._subplots.AxesSubplot object at 0x7f784e5d5be0>,\n",
              "        <matplotlib.axes._subplots.AxesSubplot object at 0x7f784e2ff5f8>]],\n",
              "      dtype=object)"
            ]
          },
          "metadata": {
            "tags": []
          },
          "execution_count": 96
        },
        {
          "output_type": "display_data",
          "data": {
            "image/png": "[encoded data removed]",
            "text/plain": [
              "<Figure size 432x288 with 2 Axes>"
            ]
          },
          "metadata": {
            "tags": []
          }
        }
      ]
    },
    {
      "cell_type": "code",
      "metadata": {
        "colab": {
          "base_uri": "https://localhost:8080/"
        },
        "id": "NN7Alqd14Y5g",
        "outputId": "457dd958-974a-4f18-a0a8-24af46c51913"
      },
      "source": [
        "# Trying out with several scaling such as StandardScaler, MinMaxScaler or Power transformers, etc. MaxAbsScaler enhanced the results\n",
        "pippee = Pipeline([('scaler', MaxAbsScaler()), ('model', ExtraTreesRegressor(n_estimators=600))])\n",
        "model = pippee.fit(X_train, y_train)\n",
        "predsss = model.predict(X_test)\n",
        "print(\"RMSE on test data: \", math.sqrt(metrics.mean_squared_error(y_test, predsss)))"
      ],
      "id": "NN7Alqd14Y5g",
      "execution_count": 98,
      "outputs": [
        {
          "output_type": "stream",
          "text": [
            "RMSE on test data:  0.19206511331678358\n"
          ],
          "name": "stdout"
        }
      ]
    },
    {
      "cell_type": "code",
      "metadata": {
        "colab": {
          "base_uri": "https://localhost:8080/"
        },
        "id": "1g19Aatl4bp7",
        "outputId": "c47fdebf-3bc4-481d-a319-073e2f1684ef"
      },
      "source": [
        "pipppee = Pipeline([('scaler', MaxAbsScaler()), ('model',TransformedTargetRegressor(regressor=ExtraTreesRegressor(n_estimators=600), transformer=PowerTransformer()))])\n",
        "model3 = pipppee.fit(X_train, y_train)\n",
        "predsss = model3.predict(X_test)\n",
        "print(\"RMSE on test data: \", math.sqrt(metrics.mean_squared_error(y_test, predsss)))"
      ],
      "id": "1g19Aatl4bp7",
      "execution_count": 99,
      "outputs": [
        {
          "output_type": "stream",
          "text": [
            "RMSE on test data:  0.19187336423762547\n"
          ],
          "name": "stdout"
        }
      ]
    },
    {
      "cell_type": "code",
      "metadata": {
        "colab": {
          "base_uri": "https://localhost:8080/"
        },
        "id": "OV2fKPou4e9I",
        "outputId": "30a23295-e4e1-4470-a14b-bae5da3ef12f"
      },
      "source": [
        "pipppee = Pipeline([('scaler', MinMaxScaler()), ('model',TransformedTargetRegressor(regressor=ExtraTreesRegressor(n_estimators=900), transformer=PowerTransformer()))])\n",
        "model3 = pipppee.fit(X_train, y_train)\n",
        "predsss = model3.predict(X_test)\n",
        "print(\"RMSE on test data: \", math.sqrt(metrics.mean_squared_error(y_test, predsss)))"
      ],
      "id": "OV2fKPou4e9I",
      "execution_count": 106,
      "outputs": [
        {
          "output_type": "stream",
          "text": [
            "RMSE on test data:  0.1917593392879913\n"
          ],
          "name": "stdout"
        }
      ]
    },
    {
      "cell_type": "markdown",
      "metadata": {
        "id": "veoConDEB-QN"
      },
      "source": [
        "The results are getting better."
      ],
      "id": "veoConDEB-QN"
    },
    {
      "cell_type": "markdown",
      "metadata": {
        "id": "clkV-SJm-2pz"
      },
      "source": [
        "### AdaBoost"
      ],
      "id": "clkV-SJm-2pz"
    },
    {
      "cell_type": "code",
      "metadata": {
        "colab": {
          "base_uri": "https://localhost:8080/",
          "height": 385
        },
        "id": "NvxiCUgaXgfm",
        "outputId": "5e02ecdd-0cbb-44ba-8006-6ae6a7590473"
      },
      "source": [
        "Ada_params = {'n_estimators' : np.arange(50,1000,50),\n",
        "              'learning_rate': np.arange(0.01, 0.1, 0.01)}\n",
        "\n",
        "adar_model = AdaBoostRegressor()\n",
        "\n",
        "# execute search to get best estimator\n",
        "fitted_model = RandomizedSearchCV(adar_model,\n",
        "                                    param_distributions=Ada_params,\n",
        "                                    cv=5,\n",
        "                                    scoring=\"neg_mean_squared_error\",\n",
        "                                    verbose=0,\n",
        "                                    return_train_score=True).fit(X_train, y_train)\n",
        "\n",
        "best_rmse = math.sqrt((-1)*fitted_model.best_score_)\n",
        "adar_estimator = fitted_model.best_estimator_\n",
        "\n",
        "# summarize result   \n",
        "print(\"Best cross validated rmse score: {}\".format(best_rmse))\n",
        "print('Best Hyperparameters: {}'.format(fitted_model.best_params_))\n",
        "\n",
        "# test the model on the test data \n",
        "preds = adar_estimator.predict(X_test)\n",
        "print(\"RMSE on test data: \", math.sqrt(metrics.mean_squared_error(y_test, preds)))\n",
        "results = pd.DataFrame(data={\"ter\":y_test,\"predicts\":preds})\n",
        "results.hist()"
      ],
      "id": "NvxiCUgaXgfm",
      "execution_count": 109,
      "outputs": [
        {
          "output_type": "stream",
          "text": [
            "Best cross validated rmse score: 0.22126909227013872\n",
            "Best Hyperparameters: {'n_estimators': 150, 'learning_rate': 0.09}\n",
            "RMSE on test data:  0.21914006533506675\n"
          ],
          "name": "stdout"
        },
        {
          "output_type": "execute_result",
          "data": {
            "text/plain": [
              "array([[<matplotlib.axes._subplots.AxesSubplot object at 0x7f784e20f4a8>,\n",
              "        <matplotlib.axes._subplots.AxesSubplot object at 0x7f784e6daba8>]],\n",
              "      dtype=object)"
            ]
          },
          "metadata": {
            "tags": []
          },
          "execution_count": 109
        },
        {
          "output_type": "display_data",
          "data": {
            "image/png": "[encoded data removed]",
            "text/plain": [
              "<Figure size 432x288 with 2 Axes>"
            ]
          },
          "metadata": {
            "tags": []
          }
        }
      ]
    },
    {
      "cell_type": "code",
      "metadata": {
        "colab": {
          "base_uri": "https://localhost:8080/",
          "height": 282
        },
        "id": "WGv-76CpFvOj",
        "outputId": "f0ff30be-3563-43de-961c-81bf71cd0278"
      },
      "source": [
        "(results[\"ter\"] - results[\"predicts\"]).hist()"
      ],
      "id": "WGv-76CpFvOj",
      "execution_count": 117,
      "outputs": [
        {
          "output_type": "execute_result",
          "data": {
            "text/plain": [
              "<matplotlib.axes._subplots.AxesSubplot at 0x7f784f93ec50>"
            ]
          },
          "metadata": {
            "tags": []
          },
          "execution_count": 117
        },
        {
          "output_type": "display_data",
          "data": {
            "image/png": "[encoded data removed]",
            "text/plain": [
              "<Figure size 432x288 with 1 Axes>"
            ]
          },
          "metadata": {
            "tags": []
          }
        }
      ]
    },
    {
      "cell_type": "markdown",
      "metadata": {
        "id": "TYJwjkW4EmAn"
      },
      "source": [
        "Tunning the hyper parameters of Random forests regressor"
      ],
      "id": "TYJwjkW4EmAn"
    },
    {
      "cell_type": "code",
      "metadata": {
        "colab": {
          "base_uri": "https://localhost:8080/",
          "height": 385
        },
        "id": "V6NVolZCXs0B",
        "outputId": "d5b654e3-8227-48b2-f031-aacb3b3d0c9b"
      },
      "source": [
        "RFR_parms = {'n_estimators' : np.arange(10, 1000, 250), # Number of trees in random forest\n",
        "              'max_features': ['sqrt', 'log2'], # Number of features to consider at every split\n",
        "              'max_depth': np.append(np.arange(10, 50, 10) ,None), # Maximum number of levels in tree\n",
        "              'min_samples_leaf': np.arange(1, 15, 5), # Minimum number of samples required at each leaf node\n",
        "              'min_samples_split': np.arange(2, 20, 5), # Minimum number of samples required to split a node\n",
        "              'bootstrap' : [True, False] # Method of selecting samples for training each tree\n",
        "            }\n",
        "\n",
        "rfr_model = RandomForestRegressor()\n",
        "# execute search to get best estimator\n",
        "fitted_model = RandomizedSearchCV(rfr_model,\n",
        "                                    param_distributions=RFR_parms,\n",
        "                                    cv=5,\n",
        "                                    scoring=\"neg_mean_squared_error\",\n",
        "                                    verbose=0,\n",
        "                                    return_train_score=True).fit(X_train, y_train)\n",
        "\n",
        "best_rmse = math.sqrt((-1)*fitted_model.best_score_)\n",
        "rfr_estimator = fitted_model.best_estimator_\n",
        "\n",
        "# summarize result   \n",
        "print(\"Best cross validated rmse score: {}\".format(best_rmse))\n",
        "print('Best Hyperparameters: {}'.format(fitted_model.best_params_))\n",
        "\n",
        "# test the model on the test data \n",
        "preds = rfr_estimator.predict(X_test)\n",
        "print(\"RMSE on test data: \", math.sqrt(metrics.mean_squared_error(y_test, preds)))\n",
        "results = pd.DataFrame(data={\"ter\":y_test,\"predicts\":preds})\n",
        "results.hist()"
      ],
      "id": "V6NVolZCXs0B",
      "execution_count": 118,
      "outputs": [
        {
          "output_type": "stream",
          "text": [
            "Best cross validated rmse score: 0.14476116100726255\n",
            "Best Hyperparameters: {'n_estimators': 510, 'min_samples_split': 12, 'min_samples_leaf': 1, 'max_features': 'log2', 'max_depth': 40, 'bootstrap': False}\n",
            "RMSE on test data:  0.19422122477207338\n"
          ],
          "name": "stdout"
        },
        {
          "output_type": "execute_result",
          "data": {
            "text/plain": [
              "array([[<matplotlib.axes._subplots.AxesSubplot object at 0x7f7851225780>,\n",
              "        <matplotlib.axes._subplots.AxesSubplot object at 0x7f785123b9e8>]],\n",
              "      dtype=object)"
            ]
          },
          "metadata": {
            "tags": []
          },
          "execution_count": 118
        },
        {
          "output_type": "display_data",
          "data": {
            "image/png": "[encoded data removed]",
            "text/plain": [
              "<Figure size 432x288 with 2 Axes>"
            ]
          },
          "metadata": {
            "tags": []
          }
        }
      ]
    },
    {
      "cell_type": "code",
      "metadata": {
        "colab": {
          "base_uri": "https://localhost:8080/"
        },
        "id": "GhHJbOUuH7w8",
        "outputId": "ed9e1f2b-95e7-4d93-f142-6ab5877d84a7"
      },
      "source": [
        "pipppee = Pipeline([('scaler', PowerTransformer()), ('model',TransformedTargetRegressor(regressor=RandomForestRegressor(n_estimators=510,\n",
        "                                                                                                                   min_samples_split=12,\n",
        "                                                                                                                   min_samples_leaf=1,\n",
        "                                                                                                                    max_features='log2',\n",
        "                                                                                                                    max_depth=40,\n",
        "                                                                                                                    bootstrap=False), \n",
        "                                                                                    transformer=MinMaxScaler()))])\n",
        "model3 = pipppee.fit(X_train, y_train)\n",
        "predsss = model3.predict(X_test)\n",
        "print(\"RMSE on test data: \", math.sqrt(metrics.mean_squared_error(y_test, predsss)))"
      ],
      "id": "GhHJbOUuH7w8",
      "execution_count": 123,
      "outputs": [
        {
          "output_type": "stream",
          "text": [
            "RMSE on test data:  0.19396443127865698\n"
          ],
          "name": "stdout"
        }
      ]
    },
    {
      "cell_type": "code",
      "metadata": {
        "colab": {
          "base_uri": "https://localhost:8080/"
        },
        "id": "kCxMXscJHWRu",
        "outputId": "2ea920d9-e01c-4843-f18a-4d76d2823e44"
      },
      "source": [
        "pipppee = Pipeline([('scaler', MaxAbsScaler()), ('model',TransformedTargetRegressor(regressor=RandomForestRegressor(n_estimators=510,\n",
        "                                                                                                                   min_samples_split=12,\n",
        "                                                                                                                   min_samples_leaf=1,\n",
        "                                                                                                                    max_features='log2',\n",
        "                                                                                                                    max_depth=40,\n",
        "                                                                                                                    bootstrap=False), transformer=PowerTransformer()))])\n",
        "model3 = pipppee.fit(X_train, y_train)\n",
        "predsss = model3.predict(X_test)\n",
        "print(\"RMSE on test data: \", math.sqrt(metrics.mean_squared_error(y_test, predsss)))"
      ],
      "id": "kCxMXscJHWRu",
      "execution_count": 120,
      "outputs": [
        {
          "output_type": "stream",
          "text": [
            "RMSE on test data:  0.19346196213728847\n"
          ],
          "name": "stdout"
        }
      ]
    },
    {
      "cell_type": "code",
      "metadata": {
        "colab": {
          "base_uri": "https://localhost:8080/"
        },
        "id": "U5eqNHAXHv-w",
        "outputId": "f228d146-e165-4083-f566-b28043322285"
      },
      "source": [
        "pipppee = Pipeline([('scaler', StandardScaler()), ('model',TransformedTargetRegressor(regressor=RandomForestRegressor(n_estimators=510,\n",
        "                                                                                                                   min_samples_split=12,\n",
        "                                                                                                                   min_samples_leaf=1,\n",
        "                                                                                                                    max_features='log2',\n",
        "                                                                                                                    max_depth=40,\n",
        "                                                                                                                    bootstrap=False), \n",
        "                                                                                    transformer=PowerTransformer()))])\n",
        "model3 = pipppee.fit(X_train, y_train)\n",
        "predsss = model3.predict(X_test)\n",
        "print(\"RMSE on test data: \", math.sqrt(metrics.mean_squared_error(y_test, predsss)))"
      ],
      "id": "U5eqNHAXHv-w",
      "execution_count": 121,
      "outputs": [
        {
          "output_type": "stream",
          "text": [
            "RMSE on test data:  0.19362408542009196\n"
          ],
          "name": "stdout"
        }
      ]
    },
    {
      "cell_type": "markdown",
      "metadata": {
        "id": "t7Wk6P5wg3UX"
      },
      "source": [
        "### GredientBoosting"
      ],
      "id": "t7Wk6P5wg3UX"
    },
    {
      "cell_type": "code",
      "metadata": {
        "id": "enlcz73NYVEK",
        "colab": {
          "base_uri": "https://localhost:8080/",
          "height": 385
        },
        "outputId": "a9dc1431-3f4d-4fe8-8d76-a01312f387f1"
      },
      "source": [
        "GBR_params = {'n_estimators' : np.arange(100, 500, 50), # Number of boosting stages to perform\n",
        "              'learning_rate': np.arange(0.01, 0.1, 0.01),\n",
        "              'max_depth': np.arange(2, 10, 1), # Maximum depth of the individual regression estimators\n",
        "              'min_samples_leaf': np.arange(100, 200, 10), # Minimum number of samples required to be at a leaf node\n",
        "              'alpha': np.arange(0.7, 0.9, 0.05)\n",
        "             }\n",
        "\n",
        "gbr_model = GradientBoostingRegressor()\n",
        "\n",
        "# execute search to get estimators\n",
        "fitted_model = RandomizedSearchCV(gbr_model,\n",
        "                                    param_distributions=GBR_params,\n",
        "                                    cv=5,\n",
        "                                    scoring=\"neg_mean_squared_error\",\n",
        "                                    verbose=0,\n",
        "                                    return_train_score=True).fit(X_train, y_train)\n",
        "\n",
        "best_rmse = math.sqrt(-fitted_model.best_score_)\n",
        "gbr_estimator = fitted_model.best_estimator_\n",
        "\n",
        "# summarize result   \n",
        "print(\"Best cross validated rmse score: {}\".format(best_rmse))\n",
        "print('Best Hyperparameters: {}'.format(fitted_model.best_params_))\n",
        "\n",
        "# test the model on the test data \n",
        "preds = gbr_estimator.predict(X_test)\n",
        "print(\"RMSE on test data: \", math.sqrt(metrics.mean_squared_error(y_test, preds)))\n",
        "results = pd.DataFrame(data={\"ter\":y_test,\"predicts\":preds})\n",
        "results.hist()"
      ],
      "id": "enlcz73NYVEK",
      "execution_count": 125,
      "outputs": [
        {
          "output_type": "stream",
          "text": [
            "Best cross validated rmse score: 0.19197313895601628\n",
            "Best Hyperparameters: {'n_estimators': 300, 'min_samples_leaf': 160, 'max_depth': 8, 'learning_rate': 0.09, 'alpha': 0.7}\n",
            "RMSE on test data:  0.2027695677954815\n"
          ],
          "name": "stdout"
        },
        {
          "output_type": "execute_result",
          "data": {
            "text/plain": [
              "array([[<matplotlib.axes._subplots.AxesSubplot object at 0x7f784ffefcc0>,\n",
              "        <matplotlib.axes._subplots.AxesSubplot object at 0x7f78643d52e8>]],\n",
              "      dtype=object)"
            ]
          },
          "metadata": {
            "tags": []
          },
          "execution_count": 125
        },
        {
          "output_type": "display_data",
          "data": {
            "image/png": "[encoded data removed]",
            "text/plain": [
              "<Figure size 432x288 with 2 Axes>"
            ]
          },
          "metadata": {
            "tags": []
          }
        }
      ]
    },
    {
      "cell_type": "code",
      "metadata": {
        "id": "Lgik25rYg8s3",
        "colab": {
          "base_uri": "https://localhost:8080/",
          "height": 282
        },
        "outputId": "72608c86-dd08-4a06-cbf6-03ef67271077"
      },
      "source": [
        "(results[\"ter\"] - results[\"predicts\"]).hist()"
      ],
      "id": "Lgik25rYg8s3",
      "execution_count": 126,
      "outputs": [
        {
          "output_type": "execute_result",
          "data": {
            "text/plain": [
              "<matplotlib.axes._subplots.AxesSubplot at 0x7f784f955d68>"
            ]
          },
          "metadata": {
            "tags": []
          },
          "execution_count": 126
        },
        {
          "output_type": "display_data",
          "data": {
            "image/png": "[encoded data removed]",
            "text/plain": [
              "<Figure size 432x288 with 1 Axes>"
            ]
          },
          "metadata": {
            "tags": []
          }
        }
      ]
    },
    {
      "cell_type": "code",
      "metadata": {
        "id": "9He92DX0g9U4",
        "colab": {
          "base_uri": "https://localhost:8080/"
        },
        "outputId": "e63aff98-8cf4-4fca-d92d-97273cd7272a"
      },
      "source": [
        "pipppee = Pipeline([('scaler', StandardScaler()), ('model',TransformedTargetRegressor(regressor=GradientBoostingRegressor(n_estimators=300,\n",
        "                                                                                                                   learning_rate=0.09,\n",
        "                                                                                                                   min_samples_leaf=160,\n",
        "                                                                                                                    max_features='log2',\n",
        "                                                                                                                    max_depth=8,\n",
        "                                                                                                                    alpha=0.7), \n",
        "                                                                                    transformer=PowerTransformer()))])\n",
        "model3 = pipppee.fit(X_train, y_train)\n",
        "predsss = model3.predict(X_test)\n",
        "print(\"RMSE on test data: \", math.sqrt(metrics.mean_squared_error(y_test, predsss)))"
      ],
      "id": "9He92DX0g9U4",
      "execution_count": 127,
      "outputs": [
        {
          "output_type": "stream",
          "text": [
            "RMSE on test data:  0.19857666714765618\n"
          ],
          "name": "stdout"
        }
      ]
    },
    {
      "cell_type": "code",
      "metadata": {
        "colab": {
          "base_uri": "https://localhost:8080/"
        },
        "id": "G6x1x9ypL8Xf",
        "outputId": "eed91f10-9e3f-49e1-8800-405a3c3d7d9a"
      },
      "source": [
        "pipppee = Pipeline([('scaler', MinMaxScaler()), ('model',TransformedTargetRegressor(regressor=GradientBoostingRegressor(n_estimators=300,\n",
        "                                                                                                                   learning_rate=0.09,\n",
        "                                                                                                                   min_samples_leaf=160,\n",
        "                                                                                                                    max_features='log2',\n",
        "                                                                                                                    max_depth=8,\n",
        "                                                                                                                    alpha=0.7), \n",
        "                                                                                    transformer=PowerTransformer()))])\n",
        "model3 = pipppee.fit(X_train, y_train)\n",
        "predsss = model3.predict(X_test)\n",
        "print(\"RMSE on test data: \", math.sqrt(metrics.mean_squared_error(y_test, predsss)))"
      ],
      "id": "G6x1x9ypL8Xf",
      "execution_count": 128,
      "outputs": [
        {
          "output_type": "stream",
          "text": [
            "RMSE on test data:  0.19801305956858528\n"
          ],
          "name": "stdout"
        }
      ]
    },
    {
      "cell_type": "markdown",
      "metadata": {
        "id": "ED8y8vASen1F"
      },
      "source": [
        "Regardless of major improvment in the mean score of cross validation while performing hyperparameter finetunning with Randomized search. There is overfitting as the RMSE on the test set is much higher than that on the training set. It seems that we need more data and better distribution of the TER.\n",
        "Extra Tree Regressor is the best that we achieved. Achieving 0.1202 on train data and 0.1917 RMSE on test data"
      ],
      "id": "ED8y8vASen1F"
    },
    {
      "cell_type": "code",
      "metadata": {
        "id": "QudSWOeJMI2U"
      },
      "source": [
        ""
      ],
      "id": "QudSWOeJMI2U",
      "execution_count": null,
      "outputs": []
    }
  ]
}